{
 "cells": [
  {
   "cell_type": "markdown",
   "metadata": {},
   "source": [
    "Data source: http://www.cpc.unc.edu/projects/nangrong/data/publicuse_data/public00.html\n",
    "\n",
    "Variables Name http://sasweb.unc.edu/cgi-bin/broker?_service=default&_program=nangrong.surlists.sas&_debug=0&survstat=1hh____002000ph"
   ]
  },
  {
   "cell_type": "code",
   "execution_count": 48,
   "metadata": {
    "collapsed": true
   },
   "outputs": [],
   "source": [
    "import pandas as pd\n",
    "import numpy as np\n",
    "import matplotlib.pyplot as plt\n",
    "\n",
    "%matplotlib inline\n"
   ]
  },
  {
   "cell_type": "code",
   "execution_count": 54,
   "metadata": {
    "collapsed": false
   },
   "outputs": [
    {
     "data": {
      "text/html": [
       "<div>\n",
       "<table border=\"1\" class=\"dataframe\">\n",
       "  <thead>\n",
       "    <tr style=\"text-align: right;\">\n",
       "      <th></th>\n",
       "      <th>HHTYPE00</th>\n",
       "      <th>INTID</th>\n",
       "      <th>SUPVID</th>\n",
       "      <th>SUPVDAY</th>\n",
       "      <th>SUPVMNTH</th>\n",
       "      <th>EDITORID</th>\n",
       "      <th>EDITDAY</th>\n",
       "      <th>EDITMNTH</th>\n",
       "      <th>CODERID</th>\n",
       "      <th>CODEDAY</th>\n",
       "      <th>...</th>\n",
       "      <th>X6_90RM2</th>\n",
       "      <th>X6_90RM3</th>\n",
       "      <th>X6_90RM4</th>\n",
       "      <th>X6_96L1</th>\n",
       "      <th>X6_96L2</th>\n",
       "      <th>X6103L1</th>\n",
       "      <th>X6103L2</th>\n",
       "      <th>PHHID84</th>\n",
       "      <th>PHHID94</th>\n",
       "      <th>PHHID00</th>\n",
       "    </tr>\n",
       "  </thead>\n",
       "  <tbody>\n",
       "    <tr>\n",
       "      <th>50</th>\n",
       "      <td>1.0</td>\n",
       "      <td>55.0</td>\n",
       "      <td>50.0</td>\n",
       "      <td>27.0</td>\n",
       "      <td>3.0</td>\n",
       "      <td>91.0</td>\n",
       "      <td>15.0</td>\n",
       "      <td>4.0</td>\n",
       "      <td>90.0</td>\n",
       "      <td>10.0</td>\n",
       "      <td>...</td>\n",
       "      <td></td>\n",
       "      <td></td>\n",
       "      <td></td>\n",
       "      <td></td>\n",
       "      <td></td>\n",
       "      <td></td>\n",
       "      <td></td>\n",
       "      <td>0.0</td>\n",
       "      <td>7038.0</td>\n",
       "      <td>56.0</td>\n",
       "    </tr>\n",
       "    <tr>\n",
       "      <th>51</th>\n",
       "      <td>1.0</td>\n",
       "      <td>25.0</td>\n",
       "      <td>20.0</td>\n",
       "      <td>7.0</td>\n",
       "      <td>5.0</td>\n",
       "      <td>91.0</td>\n",
       "      <td>19.0</td>\n",
       "      <td>5.0</td>\n",
       "      <td>92.0</td>\n",
       "      <td>20.0</td>\n",
       "      <td>...</td>\n",
       "      <td></td>\n",
       "      <td></td>\n",
       "      <td></td>\n",
       "      <td></td>\n",
       "      <td></td>\n",
       "      <td></td>\n",
       "      <td></td>\n",
       "      <td>0.0</td>\n",
       "      <td>7169.0</td>\n",
       "      <td>57.0</td>\n",
       "    </tr>\n",
       "  </tbody>\n",
       "</table>\n",
       "<p>2 rows × 465 columns</p>\n",
       "</div>"
      ],
      "text/plain": [
       "    HHTYPE00  INTID  SUPVID  SUPVDAY  SUPVMNTH  EDITORID  EDITDAY  EDITMNTH  \\\n",
       "50       1.0   55.0    50.0     27.0       3.0      91.0     15.0       4.0   \n",
       "51       1.0   25.0    20.0      7.0       5.0      91.0     19.0       5.0   \n",
       "\n",
       "    CODERID  CODEDAY   ...     X6_90RM2  X6_90RM3  X6_90RM4  X6_96L1  X6_96L2  \\\n",
       "50     90.0     10.0   ...                                                      \n",
       "51     92.0     20.0   ...                                                      \n",
       "\n",
       "    X6103L1  X6103L2  PHHID84  PHHID94  PHHID00  \n",
       "50                        0.0   7038.0     56.0  \n",
       "51                        0.0   7169.0     57.0  \n",
       "\n",
       "[2 rows x 465 columns]"
      ]
     },
     "execution_count": 54,
     "metadata": {},
     "output_type": "execute_result"
    }
   ],
   "source": [
    "df = pd.read_sas('hh00.P00', format='xport')\n",
    "df=df.fillna(0.0)\n",
    "df[50:52]\n"
   ]
  },
  {
   "cell_type": "code",
   "execution_count": 55,
   "metadata": {
    "collapsed": false
   },
   "outputs": [
    {
     "data": {
      "text/plain": [
       "0       2.0\n",
       "1       2.0\n",
       "2       2.0\n",
       "3       0.0\n",
       "4       2.0\n",
       "5       2.0\n",
       "6       2.0\n",
       "7       2.0\n",
       "8       2.0\n",
       "9       1.0\n",
       "10      2.0\n",
       "11      2.0\n",
       "12      2.0\n",
       "13      1.0\n",
       "14      2.0\n",
       "15      1.0\n",
       "16      2.0\n",
       "17      2.0\n",
       "18      2.0\n",
       "19      2.0\n",
       "20      2.0\n",
       "21      2.0\n",
       "22      2.0\n",
       "23      2.0\n",
       "24      2.0\n",
       "25      2.0\n",
       "26      1.0\n",
       "27      2.0\n",
       "28      2.0\n",
       "29      2.0\n",
       "       ... \n",
       "8608    2.0\n",
       "8609    2.0\n",
       "8610    2.0\n",
       "8611    2.0\n",
       "8612    2.0\n",
       "8613    0.0\n",
       "8614    2.0\n",
       "8615    1.0\n",
       "8616    2.0\n",
       "8617    2.0\n",
       "8618    2.0\n",
       "8619    2.0\n",
       "8620    2.0\n",
       "8621    2.0\n",
       "8622    2.0\n",
       "8623    2.0\n",
       "8624    2.0\n",
       "8625    2.0\n",
       "8626    2.0\n",
       "8627    2.0\n",
       "8628    2.0\n",
       "8629    2.0\n",
       "8630    2.0\n",
       "8631    2.0\n",
       "8632    2.0\n",
       "8633    2.0\n",
       "8634    2.0\n",
       "8635    2.0\n",
       "8636    2.0\n",
       "8637    2.0\n",
       "Name: X6_62, dtype: float64"
      ]
     },
     "execution_count": 55,
     "metadata": {},
     "output_type": "execute_result"
    }
   ],
   "source": [
    "df['X6_62']"
   ]
  },
  {
   "cell_type": "code",
   "execution_count": 56,
   "metadata": {
    "collapsed": false
   },
   "outputs": [
    {
     "data": {
      "text/plain": [
       "(array([8637,    0,    0,    1]), array([ 0.  ,  2.25,  4.5 ,  6.75,  9.  ]))"
      ]
     },
     "execution_count": 56,
     "metadata": {},
     "output_type": "execute_result"
    }
   ],
   "source": [
    "np.histogram(df['X6_62'].values, bins=4)"
   ]
  },
  {
   "cell_type": "code",
   "execution_count": 58,
   "metadata": {
    "collapsed": false
   },
   "outputs": [
    {
     "data": {
      "text/plain": [
       "(array([  2.18000000e+02,   7.55000000e+02,   7.66400000e+03,\n",
       "          0.00000000e+00,   0.00000000e+00,   0.00000000e+00,\n",
       "          0.00000000e+00,   0.00000000e+00,   0.00000000e+00,\n",
       "          1.00000000e+00]),\n",
       " array([ 0. ,  0.9,  1.8,  2.7,  3.6,  4.5,  5.4,  6.3,  7.2,  8.1,  9. ]),\n",
       " <a list of 10 Patch objects>)"
      ]
     },
     "execution_count": 58,
     "metadata": {},
     "output_type": "execute_result"
    },
    {
     "data": {
      "image/png": "[encoded data removed]",
      "text/plain": [
       "<matplotlib.figure.Figure at 0x120f0c1d0>"
      ]
     },
     "metadata": {},
     "output_type": "display_data"
    }
   ],
   "source": [
    "plt.hist(df['X6_62'].values)"
   ]
  },
  {
   "cell_type": "code",
   "execution_count": 43,
   "metadata": {
    "collapsed": true
   },
   "outputs": [],
   "source": [
    "?plt.hist"
   ]
  },
  {
   "cell_type": "code",
   "execution_count": null,
   "metadata": {
    "collapsed": true
   },
   "outputs": [],
   "source": []
  }
 ],
 "metadata": {
  "kernelspec": {
   "display_name": "Python 2",
   "language": "python",
   "name": "python2"
  },
  "language_info": {
   "codemirror_mode": {
    "name": "ipython",
    "version": 2
   },
   "file_extension": ".py",
   "mimetype": "text/x-python",
   "name": "python",
   "nbconvert_exporter": "python",
   "pygments_lexer": "ipython2",
   "version": "2.7.11"
  }
 },
 "nbformat": 4,
 "nbformat_minor": 0
}
