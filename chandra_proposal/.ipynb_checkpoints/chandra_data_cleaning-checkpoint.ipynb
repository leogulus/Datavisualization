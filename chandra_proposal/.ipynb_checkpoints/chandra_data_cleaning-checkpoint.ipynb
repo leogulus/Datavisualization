{
 "cells": [
  {
   "cell_type": "code",
   "execution_count": 2,
   "metadata": {
    "collapsed": true
   },
   "outputs": [],
   "source": [
    "%matplotlib inline \n",
    "\n",
    "import numpy as np\n",
    "import pandas as pd\n",
    "import matplotlib.pyplot as plt\n",
    "import html5lib\n",
    "import requests\n",
    "import re\n",
    "\n",
    "from bs4 import BeautifulSoup"
   ]
  },
  {
   "cell_type": "markdown",
   "metadata": {},
   "source": [
    "### Cycle15-17 is downloaded from http://cxc.harvard.edu/target_lists/cycle17/cycle17_table.html"
   ]
  },
  {
   "cell_type": "markdown",
   "metadata": {},
   "source": [
    "### First method: we can only do Cycle 9-14"
   ]
  },
  {
   "cell_type": "code",
   "execution_count": 21,
   "metadata": {
    "collapsed": true
   },
   "outputs": [],
   "source": [
    "num='14' #'13','12','11','10'\n",
    "#cycle=requests.get(\"http://cxc.harvard.edu/target_lists/cycle%s/allproposals%s.html\"%(num,num)).text"
   ]
  },
  {
   "cell_type": "code",
   "execution_count": 18,
   "metadata": {
    "collapsed": false
   },
   "outputs": [],
   "source": [
    "num='9'\n",
    "cycle=requests.get(\"http://cxc.harvard.edu/target_lists/cycle%s/abstracts_cycle%s.html\"%(num,num)).text"
   ]
  },
  {
   "cell_type": "code",
   "execution_count": 22,
   "metadata": {
    "collapsed": false,
    "scrolled": true
   },
   "outputs": [
    {
     "data": {
      "text/html": [
       "<div>\n",
       "<table border=\"1\" class=\"dataframe\">\n",
       "  <thead>\n",
       "    <tr style=\"text-align: right;\">\n",
       "      <th></th>\n",
       "      <th>Proposal Number</th>\n",
       "      <th>Category</th>\n",
       "      <th>Type</th>\n",
       "      <th>PI Name</th>\n",
       "      <th>Title</th>\n",
       "      <th>Time</th>\n",
       "      <th>Year</th>\n",
       "    </tr>\n",
       "  </thead>\n",
       "  <tbody>\n",
       "    <tr>\n",
       "      <th>179</th>\n",
       "      <td>09900712</td>\n",
       "      <td>EXTRAGALACTIC DIFFUSE EMISSION AND SURVEYS</td>\n",
       "      <td>TOO</td>\n",
       "      <td>Andrew Levan</td>\n",
       "      <td>Identifying the host galaxies for optically da...</td>\n",
       "      <td>75.0</td>\n",
       "      <td>2014</td>\n",
       "    </tr>\n",
       "    <tr>\n",
       "      <th>180</th>\n",
       "      <td>09910027</td>\n",
       "      <td>GALACTIC DIFFUSE EMISSION AND SURVEYS</td>\n",
       "      <td>GTO</td>\n",
       "      <td>Gordon Garmire</td>\n",
       "      <td>The Great Nebula in Carina: Protoplanetary Dis...</td>\n",
       "      <td>120.0</td>\n",
       "      <td>2014</td>\n",
       "    </tr>\n",
       "    <tr>\n",
       "      <th>181</th>\n",
       "      <td>09910161</td>\n",
       "      <td>GALACTIC DIFFUSE EMISSION AND SURVEYS</td>\n",
       "      <td>VLP</td>\n",
       "      <td>Leisa Townsley</td>\n",
       "      <td>The Great Nebula in Carina: Protoplanetary Dis...</td>\n",
       "      <td>1080.0</td>\n",
       "      <td>2014</td>\n",
       "    </tr>\n",
       "    <tr>\n",
       "      <th>182</th>\n",
       "      <td>09910246</td>\n",
       "      <td>GALACTIC DIFFUSE EMISSION AND SURVEYS</td>\n",
       "      <td>LP</td>\n",
       "      <td>Mikhail Revnivtsev</td>\n",
       "      <td>THE ORIGIN OF THE GALACTIC RIDGE X-RAY EMISSION</td>\n",
       "      <td>900.0</td>\n",
       "      <td>2014</td>\n",
       "    </tr>\n",
       "    <tr>\n",
       "      <th>183</th>\n",
       "      <td>09910432</td>\n",
       "      <td>GALACTIC DIFFUSE EMISSION AND SURVEYS</td>\n",
       "      <td>GO</td>\n",
       "      <td>Dong-Woo Kim</td>\n",
       "      <td>Intermediate-Age Elliptical Galaxies</td>\n",
       "      <td>145.0</td>\n",
       "      <td>2014</td>\n",
       "    </tr>\n",
       "  </tbody>\n",
       "</table>\n",
       "</div>"
      ],
      "text/plain": [
       "    Proposal Number                                    Category Type  \\\n",
       "179        09900712  EXTRAGALACTIC DIFFUSE EMISSION AND SURVEYS  TOO   \n",
       "180        09910027       GALACTIC DIFFUSE EMISSION AND SURVEYS  GTO   \n",
       "181        09910161       GALACTIC DIFFUSE EMISSION AND SURVEYS  VLP   \n",
       "182        09910246       GALACTIC DIFFUSE EMISSION AND SURVEYS   LP   \n",
       "183        09910432       GALACTIC DIFFUSE EMISSION AND SURVEYS   GO   \n",
       "\n",
       "                PI Name                                              Title  \\\n",
       "179        Andrew Levan  Identifying the host galaxies for optically da...   \n",
       "180      Gordon Garmire  The Great Nebula in Carina: Protoplanetary Dis...   \n",
       "181      Leisa Townsley  The Great Nebula in Carina: Protoplanetary Dis...   \n",
       "182  Mikhail Revnivtsev    THE ORIGIN OF THE GALACTIC RIDGE X-RAY EMISSION   \n",
       "183        Dong-Woo Kim               Intermediate-Age Elliptical Galaxies   \n",
       "\n",
       "       Time  Year  \n",
       "179    75.0  2014  \n",
       "180   120.0  2014  \n",
       "181  1080.0  2014  \n",
       "182   900.0  2014  \n",
       "183   145.0  2014  "
      ]
     },
     "execution_count": 22,
     "metadata": {},
     "output_type": "execute_result"
    }
   ],
   "source": [
    "soup=BeautifulSoup(cycle,\"lxml\")\n",
    "#print(soup.prettify())\n",
    "\n",
    "table=soup.find_all('table')[1]\n",
    "df=pd.read_html(str(table))[0]\n",
    "df=df[1:]\n",
    "df.columns=['Proposal Number','Category','Type','PI Name','Title']\n",
    "exp_time=[]\n",
    "for table in soup.find_all('table')[2:]:\n",
    "    exp_time.append(pd.read_html(str(table))[0].loc[1:,5].apply(float).sum())\n",
    "df['Time']=exp_time\n",
    "df['Year']='20'+'%02i' % float(num)\n",
    "df.tail()"
   ]
  },
  {
   "cell_type": "code",
   "execution_count": null,
   "metadata": {
    "collapsed": true
   },
   "outputs": [],
   "source": []
  },
  {
   "cell_type": "code",
   "execution_count": 15,
   "metadata": {
    "collapsed": false
   },
   "outputs": [],
   "source": [
    "df.to_csv('/Users/taweewat/Documents/data_visualization/chandra_proposal/cycle_%02i.csv'%float(num),index=False)"
   ]
  },
  {
   "cell_type": "markdown",
   "metadata": {},
   "source": [
    "### Second method: we do Cycle 7 and 8"
   ]
  },
  {
   "cell_type": "code",
   "execution_count": 692,
   "metadata": {
    "collapsed": true
   },
   "outputs": [],
   "source": [
    "num='7'\n",
    "cycle=requests.get(\"http://cxc.harvard.edu/target_lists/cycle%s/abstracts_cycle%s.html\"%(num,num)).text"
   ]
  },
  {
   "cell_type": "code",
   "execution_count": 693,
   "metadata": {
    "collapsed": false,
    "scrolled": true
   },
   "outputs": [],
   "source": [
    "cut=cycle[re.search('</html>',cycle).span()[0]:]\n",
    "cut2=re.sub(r'--|==|\\n', '', cut)\n",
    "ms=[]\n",
    "for m in re.finditer(r'Name', cut2):\n",
    "    ms.append(m.start())\n",
    "cut4=cut2[ms[-1]:]\n",
    "cut3=re.findall('(?<=Name)(.*?)(?=<br />)', cut2)+re.findall('(?<=Det\\.)(.*?)(?=</pre)',cut4)\n",
    "time=[]\n",
    "for cuti in cut3:\n",
    "    g=re.findall(r' \\d+\\.\\d+', cuti)\n",
    "    time.append(np.sum([float(i) for i in g]))"
   ]
  },
  {
   "cell_type": "code",
   "execution_count": 694,
   "metadata": {
    "collapsed": false
   },
   "outputs": [
    {
     "data": {
      "text/plain": [
       "0"
      ]
     },
     "execution_count": 694,
     "metadata": {},
     "output_type": "execute_result"
    }
   ],
   "source": [
    "np.sum([i==0 for i in time])"
   ]
  },
  {
   "cell_type": "code",
   "execution_count": 363,
   "metadata": {
    "collapsed": false
   },
   "outputs": [
    {
     "name": "stdout",
     "output_type": "stream",
     "text": [
      "207 207 207 207 207\n"
     ]
    }
   ],
   "source": [
    "pnumber=re.findall('(?<=Proposal Number:)(.*?)(?=<br)',cut2)\n",
    "title=re.findall('(?<=Proposal Title:)(.*?)(?=PI)',cut2)\n",
    "pi=re.findall('(?<=PI:)(.*?)(?=<br)',cut2)\n",
    "cat=re.findall('(?<=Subject Category:)(.*?)(?=<br)',cut2)\n",
    "\n",
    "pnumber=[x.strip() for x in pnumber]\n",
    "title=[x.strip() for x in title]\n",
    "pi=[x.strip() for x in pi]\n",
    "cat=[x.strip() for x in cat]\n",
    "print len(pnumber),len(title),len(pi),len(cat),len(time)"
   ]
  },
  {
   "cell_type": "code",
   "execution_count": 364,
   "metadata": {
    "collapsed": false
   },
   "outputs": [],
   "source": [
    "df=pd.DataFrame({'Proposal Number':pnumber,'Category':cat,'PI Name':pi,'Title':title,'Time':time})\n",
    "df['Year']='20'+'%02i' % float(num)"
   ]
  },
  {
   "cell_type": "code",
   "execution_count": 365,
   "metadata": {
    "collapsed": false
   },
   "outputs": [
    {
     "data": {
      "text/html": [
       "<div>\n",
       "<table border=\"1\" class=\"dataframe\">\n",
       "  <thead>\n",
       "    <tr style=\"text-align: right;\">\n",
       "      <th></th>\n",
       "      <th>Category</th>\n",
       "      <th>PI Name</th>\n",
       "      <th>Proposal Number</th>\n",
       "      <th>Time</th>\n",
       "      <th>Title</th>\n",
       "      <th>Year</th>\n",
       "    </tr>\n",
       "  </thead>\n",
       "  <tbody>\n",
       "    <tr>\n",
       "      <th>202</th>\n",
       "      <td>GALACTIC DIFFUSE EMISSION AND SURVEYS</td>\n",
       "      <td>Adrienne Juett</td>\n",
       "      <td>07910330</td>\n",
       "      <td>50.0</td>\n",
       "      <td>A High-Resolution Study of Interstellar Absorp...</td>\n",
       "      <td>2007</td>\n",
       "    </tr>\n",
       "    <tr>\n",
       "      <th>203</th>\n",
       "      <td>GALACTIC DIFFUSE EMISSION AND SURVEYS</td>\n",
       "      <td>Leisa Townsley</td>\n",
       "      <td>07910358</td>\n",
       "      <td>80.0</td>\n",
       "      <td>Hot Plasma in W4: A Supernova-free Superbubble?</td>\n",
       "      <td>2007</td>\n",
       "    </tr>\n",
       "    <tr>\n",
       "      <th>204</th>\n",
       "      <td>GALACTIC DIFFUSE EMISSION AND SURVEYS</td>\n",
       "      <td>Michael Muno</td>\n",
       "      <td>07910613</td>\n",
       "      <td>600.0</td>\n",
       "      <td>A Legacy Study of Stellar Life Cycles at the G...</td>\n",
       "      <td>2007</td>\n",
       "    </tr>\n",
       "    <tr>\n",
       "      <th>205</th>\n",
       "      <td>GALACTIC DIFFUSE EMISSION AND SURVEYS</td>\n",
       "      <td>Mallory Roberts</td>\n",
       "      <td>07911006</td>\n",
       "      <td>20.0</td>\n",
       "      <td>A SMALL CHANDRA SURVEY OF HARD X-RAY SOURCES I...</td>\n",
       "      <td>2007</td>\n",
       "    </tr>\n",
       "    <tr>\n",
       "      <th>206</th>\n",
       "      <td>NULL</td>\n",
       "      <td></td>\n",
       "      <td>07911088</td>\n",
       "      <td>100.0</td>\n",
       "      <td>NULL</td>\n",
       "      <td>2007</td>\n",
       "    </tr>\n",
       "  </tbody>\n",
       "</table>\n",
       "</div>"
      ],
      "text/plain": [
       "                                  Category          PI Name Proposal Number  \\\n",
       "202  GALACTIC DIFFUSE EMISSION AND SURVEYS   Adrienne Juett        07910330   \n",
       "203  GALACTIC DIFFUSE EMISSION AND SURVEYS   Leisa Townsley        07910358   \n",
       "204  GALACTIC DIFFUSE EMISSION AND SURVEYS     Michael Muno        07910613   \n",
       "205  GALACTIC DIFFUSE EMISSION AND SURVEYS  Mallory Roberts        07911006   \n",
       "206                                   NULL                         07911088   \n",
       "\n",
       "      Time                                              Title  Year  \n",
       "202   50.0  A High-Resolution Study of Interstellar Absorp...  2007  \n",
       "203   80.0    Hot Plasma in W4: A Supernova-free Superbubble?  2007  \n",
       "204  600.0  A Legacy Study of Stellar Life Cycles at the G...  2007  \n",
       "205   20.0  A SMALL CHANDRA SURVEY OF HARD X-RAY SOURCES I...  2007  \n",
       "206  100.0                                               NULL  2007  "
      ]
     },
     "execution_count": 365,
     "metadata": {},
     "output_type": "execute_result"
    }
   ],
   "source": [
    "df.tail()"
   ]
  },
  {
   "cell_type": "code",
   "execution_count": 366,
   "metadata": {
    "collapsed": true
   },
   "outputs": [],
   "source": [
    "df.to_csv('/Users/taweewat/Documents/data_visualization/chandra_proposal/cycle_%02i.csv'%float(num),index=False)"
   ]
  },
  {
   "cell_type": "markdown",
   "metadata": {},
   "source": [
    "### Third method: we do from 2001-2006"
   ]
  },
  {
   "cell_type": "code",
   "execution_count": 684,
   "metadata": {
    "collapsed": false
   },
   "outputs": [],
   "source": [
    "num='6'#5-6\n",
    "cycle=requests.get(\"http://cxc.harvard.edu/target_lists/cycle%s/abstracts_cycle%s.html\"%(num,num)).text\n",
    "\n",
    "#num='4'\n",
    "#cycle=requests.get(\"http://cxc.harvard.edu/target_lists/cycle%s/abstracts_all_ao%s.html\"%(num,num)).text\n",
    "\n",
    "#num='3' #1-3\n",
    "#cycle=requests.get(\"http://cxc.harvard.edu/target_lists/cycle%s/abstracts_cyc%s.html\"%(num,num)).text"
   ]
  },
  {
   "cell_type": "code",
   "execution_count": 685,
   "metadata": {
    "collapsed": false
   },
   "outputs": [],
   "source": [
    "#cut=cycle[re.search('</html>',cycle).span()[0]:]\n",
    "cut=cycle\n",
    "cut2=re.sub(r'--|==|\\n', '', cut)\n",
    "ms=[]\n",
    "for m in re.finditer(r'Name', cut2):\n",
    "    ms.append(m.start())\n",
    "cut4=cut2[ms[-1]:]\n",
    "cut3=re.findall('(?<=Det\\.)(.*?)(?=Pr)', cut2)+re.findall('(?<=Det\\.)(.*?)(?=</pre)',cut4)\n",
    "time=[]\n",
    "for cuti in cut3:\n",
    "    g=re.findall(r' \\d+\\.\\d+', cuti)\n",
    "    time.append(np.sum([float(i) for i in g]))"
   ]
  },
  {
   "cell_type": "code",
   "execution_count": 686,
   "metadata": {
    "collapsed": false
   },
   "outputs": [
    {
     "data": {
      "text/plain": [
       "0"
      ]
     },
     "execution_count": 686,
     "metadata": {},
     "output_type": "execute_result"
    }
   ],
   "source": [
    "np.sum([i==0 for i in time])"
   ]
  },
  {
   "cell_type": "code",
   "execution_count": 687,
   "metadata": {
    "collapsed": true
   },
   "outputs": [],
   "source": [
    "pnumber=re.findall('(?<=Proposal Number:)(.*?)(?=Pro)',cut2)\n",
    "title=re.findall('(?<=Proposal Title:)(.*?)(?=PI:)',cut2)\n",
    "pi=re.findall('(?<=(?<!\\()PI:)(.*?)(?=Sub)',cut2)\n",
    "cat=re.findall('(?<=Subject Category:)(.*?)(?=Ab)',cut2)"
   ]
  },
  {
   "cell_type": "code",
   "execution_count": 688,
   "metadata": {
    "collapsed": false,
    "scrolled": false
   },
   "outputs": [],
   "source": [
    "#in case of some of the object has no abstract; then go back to step that print out len\n",
    "group=[re.findall('(?<=Category:)(.*?)(?=Ab)',i) for i in re.findall('(?<=Subject)(.*?)(?=Grat)',cut2)]\n",
    "ilist=[]\n",
    "for i, item in enumerate(group):\n",
    "    if not item:\n",
    "        ilist.append(i)\n",
    "for i in ilist:\n",
    "    group[i]=[re.findall('(?<=Subject)(.*?)(?=Grat)',cut2)[i]]\n",
    "cat=group"
   ]
  },
  {
   "cell_type": "code",
   "execution_count": 689,
   "metadata": {
    "collapsed": false
   },
   "outputs": [
    {
     "name": "stdout",
     "output_type": "stream",
     "text": [
      "202 202 202 202 202\n"
     ]
    }
   ],
   "source": [
    "pnumber=[x.strip() for x in pnumber]\n",
    "title=[x.strip() for x in title]\n",
    "pi=[x.strip() for x in pi]\n",
    "#cat=[x.strip() for x in cat]\n",
    "cat2=[x[0].strip().replace(\"Category:\",\"\",1) for x in cat]\n",
    "print len(pnumber),len(title),len(pi),len(cat2),len(time)"
   ]
  },
  {
   "cell_type": "code",
   "execution_count": 690,
   "metadata": {
    "collapsed": false
   },
   "outputs": [
    {
     "data": {
      "text/html": [
       "<div>\n",
       "<table border=\"1\" class=\"dataframe\">\n",
       "  <thead>\n",
       "    <tr style=\"text-align: right;\">\n",
       "      <th></th>\n",
       "      <th>Category</th>\n",
       "      <th>PI Name</th>\n",
       "      <th>Proposal Number</th>\n",
       "      <th>Time</th>\n",
       "      <th>Title</th>\n",
       "      <th>Year</th>\n",
       "    </tr>\n",
       "  </thead>\n",
       "  <tbody>\n",
       "    <tr>\n",
       "      <th>0</th>\n",
       "      <td>SOLAR SYSTEM</td>\n",
       "      <td>Carey Lisse</td>\n",
       "      <td>06100312</td>\n",
       "      <td>300.0</td>\n",
       "      <td>Comet 9P/Tempel 1 During the Deep Impact Encou...</td>\n",
       "      <td>2006</td>\n",
       "    </tr>\n",
       "    <tr>\n",
       "      <th>1</th>\n",
       "      <td>STARS AND WD</td>\n",
       "      <td>Stephen Murray</td>\n",
       "      <td>06200016</td>\n",
       "      <td>90.0</td>\n",
       "      <td>Star formation in the young star cluster NGC 6231</td>\n",
       "      <td>2006</td>\n",
       "    </tr>\n",
       "    <tr>\n",
       "      <th>2</th>\n",
       "      <td>STARS AND WD</td>\n",
       "      <td>Gordon Garmire</td>\n",
       "      <td>06200050</td>\n",
       "      <td>30.0</td>\n",
       "      <td>Alternate: A Search for X-ray Activity from a ...</td>\n",
       "      <td>2006</td>\n",
       "    </tr>\n",
       "    <tr>\n",
       "      <th>3</th>\n",
       "      <td>STARS AND WD</td>\n",
       "      <td>Gordon Garmire</td>\n",
       "      <td>06200059</td>\n",
       "      <td>21.0</td>\n",
       "      <td>Search for beta Pic analogs</td>\n",
       "      <td>2006</td>\n",
       "    </tr>\n",
       "    <tr>\n",
       "      <th>4</th>\n",
       "      <td>STARS AND WD</td>\n",
       "      <td>Fabio Favata</td>\n",
       "      <td>06200079</td>\n",
       "      <td>100.0</td>\n",
       "      <td>X-ray emission from fast moving shocks in the ...</td>\n",
       "      <td>2006</td>\n",
       "    </tr>\n",
       "  </tbody>\n",
       "</table>\n",
       "</div>"
      ],
      "text/plain": [
       "       Category         PI Name Proposal Number   Time  \\\n",
       "0  SOLAR SYSTEM     Carey Lisse        06100312  300.0   \n",
       "1  STARS AND WD  Stephen Murray        06200016   90.0   \n",
       "2  STARS AND WD  Gordon Garmire        06200050   30.0   \n",
       "3  STARS AND WD  Gordon Garmire        06200059   21.0   \n",
       "4  STARS AND WD    Fabio Favata        06200079  100.0   \n",
       "\n",
       "                                               Title  Year  \n",
       "0  Comet 9P/Tempel 1 During the Deep Impact Encou...  2006  \n",
       "1  Star formation in the young star cluster NGC 6231  2006  \n",
       "2  Alternate: A Search for X-ray Activity from a ...  2006  \n",
       "3                        Search for beta Pic analogs  2006  \n",
       "4  X-ray emission from fast moving shocks in the ...  2006  "
      ]
     },
     "execution_count": 690,
     "metadata": {},
     "output_type": "execute_result"
    }
   ],
   "source": [
    "df=pd.DataFrame({'Proposal Number':pnumber,'Category':cat2,'PI Name':pi,'Title':title,'Time':time})\n",
    "df['Year']='20'+'%02i' % float(num)\n",
    "df.head()"
   ]
  },
  {
   "cell_type": "code",
   "execution_count": 691,
   "metadata": {
    "collapsed": true
   },
   "outputs": [],
   "source": [
    "df.to_csv('/Users/taweewat/Documents/data_visualization/chandra_proposal/cycle_%02i.csv'%float(num),index=False)"
   ]
  },
  {
   "cell_type": "code",
   "execution_count": 640,
   "metadata": {
    "collapsed": false
   },
   "outputs": [
    {
     "data": {
      "text/plain": [
       "u'   ing    Time - 03:55:23.00  +31:02:45.00  X PERSEI (HD 24534)   HRC-S  LETG  50.00='"
      ]
     },
     "execution_count": 640,
     "metadata": {},
     "output_type": "execute_result"
    }
   ],
   "source": [
    "re.findall('(?<=Det\\.)(.*?)(?=Pr)', cut2)"
   ]
  },
  {
   "cell_type": "code",
   "execution_count": null,
   "metadata": {
    "collapsed": true
   },
   "outputs": [],
   "source": []
  }
 ],
 "metadata": {
  "kernelspec": {
   "display_name": "Python 2",
   "language": "python",
   "name": "python2"
  },
  "language_info": {
   "codemirror_mode": {
    "name": "ipython",
    "version": 2
   },
   "file_extension": ".py",
   "mimetype": "text/x-python",
   "name": "python",
   "nbconvert_exporter": "python",
   "pygments_lexer": "ipython2",
   "version": "2.7.11"
  }
 },
 "nbformat": 4,
 "nbformat_minor": 0
}
