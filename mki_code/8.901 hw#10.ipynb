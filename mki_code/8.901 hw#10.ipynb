{
 "cells": [
  {
   "cell_type": "code",
   "execution_count": 3,
   "metadata": {
    "collapsed": false,
    "slideshow": {
     "slide_type": "-"
    }
   },
   "outputs": [],
   "source": [
    "import matplotlib.pyplot as plt\n",
    "import matplotlib\n",
    "import mpld3\n",
    "import numpy as np\n",
    "import pandas as pd\n",
    "from sympy import Eq, Symbol, solve\n",
    "\n",
    "%matplotlib inline"
   ]
  },
  {
   "cell_type": "code",
   "execution_count": 3,
   "metadata": {
    "collapsed": true
   },
   "outputs": [],
   "source": [
    "import astropy.units as u\n",
    "from astropy.constants import G, c, M_jup, M_sun, m_e, k_B, h, N_A, m_p, hbar, eps0, sigma_sb, e, mu0, R_earth, R_sun"
   ]
  },
  {
   "cell_type": "code",
   "execution_count": 7,
   "metadata": {
    "collapsed": true
   },
   "outputs": [],
   "source": [
    "M=1*u.solMass\n",
    "Mdot=1e17*u.g/u.s\n",
    "r0=9e8*u.cm\n",
    "r=49/36.*r0\n",
    "T=(3*G*M*Mdot/(8*np.pi*sigma_sb*r**3))**0.25*(1-np.sqrt(r0/r))**0.25"
   ]
  },
  {
   "cell_type": "code",
   "execution_count": 8,
   "metadata": {
    "collapsed": false
   },
   "outputs": [
    {
     "data": {
      "text/latex": [
       "$38388.308 \\; \\mathrm{K}$"
      ],
      "text/plain": [
       "<Quantity 38388.30770175991 K>"
      ]
     },
     "execution_count": 8,
     "metadata": {},
     "output_type": "execute_result"
    }
   ],
   "source": [
    "T.decompose()"
   ]
  },
  {
   "cell_type": "code",
   "execution_count": 9,
   "metadata": {
    "collapsed": false
   },
   "outputs": [
    {
     "data": {
      "text/latex": [
       "$10642090 \\; \\mathrm{K}$"
      ],
      "text/plain": [
       "<Quantity 10642089.908678852 K>"
      ]
     },
     "execution_count": 9,
     "metadata": {},
     "output_type": "execute_result"
    }
   ],
   "source": [
    "M=1.4*u.solMass\n",
    "Mdot=1e18*u.g/u.s\n",
    "r0=1.2e6*u.cm\n",
    "r=49/36.*r0\n",
    "T=(3*G*M*Mdot/(8*np.pi*sigma_sb*r**3))**0.25*(1-np.sqrt(r0/r))**0.25\n",
    "T.decompose()"
   ]
  },
  {
   "cell_type": "code",
   "execution_count": 12,
   "metadata": {
    "collapsed": false
   },
   "outputs": [
    {
     "data": {
      "text/latex": [
       "$7.3724967 \\times 10^{-51} \\; \\mathrm{\\frac{kg}{s^{2}}}$"
      ],
      "text/plain": [
       "<Quantity 7.372496678475675e-51 kg / s2>"
      ]
     },
     "execution_count": 12,
     "metadata": {},
     "output_type": "execute_result"
    }
   ],
   "source": [
    "(h/c**2*(1*u.Hz)**3).decompose()"
   ]
  },
  {
   "cell_type": "code",
   "execution_count": 14,
   "metadata": {
    "collapsed": false
   },
   "outputs": [
    {
     "data": {
      "text/latex": [
       "$1 \\; \\mathrm{3.846 \\times 10^{26}\\,\\frac{m^{2}\\,kg}{s^{3}}}$"
      ],
      "text/plain": [
       "<Quantity 1.0 3.846e+26 kg m2 / s3>"
      ]
     },
     "execution_count": 14,
     "metadata": {},
     "output_type": "execute_result"
    }
   ],
   "source": [
    "1*u.solLum.decompose()"
   ]
  },
  {
   "cell_type": "code",
   "execution_count": null,
   "metadata": {
    "collapsed": true
   },
   "outputs": [],
   "source": []
  }
 ],
 "metadata": {
  "kernelspec": {
   "display_name": "Python 2",
   "language": "python",
   "name": "python2"
  },
  "language_info": {
   "codemirror_mode": {
    "name": "ipython",
    "version": 2
   },
   "file_extension": ".py",
   "mimetype": "text/x-python",
   "name": "python",
   "nbconvert_exporter": "python",
   "pygments_lexer": "ipython2",
   "version": "2.7.11"
  }
 },
 "nbformat": 4,
 "nbformat_minor": 0
}
