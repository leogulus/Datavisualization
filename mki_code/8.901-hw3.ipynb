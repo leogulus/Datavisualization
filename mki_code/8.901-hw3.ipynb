{
 "cells": [
  {
   "cell_type": "code",
   "execution_count": 29,
   "metadata": {
    "collapsed": false
   },
   "outputs": [],
   "source": [
    "import matplotlib.pyplot as plt\n",
    "import matplotlib\n",
    "import mpld3\n",
    "import numpy as np\n",
    "import pandas as pd\n",
    "from sympy import Eq, Symbol, solve\n",
    "\n",
    "%matplotlib inline"
   ]
  },
  {
   "cell_type": "code",
   "execution_count": 151,
   "metadata": {
    "collapsed": true
   },
   "outputs": [],
   "source": [
    "import astropy.units as u\n",
    "from astropy.constants import G, c, M_jup, M_sun, m_e, k_B, h, N_A, m_p"
   ]
  },
  {
   "cell_type": "markdown",
   "metadata": {},
   "source": [
    "\n",
    "## Number 3"
   ]
  },
  {
   "cell_type": "code",
   "execution_count": 326,
   "metadata": {
    "collapsed": false
   },
   "outputs": [
    {
     "name": "stdout",
     "output_type": "stream",
     "text": [
      "3.44693295398 eV\n",
      "1.93174626742e+28 1 / m3\n",
      "1.5055353225e+23 1 / m3\n",
      "aa =  408.183292356\n",
      "bb =  0.0179539537762\n",
      "[408.18329235573543, 8093.69335082369, 40938.52277764868, 116800.19746981694, 247084.9952266633, 437381.16416315275, 689514.0751680048, 1003155.2238099071]\n",
      "[0.01795395377620164, 6.353260573206851, 135.75461771208526, 919.4529987885445, 3461.316701853428, 9247.98657241921, 19852.918605421324, 36723.560856526194]\n"
     ]
    }
   ],
   "source": [
    "T=4e4*u.K\n",
    "rho=1e-6*u.g/(u.cm**3.)\n",
    "\n",
    "def nqe(T):\n",
    "    return (2.*np.pi*m_e*k_B*T*h**-2.)**(3./2.)\n",
    "\n",
    "def n(rho):\n",
    "    return rho*N_A/(4.0*u.g/u.mol)\n",
    "\n",
    "def a(T,rho):\n",
    "    return 4.*(nqe(T)/n(rho))*np.e**(-24.6*u.eV/(k_B*T))\n",
    "\n",
    "def b(T,rho):\n",
    "    return (nqe(T)/n(rho))*np.e**(-54.4*u.eV/(k_B*T))\n",
    "\n",
    "print (k_B*T).to(u.eV)\n",
    "print nqe(T).decompose()\n",
    "print n(rho).decompose()\n",
    "print 'aa = ', a(T,rho).decompose().value\n",
    "print 'bb = ', b(T,rho).decompose().value\n",
    "\n",
    "print [a(x,rho).decompose().value for x in Ts]\n",
    "print [b(x,rho).decompose().value for x in Ts]"
   ]
  },
  {
   "cell_type": "code",
   "execution_count": 330,
   "metadata": {
    "collapsed": false
   },
   "outputs": [
    {
     "data": {
      "text/plain": [
       "0.00012340980408667962"
      ]
     },
     "execution_count": 330,
     "metadata": {},
     "output_type": "execute_result"
    }
   ],
   "source": [
    "np.e**(-9)"
   ]
  },
  {
   "cell_type": "code",
   "execution_count": null,
   "metadata": {
    "collapsed": false,
    "scrolled": true
   },
   "outputs": [],
   "source": [
    "Ts=np.arange(4,20,2)*1e4*u.K\n",
    "print 'temp:', Ts\n",
    "#Ts=np.logspace(1,2.4,num=10)*1e3*u.K\n",
    "#Ts=[4e4*u.K]\n",
    "rho=1e-6*u.g/(u.cm**3)\n",
    "\n",
    "x1s=[]\n",
    "x2s=[]\n",
    "ys=[]\n",
    "for T in Ts:\n",
    "    aa=a(T,rho).decompose().value\n",
    "    bb=b(T,rho).decompose().value\n",
    "\n",
    "    print 'aa: ', aa\n",
    "    print 'bb: ', bb\n",
    "    \n",
    "    x = Symbol('x')\n",
    "    #eqn = Eq( (x**2+bb)**0.5 , -aa*0.5+(2.*x**2.-2.*x*(x**2.+bb)**0.5+bb-aa+aa**2./4.)**0.5 )\n",
    "    #eqn2 = Eq( x**2. - ((2.*x+aa)*(x**2.+bb*x)**0.5) + aa , 0.0 )\n",
    "    eqn2 = Eq( 0.75*x+(x**2/16.+bb*x/2.)**0.5+aa/2. ,\\\n",
    "              (x**2./8. - (x/2.*(x**2/16.+bb*x/2.)**0.5) + bb*x/2. + aa + (aa**2)/2.)**0.5 )\n",
    "\n",
    "    print \"solving the equation...\"\n",
    "    y=solve(eqn2)\n",
    "\n",
    "    print y\n",
    "    x1=y[0]\n",
    "    x2=-x1+(x1**2+bb)**0.5\n",
    "#    print x1, x2\n",
    "    x1s.append(x1)\n",
    "    x2s.append(x2)\n",
    "    ys.append(y)"
   ]
  },
  {
   "cell_type": "code",
   "execution_count": 187,
   "metadata": {
    "collapsed": false
   },
   "outputs": [
    {
     "data": {
      "text/latex": [
       "$[10000,~14307.23,~20469.683,~29286.446,~41900.791,~59948.425,~85769.59,~122712.52,~175567.63,~251188.64] \\; \\mathrm{K}$"
      ],
      "text/plain": [
       "<Quantity [  10000.        ,  14307.22989194,  20469.68271808,\n",
       "             29286.44564625,  41900.79105787,  59948.42503189,\n",
       "             85769.58985909, 122712.52398512, 175567.6291275 ,\n",
       "            251188.64315096] K>"
      ]
     },
     "execution_count": 187,
     "metadata": {},
     "output_type": "execute_result"
    }
   ],
   "source": [
    "#Ts=np.logspace(1,2.4,num=10)*1e3*u.K\n",
    "#Ts=np.arange(4,20,2)*1e4*u.K\n",
    "Ts=np.logspace(1,2.4,num=10)*1e3*u.K\n",
    "Ts"
   ]
  },
  {
   "cell_type": "code",
   "execution_count": 504,
   "metadata": {
    "collapsed": false,
    "scrolled": false
   },
   "outputs": [
    {
     "name": "stdout",
     "output_type": "stream",
     "text": [
      "temp: [  40000.   60000.   80000.  100000.  120000.  140000.  160000.  180000.] K\n",
      "[ 0.98022235  0.01734044]\n",
      "-----\n",
      "[ 0.21893672  0.7810151 ]\n",
      "-----\n",
      "[ 0.49999  0.49999]\n",
      "-----\n",
      "[  1.00000000e-05   1.00000000e-05]\n",
      "-----\n",
      "[ 0.00280747 -0.01455301]\n",
      "-----\n",
      "[  5.00000000e-05   5.00000000e-05]\n",
      "-----\n",
      "[  4.99983226e-05   6.48241005e-01]\n",
      "-----\n",
      "[  4.99965933e-05   6.38392294e-01]\n",
      "-----\n"
     ]
    },
    {
     "data": {
      "text/plain": [
       "<matplotlib.text.Text at 0x135f8ca10>"
      ]
     },
     "execution_count": 504,
     "metadata": {},
     "output_type": "execute_result"
    },
    {
     "data": {
      "image/png": "[encoded data removed]",
      "text/plain": [
       "<matplotlib.figure.Figure at 0x135f38b10>"
      ]
     },
     "metadata": {},
     "output_type": "display_data"
    }
   ],
   "source": [
    "from scipy.optimize import fsolve\n",
    "import math\n",
    "\n",
    "fig = plt.subplots(1, figsize=(10,6))\n",
    "\n",
    "Ts=np.arange(4,20,2)*1e4*u.K\n",
    "print 'temp:', Ts\n",
    "rho=1e-6*u.g/(u.cm**3)\n",
    "\n",
    "def equations(p, *data):\n",
    "    aa = data[0][0]\n",
    "    bb = data[0][1]\n",
    "#    print 'here: ', aa, bb\n",
    "    \n",
    "    x1=p[0]\n",
    "    x2=p[1]\n",
    "    f=np.zeros(2)\n",
    "    f[0]=(x1**2+2*x1*x2)/(1-x1-x2)-aa\n",
    "    f[1]=(2*x2**2+x1*x2)/(x1)-bb\n",
    "    return f\n",
    "    \n",
    "x1s=[]\n",
    "x2s=[]\n",
    "ys=[]\n",
    "for T in Ts:\n",
    "    aa=a(T,rho).decompose().value\n",
    "    bb=b(T,rho).decompose().value\n",
    "    #print 'aa:', aa\n",
    "    #print 'bb:', bb\n",
    "    \n",
    "    data=[aa,bb]\n",
    "    \n",
    "    if T < 90000*u.K:\n",
    "        g=0.49999\n",
    "    elif T>90000*u.K and T < 130000*u.K:\n",
    "        #g=0.59999\n",
    "        g=0.00001\n",
    "    else:\n",
    "        g=0.00005\n",
    "    \n",
    "    z=fsolve(equations,[g,g],args=data)\n",
    "    print z\n",
    "    ys.append(z)\n",
    "    print '-----'\n",
    "\n",
    "plt.plot(Ts,np.zeros(len(ys))+1.-np.array(ys).T[0]-np.array(ys).T[1],'o-',label='x0',markersize=8)\n",
    "plt.plot(Ts,np.array(ys).T[0],'*--',label='x1',markersize=8)\n",
    "plt.plot(Ts,np.array(ys).T[1],'^:',label='x2',markersize=8)\n",
    "plt.xlabel('Temperature (K)')\n",
    "plt.ylabel('fraction')\n",
    "#plt.yscale('log')\n",
    "#plt.xscale('log')\n",
    "plt.legend(loc='best')\n",
    "plt.title('$p=1x10^{-6} g/cm^3$')"
   ]
  },
  {
   "cell_type": "code",
   "execution_count": 393,
   "metadata": {
    "collapsed": false
   },
   "outputs": [
    {
     "data": {
      "text/plain": [
       "<matplotlib.text.Text at 0x123d1a1d0>"
      ]
     },
     "execution_count": 393,
     "metadata": {},
     "output_type": "execute_result"
    },
    {
     "data": {
      "image/png": "[encoded data removed]",
      "text/plain": [
       "<matplotlib.figure.Figure at 0x122602850>"
      ]
     },
     "metadata": {},
     "output_type": "display_data"
    }
   ],
   "source": [
    "#plt.plot(Ts,x0s,'o-',label='x0')\n",
    "plt.plot(Ts,np.array(ys).T[0],'o-',label='x1')\n",
    "plt.plot(Ts,np.array(ys).T[1],'o-',label='x2')\n",
    "plt.xlabel('Temperature (K)')\n",
    "plt.ylabel('fraction')\n",
    "#plt.yscale('log')\n",
    "#plt.xscale('log')\n",
    "plt.legend(loc='best')\n",
    "plt.title('$p=1x10^{-6} g/cm^3$')"
   ]
  },
  {
   "cell_type": "code",
   "execution_count": 244,
   "metadata": {
    "collapsed": false
   },
   "outputs": [
    {
     "name": "stdout",
     "output_type": "stream",
     "text": [
      "1e-06 g / cm3\n",
      "[0.990669406699038, 0.288517562573530, 0.0147292255638386, 0.00217519573271803, 0.000577814591130613, 0.000216263278810844, 0.000100740854134105, 5.44609494981469e-5]\n"
     ]
    }
   ],
   "source": [
    "from sympy.functions import re\n",
    "x1s=[re(y[-1]) for y in ys]\n",
    "print rho\n",
    "print x1s\n",
    "x2s=[ (-x1+(x1**2+b(T,rho).decompose().value)**0.5) for x1, T in zip(x1s, Ts)]\n",
    "#x2=-x1+(x1**2+bb)**0.5\n",
    "#[ b(T,rho).decompose().value for x1, T in zip(x1s, Ts)]\n",
    "#[ for x1, T in zip(x1s, Ts)]"
   ]
  },
  {
   "cell_type": "code",
   "execution_count": 245,
   "metadata": {
    "collapsed": false
   },
   "outputs": [
    {
     "data": {
      "text/plain": [
       "[0.00452044968894028,\n",
       " 1.51699418496975,\n",
       " 8.22405259010092,\n",
       " 21.4390585403597,\n",
       " 41.6006042751114,\n",
       " 67.9997343709413,\n",
       " 99.6315172462127,\n",
       " 135.505592758146]"
      ]
     },
     "execution_count": 245,
     "metadata": {},
     "output_type": "execute_result"
    }
   ],
   "source": [
    "x1s\n",
    "x2s"
   ]
  },
  {
   "cell_type": "code",
   "execution_count": 246,
   "metadata": {
    "collapsed": false
   },
   "outputs": [
    {
     "data": {
      "text/plain": [
       "array([0.00481014361202148, -0.805511747543282, -7.23878181566476,\n",
       "       -20.4412337360924, -40.6011820897025, -66.9999506342201,\n",
       "       -98.6316179870668, -134.505647219096], dtype=object)"
      ]
     },
     "execution_count": 246,
     "metadata": {},
     "output_type": "execute_result"
    }
   ],
   "source": [
    "x0s=np.zeros(len(x1s))+1.-x1s-x2s\n",
    "x0s"
   ]
  },
  {
   "cell_type": "code",
   "execution_count": 251,
   "metadata": {
    "collapsed": false
   },
   "outputs": [
    {
     "data": {
      "text/plain": [
       "<matplotlib.text.Text at 0x11fc4d590>"
      ]
     },
     "execution_count": 251,
     "metadata": {},
     "output_type": "execute_result"
    },
    {
     "data": {
      "image/png": "[encoded data removed]",
      "text/plain": [
       "<matplotlib.figure.Figure at 0x11efdd950>"
      ]
     },
     "metadata": {},
     "output_type": "display_data"
    }
   ],
   "source": [
    "plt.plot(Ts,x0s,'o-',label='x0')\n",
    "plt.plot(Ts,x1s,'o-',label='x1')\n",
    "plt.plot(Ts,x2s,'o-',label='x2')\n",
    "plt.xlabel('Temperature (K)')\n",
    "plt.ylabel('fraction')\n",
    "#plt.yscale('log')\n",
    "#plt.xscale('log')\n",
    "plt.legend(loc='best')\n",
    "plt.title('$p=1x10^{-6} g/cm^3$')"
   ]
  },
  {
   "cell_type": "code",
   "execution_count": null,
   "metadata": {
    "collapsed": true
   },
   "outputs": [],
   "source": [
    "plt.plot(Ts,x1s,'o-',label='x1')\n",
    "plt.plot(Ts,x2s,'o-',label='x2')\n",
    "plt.xlabel('Temperature (K)')\n",
    "plt.ylabel('fraction')\n",
    "plt.yscale('log')\n",
    "plt.xscale('log')\n",
    "plt.legend(loc='best')\n",
    "plt.title('$p=1x10^{-6} g/cm^3$')"
   ]
  }
 ],
 "metadata": {
  "kernelspec": {
   "display_name": "Python 2",
   "language": "python",
   "name": "python2"
  },
  "language_info": {
   "codemirror_mode": {
    "name": "ipython",
    "version": 2
   },
   "file_extension": ".py",
   "mimetype": "text/x-python",
   "name": "python",
   "nbconvert_exporter": "python",
   "pygments_lexer": "ipython2",
   "version": "2.7.11"
  }
 },
 "nbformat": 4,
 "nbformat_minor": 0
}
