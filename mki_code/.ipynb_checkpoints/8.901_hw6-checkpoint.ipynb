{
 "cells": [
  {
   "cell_type": "code",
   "execution_count": 7,
   "metadata": {
    "collapsed": false
   },
   "outputs": [],
   "source": [
    "import matplotlib.pyplot as plt\n",
    "import matplotlib\n",
    "import mpld3\n",
    "import numpy as np\n",
    "import pandas as pd\n",
    "from sympy import Eq, Symbol, solve\n",
    "\n",
    "%matplotlib inline"
   ]
  },
  {
   "cell_type": "code",
   "execution_count": 94,
   "metadata": {
    "collapsed": false
   },
   "outputs": [],
   "source": [
    "import astropy.units as u\n",
    "from astropy.constants import G, c, M_jup, M_sun, m_e, k_B, h, N_A, m_p, hbar, eps0, sigma_sb, e, mu0"
   ]
  },
  {
   "cell_type": "code",
   "execution_count": 10,
   "metadata": {
    "collapsed": false
   },
   "outputs": [
    {
     "data": {
      "text/plain": [
       "26.73106919999966"
      ]
     },
     "execution_count": 10,
     "metadata": {},
     "output_type": "execute_result"
    }
   ],
   "source": [
    "#number 1\n",
    "u.u.to(u.MeV/c**2)\n",
    "dm1=(4*1.007825-4.0026032)*931.5\n",
    "dm1"
   ]
  },
  {
   "cell_type": "code",
   "execution_count": 11,
   "metadata": {
    "collapsed": false
   },
   "outputs": [
    {
     "data": {
      "text/plain": [
       "94.5497650500043"
      ]
     },
     "execution_count": 11,
     "metadata": {},
     "output_type": "execute_result"
    }
   ],
   "source": [
    "dm2=(14*4.0026032-55.9349421)*931.5\n",
    "dm2"
   ]
  },
  {
   "cell_type": "code",
   "execution_count": 18,
   "metadata": {
    "collapsed": false
   },
   "outputs": [
    {
     "data": {
      "text/plain": [
       "1.2526481300055503"
      ]
     },
     "execution_count": 18,
     "metadata": {},
     "output_type": "execute_result"
    }
   ],
   "source": [
    "1+1/14.*dm2/dm1"
   ]
  },
  {
   "cell_type": "code",
   "execution_count": 12,
   "metadata": {
    "collapsed": false
   },
   "outputs": [],
   "source": [
    "#number 3\n",
    "def f(x):\n",
    "    return (x*(2.*x**2-3.)*np.sqrt(x**2+1))+3*np.arcsinh(x)\n",
    "\n",
    "@u.quantity_input(p=u.kg*u.m/u.s)\n",
    "def x(p):\n",
    "    return float(p/(m_e*c))\n",
    "\n",
    "@u.quantity_input(rho=u.g/u.cm**3)\n",
    "def p_f(rho):\n",
    "    return ((3*h**3*rho/(8*np.pi*m_p))**(1/3.)).to(u.kg*u.m/u.s)"
   ]
  },
  {
   "cell_type": "code",
   "execution_count": 13,
   "metadata": {
    "collapsed": false
   },
   "outputs": [
    {
     "data": {
      "text/latex": [
       "$6.0023317 \\times 10^{21} \\; \\mathrm{\\frac{N}{m^{2}}}$"
      ],
      "text/plain": [
       "<Quantity 6.002331675734661e+21 N / m2>"
      ]
     },
     "execution_count": 13,
     "metadata": {},
     "output_type": "execute_result"
    }
   ],
   "source": [
    "(np.pi*m_e**4*c**5/(3*h**3)).decompose().to(u.N/u.m**2)"
   ]
  },
  {
   "cell_type": "code",
   "execution_count": 128,
   "metadata": {
    "collapsed": false
   },
   "outputs": [
    {
     "data": {
      "text/plain": [
       "1.6518679479826659e-10"
      ]
     },
     "execution_count": 128,
     "metadata": {},
     "output_type": "execute_result"
    }
   ],
   "source": [
    "f(x(p_f(1*u.g/u.cm**3)))"
   ]
  },
  {
   "cell_type": "code",
   "execution_count": 38,
   "metadata": {
    "collapsed": false
   },
   "outputs": [],
   "source": [
    "rhos=np.logspace(0,15,15)*u.g/u.cm**3\n",
    "mu_e=0.5"
   ]
  },
  {
   "cell_type": "code",
   "execution_count": 53,
   "metadata": {
    "collapsed": false
   },
   "outputs": [
    {
     "name": "stdout",
     "output_type": "stream",
     "text": [
      "31479490.7908 m4 / (kg(2/3) s2)\n",
      "29634086788.9 m3 / (kg(1/3) s2)\n"
     ]
    }
   ],
   "source": [
    "P=(np.pi*m_e**4*c**5/(3.*h**3)).to(u.N/u.m**2)*[f(x(p_f(i))) for i in rhos]\n",
    "\n",
    "K_nr=(3./np.pi)**(2./3)*(h**2)/(20*m_e*m_p**(5./3)*mu_e**(5./3))\n",
    "K_ur=(3./np.pi)**(4./3)*h*c/(8*m_p**(4./3)*mu_e**(4./3))"
   ]
  },
  {
   "cell_type": "code",
   "execution_count": 57,
   "metadata": {
    "collapsed": false
   },
   "outputs": [
    {
     "data": {
      "text/latex": [
       "$2.9634087 \\times 10^{14} \\; \\mathrm{\\frac{N}{m^{2}}}$"
      ],
      "text/plain": [
       "<Quantity 296340867888867.4 N / m2>"
      ]
     },
     "execution_count": 57,
     "metadata": {},
     "output_type": "execute_result"
    }
   ],
   "source": [
    "(K_nr*(1*u.g/u.cm**3)**(5./3)).decompose().to(1.*u.N/u.m**2)\n",
    "(K_ur*(1*u.g/u.cm**3)**(4./3)).decompose().to(1.*u.N/u.m**2)"
   ]
  },
  {
   "cell_type": "code",
   "execution_count": 172,
   "metadata": {
    "collapsed": false
   },
   "outputs": [
    {
     "data": {
      "text/plain": [
       "<matplotlib.text.Text at 0x11a5a3850>"
      ]
     },
     "execution_count": 172,
     "metadata": {},
     "output_type": "execute_result"
    },
    {
     "data": {
      "image/png": "[encoded data removed]",
      "text/plain": [
       "<matplotlib.figure.Figure at 0x11a27f990>"
      ]
     },
     "metadata": {},
     "output_type": "display_data"
    }
   ],
   "source": [
    "plt.subplots(figsize=(7,5))\n",
    "plt.plot(np.log10(rhos/(1.*u.g/u.cm**3)), np.log10(P/(1.*u.g/(u.cm*u.s**2))),'.-',label='elec')\n",
    "z=np.arange(0,15)\n",
    "plt.plot(z, np.log10(K_nr/(1.*u.cm**4/(u.g**(2./3)*u.s**2)))+5/3.*z, label='Nonrelativistic '+r'$(\\rho^{5/3})$')\n",
    "plt.plot(z, np.log10(K_ur/(1.*u.cm**3/(u.g**(1./3)*u.s**2)))+4/3.*z, label='Ultrarelativistic '+r'$(\\rho^{5/3})$')\n",
    "plt.legend(loc='best')\n",
    "plt.xlabel(r\"$log_{10}(\\rho)$\")\n",
    "plt.ylabel(r\"$log_{10}(P)$\")"
   ]
  },
  {
   "cell_type": "code",
   "execution_count": 62,
   "metadata": {
    "collapsed": false
   },
   "outputs": [
    {
     "data": {
      "text/latex": [
       "$1 \\; \\mathrm{\\frac{kg}{m\\,s^{2}}}$"
      ],
      "text/plain": [
       "<Quantity 1.0 kg / (m s2)>"
      ]
     },
     "execution_count": 62,
     "metadata": {},
     "output_type": "execute_result"
    }
   ],
   "source": [
    "(1.*u.N/u.m**2).decompose()"
   ]
  },
  {
   "cell_type": "code",
   "execution_count": 102,
   "metadata": {
    "collapsed": false
   },
   "outputs": [
    {
     "data": {
      "text/latex": [
       "$0.87945555 \\; \\mathrm{Myr}$"
      ],
      "text/plain": [
       "<Quantity 0.8794555454558517 Myr>"
      ]
     },
     "execution_count": 102,
     "metadata": {},
     "output_type": "execute_result"
    }
   ],
   "source": [
    "# number 5\n",
    "((26.73*u.MeV*0.1*85*u.solMass/m_p*0.25)/((10**6.006)*1*u.solLum)).decompose().to(u.Myr)"
   ]
  },
  {
   "cell_type": "code",
   "execution_count": 106,
   "metadata": {
    "collapsed": false
   },
   "outputs": [
    {
     "data": {
      "text/latex": [
       "$150704.93 \\; \\mathrm{Gyr}$"
      ],
      "text/plain": [
       "<Quantity 150704.9309860643 Gyr>"
      ]
     },
     "execution_count": 106,
     "metadata": {},
     "output_type": "execute_result"
    }
   ],
   "source": [
    "((26.73*u.MeV*0.072*u.solMass/m_p*0.25)/((10**-4.3)*1*u.solLum)).decompose().to(u.Gyr)"
   ]
  },
  {
   "cell_type": "code",
   "execution_count": 145,
   "metadata": {
    "collapsed": false
   },
   "outputs": [
    {
     "data": {
      "text/latex": [
       "$9.1011002 \\times 10^{9} \\; \\mathrm{m}$"
      ],
      "text/plain": [
       "<Quantity 9101100161.04924 m>"
      ]
     },
     "execution_count": 145,
     "metadata": {},
     "output_type": "execute_result"
    }
   ],
   "source": [
    "a=((10**6.006*u.solLum/(sigma_sb*((10**4.705)*u.K)**4*4*np.pi))**0.5).decompose()\n",
    "a.to(u.m)\n",
    "#a.to(u.solRad)"
   ]
  },
  {
   "cell_type": "code",
   "execution_count": 146,
   "metadata": {
    "collapsed": false
   },
   "outputs": [
    {
     "data": {
      "text/latex": [
       "$57028755 \\; \\mathrm{m}$"
      ],
      "text/plain": [
       "<Quantity 57028755.446850814 m>"
      ]
     },
     "execution_count": 146,
     "metadata": {},
     "output_type": "execute_result"
    }
   ],
   "source": [
    "a=(((10**-4.3)*u.solLum/(sigma_sb*((10**3.23)*u.K)**4*4*np.pi))**0.5).decompose()\n",
    "a.to(u.m)\n",
    "#a.to(u.solRad)"
   ]
  },
  {
   "cell_type": "code",
   "execution_count": 124,
   "metadata": {
    "collapsed": false
   },
   "outputs": [
    {
     "data": {
      "text/latex": [
       "$2780025.1 \\; \\mathrm{L_{\\odot}}$"
      ],
      "text/plain": [
       "<Quantity 2780025.133551262 solLum>"
      ]
     },
     "execution_count": 124,
     "metadata": {},
     "output_type": "execute_result"
    }
   ],
   "source": [
    "(4*np.pi*G*m_p*c*85*u.solMass/(6.65e-25*u.cm**2)).decompose().to(u.solLum)"
   ]
  },
  {
   "cell_type": "code",
   "execution_count": 1,
   "metadata": {
    "collapsed": true
   },
   "outputs": [],
   "source": [
    "#number 4\n",
    "n=[1,1.5,2,3,3.5]\n",
    "z1=[3.14159,3.6536,4.35287,6.89684,9.4001]\n",
    "dzdx1=[-0.318311,-0.203319,-0.127249,-0.0424299,-0.0213961]"
   ]
  },
  {
   "cell_type": "code",
   "execution_count": 4,
   "metadata": {
    "collapsed": false
   },
   "outputs": [
    {
     "name": "stdout",
     "output_type": "stream",
     "text": [
      "0.455943676034\n",
      "0.488722773049\n",
      "0.516071303626\n",
      "0.55237993946\n",
      "0.559539644681\n"
     ]
    }
   ],
   "source": [
    "for i, ni in enumerate(n):\n",
    "    print 1./(ni+1.)*1./(z1[i]**4./3)*1./(dzdx1[i]**2./3)\n",
    "    "
   ]
  },
  {
   "cell_type": "code",
   "execution_count": 72,
   "metadata": {
    "collapsed": false
   },
   "outputs": [
    {
     "data": {
      "text/latex": [
       "$1.0577465 \\times 10^{9} \\; \\mathrm{\\frac{1}{m^{5}}}$"
      ],
      "text/plain": [
       "<Quantity 1057746478.8732394 1 / m5>"
      ]
     },
     "execution_count": 72,
     "metadata": {},
     "output_type": "execute_result"
    }
   ],
   "source": [
    "(((22.53*u.s/u.m**2)/(1.42e22*u.cm)/(1.5e-24*u.s*u.cm**2))).decompose()"
   ]
  },
  {
   "cell_type": "code",
   "execution_count": 100,
   "metadata": {
    "collapsed": false
   },
   "outputs": [
    {
     "data": {
      "text/latex": [
       "$1.6641562 \\times 10^{-34} \\; \\mathrm{\\frac{s^{5}\\,A^{2}}{kg\\,m^{3}}}$"
      ],
      "text/plain": [
       "<Quantity 1.664156204284091e-34 A2 s5 / (kg m3)>"
      ]
     },
     "execution_count": 100,
     "metadata": {},
     "output_type": "execute_result"
    }
   ],
   "source": [
    "(q_e**2/(2*np.pi*c**3*m_e)).decompose()"
   ]
  },
  {
   "cell_type": "code",
   "execution_count": 88,
   "metadata": {
    "collapsed": false
   },
   "outputs": [
    {
     "data": {
      "text/latex": [
       "$1.602 \\times 10^{-19} \\; \\mathrm{C}$"
      ],
      "text/plain": [
       "<Quantity 1.602e-19 C>"
      ]
     },
     "execution_count": 88,
     "metadata": {},
     "output_type": "execute_result"
    }
   ],
   "source": [
    "q_e=1.602e-19*u.C\n",
    "q_e"
   ]
  },
  {
   "cell_type": "code",
   "execution_count": 99,
   "metadata": {
    "collapsed": false
   },
   "outputs": [
    {
     "data": {
      "text/latex": [
       "$2.0371833 \\times 10^{-20} \\; \\mathrm{\\frac{kg}{m^{3}}}$"
      ],
      "text/plain": [
       "<Quantity 2.0371832715762606e-20 kg / m3>"
      ]
     },
     "execution_count": 99,
     "metadata": {},
     "output_type": "execute_result"
    }
   ],
   "source": [
    "(((4e-9*u.T)/(25*u.km/u.s))**2/mu0).decompose()"
   ]
  },
  {
   "cell_type": "code",
   "execution_count": 105,
   "metadata": {
    "collapsed": false
   },
   "outputs": [
    {
     "data": {
      "text/latex": [
       "$4.7558859 \\times 10^{21} \\; \\mathrm{s}$"
      ],
      "text/plain": [
       "<Quantity 4.755885930085823e+21 s>"
      ]
     },
     "execution_count": 105,
     "metadata": {},
     "output_type": "execute_result"
    }
   ],
   "source": [
    "(26.73*u.MeV/(4*m_p*c**2)*0.072*u.solMass*c**2/(10**(-4.3)*u.solLum)).decompose()"
   ]
  },
  {
   "cell_type": "code",
   "execution_count": 106,
   "metadata": {
    "collapsed": false
   },
   "outputs": [
    {
     "data": {
      "text/plain": [
       "158.6206896551724"
      ]
     },
     "execution_count": 106,
     "metadata": {},
     "output_type": "execute_result"
    }
   ],
   "source": [
    "46/0.29"
   ]
  },
  {
   "cell_type": "code",
   "execution_count": 109,
   "metadata": {
    "collapsed": false
   },
   "outputs": [
    {
     "data": {
      "text/latex": [
       "$0.39757942 \\; \\mathrm{\\frac{cm^{2}}{g}}$"
      ],
      "text/plain": [
       "<Quantity 0.39757942240399274 cm2 / g>"
      ]
     },
     "execution_count": 109,
     "metadata": {},
     "output_type": "execute_result"
    }
   ],
   "source": [
    "(6.65e-25*u.cm**2/m_p).decompose().to(u.cm**2/u.g)"
   ]
  },
  {
   "cell_type": "code",
   "execution_count": 115,
   "metadata": {
    "collapsed": false
   },
   "outputs": [
    {
     "data": {
      "text/latex": [
       "$2763202 \\; \\mathrm{L_{\\odot}}$"
      ],
      "text/plain": [
       "<Quantity 2763201.9671647334 solLum>"
      ]
     },
     "execution_count": 115,
     "metadata": {},
     "output_type": "execute_result"
    }
   ],
   "source": [
    "(4*np.pi*G*85*u.solMass*c/(0.4*u.cm**2/u.g)).to(u.solLum)"
   ]
  },
  {
   "cell_type": "code",
   "execution_count": 116,
   "metadata": {
    "collapsed": false
   },
   "outputs": [
    {
     "data": {
      "text/latex": [
       "$0.36693351 \\; \\mathrm{\\frac{1}{L_{\\odot}}}$"
      ],
      "text/plain": [
       "<Quantity 0.3669335060502415 1 / solLum>"
      ]
     },
     "execution_count": 116,
     "metadata": {},
     "output_type": "execute_result"
    }
   ],
   "source": [
    "10**6.006/_"
   ]
  },
  {
   "cell_type": "code",
   "execution_count": 120,
   "metadata": {
    "collapsed": false
   },
   "outputs": [
    {
     "data": {
      "text/latex": [
       "$3.6007707 \\times 10^{31} \\; \\mathrm{W}$"
      ],
      "text/plain": [
       "<Quantity 3.600770744148332e+31 W>"
      ]
     },
     "execution_count": 120,
     "metadata": {},
     "output_type": "execute_result"
    }
   ],
   "source": [
    "(4*np.pi*c*G*0.072*u.solMass/(0.01*u.cm**2/u.g)).to(u.W)"
   ]
  },
  {
   "cell_type": "code",
   "execution_count": 138,
   "metadata": {
    "collapsed": false
   },
   "outputs": [
    {
     "data": {
      "text/latex": [
       "$471.64108 \\; \\mathrm{\\frac{kW}{m^{2}}}$"
      ],
      "text/plain": [
       "<Quantity 471.6410830038765 kW / m2>"
      ]
     },
     "execution_count": 138,
     "metadata": {},
     "output_type": "execute_result"
    }
   ],
   "source": [
    "((sigma_sb*((10**3.23)*u.K)**4)).to(u.kW/u.m**2)"
   ]
  },
  {
   "cell_type": "code",
   "execution_count": 132,
   "metadata": {
    "collapsed": false
   },
   "outputs": [
    {
     "data": {
      "text/latex": [
       "$50699.071 \\; \\mathrm{K}$"
      ],
      "text/plain": [
       "<Quantity 50699.070827470445 K>"
      ]
     },
     "execution_count": 132,
     "metadata": {},
     "output_type": "execute_result"
    }
   ],
   "source": [
    "(10**4.705)*u.K"
   ]
  },
  {
   "cell_type": "code",
   "execution_count": 133,
   "metadata": {
    "collapsed": false
   },
   "outputs": [
    {
     "data": {
      "text/latex": [
       "$1698.2437 \\; \\mathrm{K}$"
      ],
      "text/plain": [
       "<Quantity 1698.2436524617442 K>"
      ]
     },
     "execution_count": 133,
     "metadata": {},
     "output_type": "execute_result"
    }
   ],
   "source": [
    "(10**3.23)*u.K"
   ]
  },
  {
   "cell_type": "code",
   "execution_count": 140,
   "metadata": {
    "collapsed": false
   },
   "outputs": [
    {
     "data": {
      "text/plain": [
       "0.08192279012595609"
      ]
     },
     "execution_count": 140,
     "metadata": {},
     "output_type": "execute_result"
    }
   ],
   "source": [
    "(10**-4.3)**0.5*(5777/10**3.23)**2"
   ]
  },
  {
   "cell_type": "code",
   "execution_count": 147,
   "metadata": {
    "collapsed": false
   },
   "outputs": [
    {
     "data": {
      "text/plain": [
       "159.58536585365854"
      ]
     },
     "execution_count": 147,
     "metadata": {},
     "output_type": "execute_result"
    }
   ],
   "source": [
    "13.086/0.082"
   ]
  },
  {
   "cell_type": "code",
   "execution_count": 155,
   "metadata": {
    "collapsed": false
   },
   "outputs": [
    {
     "name": "stdout",
     "output_type": "stream",
     "text": [
      "$\\{rho}$\n"
     ]
    }
   ],
   "source": [
    "print \"$\\{rho}$\""
   ]
  },
  {
   "cell_type": "code",
   "execution_count": null,
   "metadata": {
    "collapsed": true
   },
   "outputs": [],
   "source": []
  }
 ],
 "metadata": {
  "kernelspec": {
   "display_name": "Python 2",
   "language": "python",
   "name": "python2"
  },
  "language_info": {
   "codemirror_mode": {
    "name": "ipython",
    "version": 2
   },
   "file_extension": ".py",
   "mimetype": "text/x-python",
   "name": "python",
   "nbconvert_exporter": "python",
   "pygments_lexer": "ipython2",
   "version": "2.7.11"
  }
 },
 "nbformat": 4,
 "nbformat_minor": 0
}
