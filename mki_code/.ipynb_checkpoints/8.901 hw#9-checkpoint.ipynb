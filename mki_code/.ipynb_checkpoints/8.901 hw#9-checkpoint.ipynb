{
 "cells": [
  {
   "cell_type": "code",
   "execution_count": 2,
   "metadata": {
    "collapsed": false
   },
   "outputs": [],
   "source": [
    "import matplotlib.pyplot as plt\n",
    "import matplotlib\n",
    "import mpld3\n",
    "import numpy as np\n",
    "import pandas as pd\n",
    "from sympy import Eq, Symbol, solve\n",
    "\n",
    "%matplotlib inline"
   ]
  },
  {
   "cell_type": "code",
   "execution_count": 37,
   "metadata": {
    "collapsed": true
   },
   "outputs": [],
   "source": [
    "import astropy.units as u\n",
    "from astropy.constants import G, c, M_jup, M_sun, m_e, k_B, h, N_A, m_p, hbar, eps0, sigma_sb, e, mu0, R_earth, R_sun"
   ]
  },
  {
   "cell_type": "code",
   "execution_count": 8,
   "metadata": {
    "collapsed": false
   },
   "outputs": [
    {
     "data": {
      "text/latex": [
       "$1.1126501 \\times 10^{-18} \\; \\mathrm{\\frac{kg}{m^{3}}}$"
      ],
      "text/plain": [
       "<Quantity 1.1126500560536187e-18 kg / m3>"
      ]
     },
     "execution_count": 8,
     "metadata": {},
     "output_type": "execute_result"
    }
   ],
   "source": [
    "(u.Ba/c**2).decompose()"
   ]
  },
  {
   "cell_type": "code",
   "execution_count": 11,
   "metadata": {
    "collapsed": false
   },
   "outputs": [
    {
     "data": {
      "text/latex": [
       "$1.9086675 \\times 10^{11} \\; \\mathrm{\\frac{m^{2}}{s^{2}}}$"
      ],
      "text/plain": [
       "<Quantity 190866749828.90204 m2 / s2>"
      ]
     },
     "execution_count": 11,
     "metadata": {},
     "output_type": "execute_result"
    }
   ],
   "source": [
    "(G*M_sun/R_sun)"
   ]
  },
  {
   "cell_type": "code",
   "execution_count": 97,
   "metadata": {
    "collapsed": false
   },
   "outputs": [
    {
     "data": {
      "text/latex": [
       "$1.1126501 \\times 10^{-19} \\; \\mathrm{\\frac{m^{3}}{kg}}$"
      ],
      "text/plain": [
       "<Quantity 1.1126500560536186e-19 m3 / kg>"
      ]
     },
     "execution_count": 97,
     "metadata": {},
     "output_type": "execute_result"
    }
   ],
   "source": [
    "K_ab=1e5*u.Ba/(u.g/u.cm**3)**2\n",
    "K_ab.decompose()\n",
    "(K_ab/c**2).decompose()"
   ]
  },
  {
   "cell_type": "code",
   "execution_count": 75,
   "metadata": {
    "collapsed": false
   },
   "outputs": [
    {
     "data": {
      "text/latex": [
       "$0.011126501 \\; \\mathrm{}$"
      ],
      "text/plain": [
       "<Quantity 0.011126500560536184>"
      ]
     },
     "execution_count": 75,
     "metadata": {},
     "output_type": "execute_result"
    }
   ],
   "source": [
    "rho_c=1e14*u.g/u.cm**3\n",
    "(K_ab/c**2).decompose().to(u.cm**3/u.g)*rho_c"
   ]
  },
  {
   "cell_type": "code",
   "execution_count": 74,
   "metadata": {
    "collapsed": false
   },
   "outputs": [
    {
     "data": {
      "text/latex": [
       "$0.01 \\; \\mathrm{\\frac{m^{5}}{kg\\,s^{2}}}$"
      ],
      "text/plain": [
       "<Quantity 0.010000000000000002 m5 / (kg s2)>"
      ]
     },
     "execution_count": 74,
     "metadata": {},
     "output_type": "execute_result"
    }
   ],
   "source": []
  },
  {
   "cell_type": "code",
   "execution_count": 21,
   "metadata": {
    "collapsed": false
   },
   "outputs": [
    {
     "data": {
      "text/latex": [
       "$1.9086675 \\times 10^{10} \\; \\mathrm{}$"
      ],
      "text/plain": [
       "<Quantity 19086674982.8902>"
      ]
     },
     "execution_count": 21,
     "metadata": {},
     "output_type": "execute_result"
    }
   ],
   "source": [
    "(G*M_sun/R_sun/K_ab).decompose()"
   ]
  },
  {
   "cell_type": "code",
   "execution_count": 22,
   "metadata": {
    "collapsed": false
   },
   "outputs": [
    {
     "data": {
      "text/latex": [
       "$\\mathrm{0.1\\,\\frac{kg}{m\\,s^{2}}}$"
      ],
      "text/plain": [
       "Unit(\"0.1 kg / (m s2)\")"
      ]
     },
     "execution_count": 22,
     "metadata": {},
     "output_type": "execute_result"
    }
   ],
   "source": [
    "u.Ba.decompose()"
   ]
  },
  {
   "cell_type": "code",
   "execution_count": 55,
   "metadata": {
    "collapsed": false
   },
   "outputs": [
    {
     "data": {
      "text/latex": [
       "$0.022253001 \\; \\mathrm{}$"
      ],
      "text/plain": [
       "<Quantity 0.022253001121072376>"
      ]
     },
     "execution_count": 55,
     "metadata": {},
     "output_type": "execute_result"
    }
   ],
   "source": [
    "(rho_c*K_ab/c**2).decompose()*2"
   ]
  },
  {
   "cell_type": "code",
   "execution_count": 47,
   "metadata": {
    "collapsed": false
   },
   "outputs": [
    {
     "data": {
      "text/latex": [
       "$1137239.5 \\; \\mathrm{}$"
      ],
      "text/plain": [
       "<Quantity 1137239.5391479281>"
      ]
     },
     "execution_count": 47,
     "metadata": {},
     "output_type": "execute_result"
    }
   ],
   "source": [
    "(4/3.*np.pi*G/K_ab*(R_earth**2)).decompose()"
   ]
  },
  {
   "cell_type": "code",
   "execution_count": 49,
   "metadata": {
    "collapsed": false
   },
   "outputs": [
    {
     "data": {
      "text/latex": [
       "$0.020813189 \\; \\mathrm{}$"
      ],
      "text/plain": [
       "<Quantity 0.020813189220173414>"
      ]
     },
     "execution_count": 49,
     "metadata": {},
     "output_type": "execute_result"
    }
   ],
   "source": [
    "(G*M_sun/rho_c/R_earth/K_ab).decompose()"
   ]
  },
  {
   "cell_type": "markdown",
   "metadata": {},
   "source": [
    "## 1c "
   ]
  },
  {
   "cell_type": "code",
   "execution_count": 154,
   "metadata": {
    "collapsed": false
   },
   "outputs": [
    {
     "data": {
      "text/plain": [
       "<matplotlib.text.Text at 0x120ac9590>"
      ]
     },
     "execution_count": 154,
     "metadata": {},
     "output_type": "execute_result"
    },
    {
     "data": {
      "image/png": "[encoded data removed]",
      "text/plain": [
       "<matplotlib.figure.Figure at 0x120a83050>"
      ]
     },
     "metadata": {},
     "output_type": "display_data"
    }
   ],
   "source": [
    "x=np.arange(14.1,15.9,0.1)\n",
    "M=[4.6646, 4.55494, 4.42262, 4.26456, 4.07805, 3.8612, 3.61344, 3.33613, \\\n",
    "3.03307, 2.71067, 2.3779, 2.04542, 1.72452, 1.42556, 1.15666, \\\n",
    "0.922827, 0.725749, 0.564214, 0.43494]\n",
    "R=[2.48577, 2.46639, 2.44263, 2.41368, 2.37867, 2.33673, 2.28705, \\\n",
    "2.22897, 2.1621, 2.08649, 2.00267, 1.91183, 1.81573, 1.71665, \\\n",
    "1.61723, 1.52019, 1.42811, 1.34321, 1.26722]\n",
    "plt.plot(x,M,'.')\n",
    "plt.xlabel('Log(rho)')\n",
    "plt.ylabel('M')\n",
    "#plt.plot(x,r,'.')"
   ]
  },
  {
   "cell_type": "code",
   "execution_count": 171,
   "metadata": {
    "collapsed": false
   },
   "outputs": [
    {
     "data": {
      "text/latex": [
       "$25.052808 \\; \\mathrm{km}$"
      ],
      "text/plain": [
       "<Quantity 25.052807959371034 km>"
      ]
     },
     "execution_count": 171,
     "metadata": {},
     "output_type": "execute_result"
    }
   ],
   "source": [
    "r0=((G/(K_ab*4/3.*np.pi))**-0.5).decompose().to(u.km)\n",
    "r0"
   ]
  },
  {
   "cell_type": "code",
   "execution_count": 172,
   "metadata": {
    "collapsed": false
   },
   "outputs": [
    {
     "data": {
      "text/plain": [
       "<matplotlib.text.Text at 0x122898e10>"
      ]
     },
     "execution_count": 172,
     "metadata": {},
     "output_type": "execute_result"
    },
    {
     "data": {
      "image/png": "[encoded data removed]",
      "text/plain": [
       "<matplotlib.figure.Figure at 0x122185e90>"
      ]
     },
     "metadata": {},
     "output_type": "display_data"
    }
   ],
   "source": [
    "M_ns=(10**(x)*u.g/u.cm**3*4/3.*np.pi*r0**3*M).decompose().to(u.solMass)\n",
    "plt.plot(10**(x),M_ns.value,'.')\n",
    "plt.xscale('log')\n",
    "plt.xlabel('Log(rho)')\n",
    "plt.ylabel('Mass (solMass)')"
   ]
  },
  {
   "cell_type": "code",
   "execution_count": 173,
   "metadata": {
    "collapsed": false
   },
   "outputs": [
    {
     "data": {
      "text/plain": [
       "<matplotlib.text.Text at 0x122bc5d10>"
      ]
     },
     "execution_count": 173,
     "metadata": {},
     "output_type": "execute_result"
    },
    {
     "data": {
      "image/png": "[encoded data removed]",
      "text/plain": [
       "<matplotlib.figure.Figure at 0x122b8aed0>"
      ]
     },
     "metadata": {},
     "output_type": "display_data"
    }
   ],
   "source": [
    "R_ns=(R*r0).decompose().to(u.km)\n",
    "plt.plot(10**(x),R_ns.value,'.')\n",
    "plt.xscale('log')\n",
    "plt.xlabel('Log(rho)')\n",
    "plt.ylabel('Radius (km)')"
   ]
  },
  {
   "cell_type": "code",
   "execution_count": 174,
   "metadata": {
    "collapsed": false
   },
   "outputs": [
    {
     "data": {
      "text/plain": [
       "<matplotlib.text.Text at 0x122e5e690>"
      ]
     },
     "execution_count": 174,
     "metadata": {},
     "output_type": "execute_result"
    },
    {
     "data": {
      "image/png": "[encoded data removed]",
      "text/plain": [
       "<matplotlib.figure.Figure at 0x122b8ae90>"
      ]
     },
     "metadata": {},
     "output_type": "display_data"
    }
   ],
   "source": [
    "plt.plot(R_ns.value,M_ns.value,'.')\n",
    "plt.xscale('log')\n",
    "plt.xlabel('Log(Radius) (km)')\n",
    "plt.ylabel('Mass (solMass)')"
   ]
  },
  {
   "cell_type": "code",
   "execution_count": 79,
   "metadata": {
    "collapsed": false
   },
   "outputs": [
    {
     "data": {
      "text/latex": [
       "$2.9979246 \\times 10^{10} \\; \\mathrm{\\frac{cm}{s}}$"
      ],
      "text/plain": [
       "<Quantity 29979245800.0 cm / s>"
      ]
     },
     "execution_count": 79,
     "metadata": {},
     "output_type": "execute_result"
    }
   ],
   "source": [
    "c.to(u.cm/u.s)"
   ]
  },
  {
   "cell_type": "code",
   "execution_count": 81,
   "metadata": {
    "collapsed": false
   },
   "outputs": [
    {
     "data": {
      "text/latex": [
       "$6.67384 \\times 10^{-8} \\; \\mathrm{\\frac{cm^{3}}{g\\,s^{2}}}$"
      ],
      "text/plain": [
       "<Quantity 6.67384e-08 cm3 / (g s2)>"
      ]
     },
     "execution_count": 81,
     "metadata": {},
     "output_type": "execute_result"
    }
   ],
   "source": [
    "G.cgs"
   ]
  },
  {
   "cell_type": "code",
   "execution_count": 115,
   "metadata": {
    "collapsed": false
   },
   "outputs": [
    {
     "data": {
      "text/plain": [
       "[1.0000000000000001e+34,\n",
       " 1.4384498882876659e+34,\n",
       " 2.0691380811147815e+34,\n",
       " 2.976351441631313e+34,\n",
       " 4.281332398719396e+34,\n",
       " 6.15848211066028e+34,\n",
       " 8.858667904100795e+34,\n",
       " 1.274274985703132e+35,\n",
       " 1.8329807108324374e+35,\n",
       " 2.6366508987303662e+35,\n",
       " 3.7926901907322385e+35,\n",
       " 5.4555947811685156e+35,\n",
       " 7.847599703514623e+35,\n",
       " 1.1288378916846931e+36,\n",
       " 1.6237767391887175e+36,\n",
       " 2.3357214690901212e+36,\n",
       " 3.359818286283788e+36,\n",
       " 4.8329302385717326e+36,\n",
       " 6.951927961775591e+36,\n",
       " 1.0000000000000001e+37]"
      ]
     },
     "execution_count": 115,
     "metadata": {},
     "output_type": "execute_result"
    }
   ],
   "source": [
    "P=[]\n",
    "rhos=np.logspace(14.5,16,20)*u.g/u.cm**3\n",
    "for rho in rhos:\n",
    "    P.append((K_ab*rho**2).to(u.Ba).value)\n",
    "P"
   ]
  },
  {
   "cell_type": "code",
   "execution_count": 120,
   "metadata": {
    "collapsed": false
   },
   "outputs": [
    {
     "data": {
      "text/plain": [
       "<matplotlib.text.Text at 0x11d16af90>"
      ]
     },
     "execution_count": 120,
     "metadata": {},
     "output_type": "execute_result"
    },
    {
     "data": {
      "image/png": "[encoded data removed]",
      "text/plain": [
       "<matplotlib.figure.Figure at 0x11cd40390>"
      ]
     },
     "metadata": {},
     "output_type": "display_data"
    }
   ],
   "source": [
    "s=5\n",
    "fig=plt.subplots(figsize=(s,1.61803398875*s))\n",
    "plt.plot(rhos,P)\n",
    "plt.xscale('log')\n",
    "plt.yscale('log')\n",
    "plt.ylabel('Log(P)')\n",
    "plt.xlabel('Log(rho)')"
   ]
  },
  {
   "cell_type": "code",
   "execution_count": 111,
   "metadata": {
    "collapsed": false
   },
   "outputs": [
    {
     "data": {
      "text/latex": [
       "$1 \\times 10^{26} \\; \\mathrm{\\frac{m^{5}}{kg\\,s^{2}}}$"
      ],
      "text/plain": [
       "<Quantity 1.0000000000000002e+26 m5 / (kg s2)>"
      ]
     },
     "execution_count": 111,
     "metadata": {},
     "output_type": "execute_result"
    }
   ],
   "source": [
    "(K_ab*rho**2).decompose()"
   ]
  },
  {
   "cell_type": "markdown",
   "metadata": {},
   "source": [
    "## 1f"
   ]
  },
  {
   "cell_type": "code",
   "execution_count": null,
   "metadata": {
    "collapsed": true
   },
   "outputs": [],
   "source": [
    "M146=[3.61344, 3.33613, 3.03307, 2.71067, 2.3779, 2.04542, 1.72452, \\\n",
    "3.33613, 3.03307, 2.71067, 2.3779, 2.04542, 1.72452, 1.42556, \\\n",
    "1.15666, 0.922827, 0.725749, 0.564214, 0.43494]\n",
    "\n",
    "\n",
    "M140=\n",
    "\n",
    "\n",
    "M150="
   ]
  }
 ],
 "metadata": {
  "kernelspec": {
   "display_name": "Python 2",
   "language": "python",
   "name": "python2"
  },
  "language_info": {
   "codemirror_mode": {
    "name": "ipython",
    "version": 2
   },
   "file_extension": ".py",
   "mimetype": "text/x-python",
   "name": "python",
   "nbconvert_exporter": "python",
   "pygments_lexer": "ipython2",
   "version": "2.7.11"
  }
 },
 "nbformat": 4,
 "nbformat_minor": 0
}
