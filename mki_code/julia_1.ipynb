{
 "cells": [
  {
   "cell_type": "code",
   "execution_count": 2,
   "metadata": {
    "collapsed": false
   },
   "outputs": [
    {
     "name": "stdout",
     "output_type": "stream",
     "text": [
      "search: "
     ]
    },
    {
     "data": {
      "text/latex": [
       "\\begin{verbatim}\n",
       "linspace(start, stop, n=100)\n",
       "\\end{verbatim}\n",
       "Construct a range of \\texttt{n} linearly spaced elements from \\texttt{start} to \\texttt{stop}.\n"
      ],
      "text/markdown": [
       "```\n",
       "linspace(start, stop, n=100)\n",
       "```\n",
       "\n",
       "Construct a range of `n` linearly spaced elements from `start` to `stop`.\n"
      ],
      "text/plain": [
       "```\n",
       "linspace(start, stop, n=100)\n",
       "```\n",
       "\n",
       "Construct a range of `n` linearly spaced elements from `start` to `stop`.\n"
      ]
     },
     "execution_count": 2,
     "metadata": {},
     "output_type": "execute_result"
    },
    {
     "name": "stdout",
     "output_type": "stream",
     "text": [
      "linspace LinSpace InlineDisplay\n",
      "\n"
     ]
    }
   ],
   "source": [
    "?linspace"
   ]
  },
  {
   "cell_type": "code",
   "execution_count": 3,
   "metadata": {
    "collapsed": false
   },
   "outputs": [
    {
     "name": "stdout",
     "output_type": "stream",
     "text": [
      "8.901-hw2.ipynb\n",
      "8.901-hw3.ipynb\n",
      "8.901_hw5.html\n",
      "8.901_hw5.ipynb\n",
      "Seaborn Python.ipynb\n",
      "julia_1.ipynb\n",
      "mki_code_mpld3.ipynb\n",
      "mki_test.html\n"
     ]
    }
   ],
   "source": [
    ";ls"
   ]
  },
  {
   "cell_type": "code",
   "execution_count": 11,
   "metadata": {
    "collapsed": false
   },
   "outputs": [
    {
     "data": {
      "text/plain": [
       "100-element Array{Int64,1}:\n",
       "     1\n",
       "     4\n",
       "     9\n",
       "    16\n",
       "    25\n",
       "    36\n",
       "    49\n",
       "    64\n",
       "    81\n",
       "   100\n",
       "   121\n",
       "   144\n",
       "   169\n",
       "     ⋮\n",
       "  7921\n",
       "  8100\n",
       "  8281\n",
       "  8464\n",
       "  8649\n",
       "  8836\n",
       "  9025\n",
       "  9216\n",
       "  9409\n",
       "  9604\n",
       "  9801\n",
       " 10000"
      ]
     },
     "execution_count": 11,
     "metadata": {},
     "output_type": "execute_result"
    }
   ],
   "source": [
    "[x*x for x in collect(1:100)]"
   ]
  },
  {
   "cell_type": "code",
   "execution_count": null,
   "metadata": {
    "collapsed": true
   },
   "outputs": [],
   "source": []
  }
 ],
 "metadata": {
  "kernelspec": {
   "display_name": "Julia 0.4.3",
   "language": "julia",
   "name": "julia-0.4"
  },
  "language_info": {
   "file_extension": ".jl",
   "mimetype": "application/julia",
   "name": "julia",
   "version": "0.4.3"
  }
 },
 "nbformat": 4,
 "nbformat_minor": 0
}
