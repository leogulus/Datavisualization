{
 "cells": [
  {
   "cell_type": "code",
   "execution_count": 48,
   "metadata": {
    "collapsed": false
   },
   "outputs": [],
   "source": [
    "import matplotlib.pyplot as plt\n",
    "import matplotlib\n",
    "import mpld3\n",
    "import numpy as np\n",
    "import pandas as pd\n",
    "from sympy import Eq, Symbol, solve\n",
    "\n",
    "%matplotlib inline"
   ]
  },
  {
   "cell_type": "code",
   "execution_count": 49,
   "metadata": {
    "collapsed": true
   },
   "outputs": [],
   "source": [
    "import astropy.units as u\n",
    "from astropy.constants import G, c, M_jup, M_sun, m_e, k_B, h, N_A, m_p, hbar, eps0, sigma_sb, e, mu0, R_earth, R_sun"
   ]
  },
  {
   "cell_type": "code",
   "execution_count": 50,
   "metadata": {
    "collapsed": false
   },
   "outputs": [
    {
     "data": {
      "text/plain": [
       "270320623.32924783"
      ]
     },
     "execution_count": 50,
     "metadata": {},
     "output_type": "execute_result"
    }
   ],
   "source": [
    "#1c\n",
    "rho=1e7*u.g/u.cm**3\n",
    "m_ni=58.69*m_p\n",
    "m_he=4.002*m_p\n",
    "Q=87.78*u.MeV\n",
    "a=lambda T: (m_ni/m_he**14)**2.5\n",
    "#a(1e9*u.K)\n",
    "#(m_ni/m_he**14.)\n",
    "4.002**14"
   ]
  },
  {
   "cell_type": "code",
   "execution_count": 47,
   "metadata": {
    "collapsed": false
   },
   "outputs": [
    {
     "data": {
      "text/latex": [
       "$1.6329759 \\times 10^{82} \\; \\mathrm{}$"
      ],
      "text/plain": [
       "<Quantity 1.63297586573902e+82>"
      ]
     },
     "execution_count": 47,
     "metadata": {},
     "output_type": "execute_result"
    }
   ],
   "source": [
    "#m_p\n",
    "T=5e9*u.K\n",
    "(Q/(k_B*T)).decompose()\n",
    "np.exp(Q/(k_B*T))*(58.69/4.002**14)*2.5"
   ]
  },
  {
   "cell_type": "code",
   "execution_count": 52,
   "metadata": {
    "collapsed": false
   },
   "outputs": [
    {
     "data": {
      "text/latex": [
       "$120122.83 \\; \\mathrm{\\frac{cm^{2}\\,K}{g^{2/3}}}$"
      ],
      "text/plain": [
       "<Quantity 120122.83304424108 cm2 K / g(2/3)>"
      ]
     },
     "execution_count": 52,
     "metadata": {},
     "output_type": "execute_result"
    }
   ],
   "source": [
    "#2c\n",
    "result=(3./np.pi)**(2/3.)*h**2/(20.*m_e*m_p**(2/3.))/k_B\n",
    "#print result.decompose()\n",
    "result.to(u.cm**2*u.K/u.g**(2/3.))"
   ]
  },
  {
   "cell_type": "code",
   "execution_count": 85,
   "metadata": {
    "collapsed": false
   },
   "outputs": [
    {
     "data": {
      "text/latex": [
       "$1.2531363 \\times 10^{-8} \\; \\mathrm{\\frac{m^{4}}{kg\\,s^{3}\\,K^{7/2}}}$"
      ],
      "text/plain": [
       "<Quantity 1.2531362881319489e-08 m4 / (K(7/2) kg s3)>"
      ]
     },
     "execution_count": 85,
     "metadata": {},
     "output_type": "execute_result"
    }
   ],
   "source": [
    "#2d \n",
    "a=4.*sigma_sb/c\n",
    "b=(3./np.pi)**(2/3.)*h**2/(20.*m_e*m_p**(2/3.))/k_B\n",
    "res=(4./17*16.*np.pi*a*b**3*c/3.*G*m_p/k_B)/(u.cm**3/u.g*u.K**3.5)\n",
    "res.decompose()\n",
    "#(res.decompose()*u.kg/k*T**3.5).to(u.W)\n",
    "#res.to(u.m**3/)"
   ]
  },
  {
   "cell_type": "code",
   "execution_count": 54,
   "metadata": {
    "collapsed": false
   },
   "outputs": [
    {
     "data": {
      "text/latex": [
       "$3.846 \\times 10^{26} \\; \\mathrm{\\frac{m^{2}\\,kg}{s^{3}}}$"
      ],
      "text/plain": [
       "<Quantity 3.846e+26 kg m2 / s3>"
      ]
     },
     "execution_count": 54,
     "metadata": {},
     "output_type": "execute_result"
    }
   ],
   "source": [
    "(1*u.solLum).decompose()"
   ]
  },
  {
   "cell_type": "code",
   "execution_count": 55,
   "metadata": {
    "collapsed": false
   },
   "outputs": [
    {
     "data": {
      "text/latex": [
       "$9.7387818 \\times 10^{-9} \\; \\mathrm{\\frac{K^{7/4}\\,kg^{1/2}}{m^{3/2}}}$"
      ],
      "text/plain": [
       "<Quantity 9.73878183940623e-09 K(7/4) kg(1/2) / m(3/2)>"
      ]
     },
     "execution_count": 55,
     "metadata": {},
     "output_type": "execute_result"
    }
   ],
   "source": [
    "aa=(a*c*G*1*u.solMass*m_p/(1.*u.solLum*1*(u.cm**2/u.g)*k_B))**0.5*1*u.K**(13./4)\n",
    "aa.decompose()"
   ]
  },
  {
   "cell_type": "code",
   "execution_count": 56,
   "metadata": {
    "collapsed": false
   },
   "outputs": [
    {
     "data": {
      "text/latex": [
       "$7.5657314 \\times 10^{-15} \\; \\mathrm{\\frac{erg}{cm^{3}\\,K^{4}}}$"
      ],
      "text/plain": [
       "<Quantity 7.565731356724124e-15 erg / (cm3 K4)>"
      ]
     },
     "execution_count": 56,
     "metadata": {},
     "output_type": "execute_result"
    }
   ],
   "source": [
    "a.to(u.erg*u.cm**-3*u.K**-4)"
   ]
  },
  {
   "cell_type": "code",
   "execution_count": 57,
   "metadata": {
    "collapsed": false
   },
   "outputs": [
    {
     "data": {
      "text/latex": [
       "$6.7826226 \\times 10^{39} \\; \\mathrm{\\frac{K}{m}}$"
      ],
      "text/plain": [
       "<Quantity 6.782622589378157e+39 K / m>"
      ]
     },
     "execution_count": 57,
     "metadata": {},
     "output_type": "execute_result"
    }
   ],
   "source": [
    "(1*(u.g/u.cm**3)*1*(u.cm**2/u.g)*1*u.solLum/(sigma_sb*1*u.K**3*1*u.cm**2)).decompose()"
   ]
  },
  {
   "cell_type": "code",
   "execution_count": 58,
   "metadata": {
    "collapsed": false
   },
   "outputs": [
    {
     "data": {
      "text/latex": [
       "$1.3806488 \\times 10^{-20} \\; \\mathrm{\\frac{kg}{m\\,s^{2}}}$"
      ],
      "text/plain": [
       "<Quantity 1.3806488e-20 kg / (m s2)>"
      ]
     },
     "execution_count": 58,
     "metadata": {},
     "output_type": "execute_result"
    }
   ],
   "source": [
    "((u.g/u.cm**3)/u.kg*k_B*u.K).decompose()"
   ]
  },
  {
   "cell_type": "code",
   "execution_count": 59,
   "metadata": {
    "collapsed": false
   },
   "outputs": [
    {
     "data": {
      "text/latex": [
       "$\\mathrm{\\frac{kg}{m\\,s^{2}}}$"
      ],
      "text/plain": [
       "Unit(\"kg / (m s2)\")"
      ]
     },
     "execution_count": 59,
     "metadata": {},
     "output_type": "execute_result"
    }
   ],
   "source": [
    "(u.N/u.m**2).decompose()"
   ]
  },
  {
   "cell_type": "code",
   "execution_count": 60,
   "metadata": {
    "collapsed": false
   },
   "outputs": [
    {
     "data": {
      "text/latex": [
       "$2.9979246 \\times 10^{8} \\; \\mathrm{\\frac{m}{s}}$"
      ],
      "text/plain": [
       "<Constant name=u'Speed of light in vacuum' value=299792458.0 uncertainty=0.0 unit='m / s' reference=u'CODATA 2010'>"
      ]
     },
     "execution_count": 60,
     "metadata": {},
     "output_type": "execute_result"
    }
   ],
   "source": [
    "c"
   ]
  },
  {
   "cell_type": "code",
   "execution_count": 61,
   "metadata": {
    "collapsed": false
   },
   "outputs": [
    {
     "data": {
      "text/latex": [
       "$3.1315167 \\times 10^{-15} \\; \\mathrm{\\frac{K^{5/2}\\,m^{2}}{s^{2}}}$"
      ],
      "text/plain": [
       "<Quantity 3.1315167474691092e-15 K(5/2) m2 / s2>"
      ]
     },
     "execution_count": 61,
     "metadata": {},
     "output_type": "execute_result"
    }
   ],
   "source": [
    "(4*a*c*G*M_sun*(1*u.K)**6.5/(1*(u.cm**2/u.g)*u.solLum*1.*(u.g/u.cm**3))).decompose()"
   ]
  },
  {
   "cell_type": "code",
   "execution_count": 86,
   "metadata": {
    "collapsed": false
   },
   "outputs": [
    {
     "data": {
      "text/latex": [
       "$7.8287919 \\times 10^{-13} \\; \\mathrm{\\frac{N}{K\\,m^{2}}}$"
      ],
      "text/plain": [
       "<Quantity 7.828791868672773e-13 N / (K m2)>"
      ]
     },
     "execution_count": 86,
     "metadata": {},
     "output_type": "execute_result"
    }
   ],
   "source": [
    "T=1*u.K\n",
    "k=1*u.cm**2/u.g\n",
    "rho=1*(u.g/u.cm**3)\n",
    "(a*c*G*M_sun*T**3./(k*1*u.solLum)).decompose().to(u.N/u.m**2/u.K)\n",
    "\n",
    "k0=1*u.cm**2/u.g*u.cm**3/u.g*u.K**3.5\n",
    "(a*c*G*M_sun*T**6.5/(k0*1*u.solLum*rho)).decompose().to(u.N/u.m**2/u.K)"
   ]
  },
  {
   "cell_type": "code",
   "execution_count": 113,
   "metadata": {
    "collapsed": false
   },
   "outputs": [
    {
     "data": {
      "text/latex": [
       "$0.0015952937 \\; \\mathrm{L_{\\odot}}$"
      ],
      "text/plain": [
       "<Quantity 0.0015952937456525952 solLum>"
      ]
     },
     "execution_count": 113,
     "metadata": {},
     "output_type": "execute_result"
    }
   ],
   "source": [
    "#2e\n",
    "mu=1.3793\n",
    "mu_e=2.\n",
    "M=M_sun\n",
    "Tc=1e7*u.K\n",
    "k_0=4.43e23*u.cm**2/u.g\n",
    "\n",
    "L=res*mu/(mu_e**2)*M/k_0*Tc**(7./2.)\n",
    "L.decompose().to(u.solLum)"
   ]
  },
  {
   "cell_type": "code",
   "execution_count": 114,
   "metadata": {
    "collapsed": false
   },
   "outputs": [
    {
     "data": {
      "text/latex": [
       "$8.750755 \\times 10^{8} \\; \\mathrm{K}$"
      ],
      "text/plain": [
       "<Quantity 875075500.3451886 K>"
      ]
     },
     "execution_count": 114,
     "metadata": {},
     "output_type": "execute_result"
    }
   ],
   "source": [
    "#2f\n",
    "T0=(1e4*u.solLum/res*(mu_e**2)/mu*k_0/M)**(2/7.)\n",
    "T0.decompose()"
   ]
  },
  {
   "cell_type": "code",
   "execution_count": 115,
   "metadata": {
    "collapsed": false
   },
   "outputs": [
    {
     "data": {
      "text/latex": [
       "$14.797365 \\; \\mathrm{kyr}$"
      ],
      "text/plain": [
       "<Quantity 14.797364823417718 kyr>"
      ]
     },
     "execution_count": 115,
     "metadata": {},
     "output_type": "execute_result"
    }
   ],
   "source": [
    "tau0=M*T0/(1e4*u.solLum)*1.5*k_B/(12.*m_p)\n",
    "tau0.decompose().to(u.kyr)"
   ]
  },
  {
   "cell_type": "code",
   "execution_count": 104,
   "metadata": {
    "collapsed": false
   },
   "outputs": [
    {
     "data": {
      "text/latex": [
       "$0.46089251 \\; \\mathrm{ms}$"
      ],
      "text/plain": [
       "<Quantity 0.46089250586681824 ms>"
      ]
     },
     "execution_count": 104,
     "metadata": {},
     "output_type": "execute_result"
    }
   ],
   "source": [
    "#4b\n",
    "M=1.4*u.solMass\n",
    "R=10*u.km\n",
    "P=(4*np.pi**2*R**3/(G*M))**0.5\n",
    "P.to(u.ms)"
   ]
  },
  {
   "cell_type": "code",
   "execution_count": 23,
   "metadata": {
    "collapsed": false
   },
   "outputs": [],
   "source": [
    "#4c\n",
    "omega=(2*np.pi/(2*P)).decompose()"
   ]
  },
  {
   "cell_type": "code",
   "execution_count": 24,
   "metadata": {
    "collapsed": false
   },
   "outputs": [
    {
     "data": {
      "text/latex": [
       "$3125 \\; \\mathrm{m}$"
      ],
      "text/plain": [
       "<Quantity 3125.0000000000005 m>"
      ]
     },
     "execution_count": 24,
     "metadata": {},
     "output_type": "execute_result"
    }
   ],
   "source": [
    "(5*omega**2*R**4/(4*G*M)).decompose()"
   ]
  },
  {
   "cell_type": "code",
   "execution_count": 25,
   "metadata": {
    "collapsed": false
   },
   "outputs": [
    {
     "data": {
      "text/plain": [
       "3.085677581467192e+21"
      ]
     },
     "execution_count": 25,
     "metadata": {},
     "output_type": "execute_result"
    }
   ],
   "source": [
    "1*u.kpc.to(u.cm)"
   ]
  },
  {
   "cell_type": "code",
   "execution_count": 93,
   "metadata": {
    "collapsed": false
   },
   "outputs": [
    {
     "data": {
      "text/plain": [
       "1.379310344827586"
      ]
     },
     "execution_count": 93,
     "metadata": {},
     "output_type": "execute_result"
    }
   ],
   "source": [
    "1/(0.75*0.9+0.5*0.1)"
   ]
  },
  {
   "cell_type": "code",
   "execution_count": 116,
   "metadata": {
    "collapsed": false
   },
   "outputs": [
    {
     "data": {
      "text/latex": [
       "$1.6726218 \\times 10^{-27} \\; \\mathrm{kg}$"
      ],
      "text/plain": [
       "<Constant name=u'Proton mass' value=1.672621777e-27 uncertainty=7.4e-35 unit='kg' reference=u'CODATA 2010'>"
      ]
     },
     "execution_count": 116,
     "metadata": {},
     "output_type": "execute_result"
    }
   ],
   "source": [
    "m_p"
   ]
  },
  {
   "cell_type": "code",
   "execution_count": 117,
   "metadata": {
    "collapsed": false
   },
   "outputs": [
    {
     "data": {
      "text/latex": [
       "$1.3806488 \\times 10^{-23} \\; \\mathrm{\\frac{J}{K}}$"
      ],
      "text/plain": [
       "<Constant name=u'Boltzmann constant' value=1.3806488e-23 uncertainty=1.3e-29 unit='J / K' reference=u'CODATA 2010'>"
      ]
     },
     "execution_count": 117,
     "metadata": {},
     "output_type": "execute_result"
    }
   ],
   "source": [
    "k_B"
   ]
  },
  {
   "cell_type": "code",
   "execution_count": 122,
   "metadata": {
    "collapsed": false
   },
   "outputs": [
    {
     "data": {
      "text/latex": [
       "$203.72894 \\; \\mathrm{}$"
      ],
      "text/plain": [
       "<Quantity 203.72894088011375>"
      ]
     },
     "execution_count": 122,
     "metadata": {},
     "output_type": "execute_result"
    }
   ],
   "source": [
    "(87.78*u.MeV/(k_B*5e9*u.K)).decompose()"
   ]
  },
  {
   "cell_type": "code",
   "execution_count": 132,
   "metadata": {
    "collapsed": false
   },
   "outputs": [
    {
     "data": {
      "text/latex": [
       "$5.0611463 \\times 10^{-45} \\; \\mathrm{m^{2}\\,K\\,kg}$"
      ],
      "text/plain": [
       "<Quantity 5.061146338325275e-45 K kg m2>"
      ]
     },
     "execution_count": 132,
     "metadata": {},
     "output_type": "execute_result"
    }
   ],
   "source": [
    "(h**2/(2*np.pi*k_B)).decompose()"
   ]
  },
  {
   "cell_type": "code",
   "execution_count": 130,
   "metadata": {
    "collapsed": false
   },
   "outputs": [
    {
     "data": {
      "text/latex": [
       "$1 \\times 10^{10} \\; \\mathrm{\\frac{kg}{m^{3}}}$"
      ],
      "text/plain": [
       "<Quantity 9999999999.999998 kg / m3>"
      ]
     },
     "execution_count": 130,
     "metadata": {},
     "output_type": "execute_result"
    }
   ],
   "source": [
    "rho1=1e7*u.g/u.cm**3\n",
    "rho1.to(u.kg/u.m**3)"
   ]
  },
  {
   "cell_type": "code",
   "execution_count": null,
   "metadata": {
    "collapsed": true
   },
   "outputs": [],
   "source": []
  }
 ],
 "metadata": {
  "kernelspec": {
   "display_name": "Python 2",
   "language": "python",
   "name": "python2"
  },
  "language_info": {
   "codemirror_mode": {
    "name": "ipython",
    "version": 2
   },
   "file_extension": ".py",
   "mimetype": "text/x-python",
   "name": "python",
   "nbconvert_exporter": "python",
   "pygments_lexer": "ipython2",
   "version": "2.7.11"
  }
 },
 "nbformat": 4,
 "nbformat_minor": 0
}
