{
 "cells": [
  {
   "cell_type": "code",
   "execution_count": 216,
   "metadata": {
    "collapsed": true
   },
   "outputs": [],
   "source": [
    "import urllib2\n",
    "import ast \n",
    "import matplotlib\n",
    "import matplotlib.pyplot as plt\n",
    "import time\n",
    "from datetime import datetime\n",
    "%matplotlib inline"
   ]
  },
  {
   "cell_type": "code",
   "execution_count": 217,
   "metadata": {
    "collapsed": true
   },
   "outputs": [],
   "source": [
    "def name(name):\n",
    "    if 'uberX' == name:\n",
    "        return 'uberx'\n",
    "    elif 'SUV' in name:\n",
    "        return 'suv'\n",
    "    elif 'UberBlack' in name:\n",
    "        return 'black'\n",
    "    elif 'Sedan' == name:\n",
    "        return 'sedan'\n",
    "    else: \n",
    "        return name"
   ]
  },
  {
   "cell_type": "code",
   "execution_count": 218,
   "metadata": {
    "collapsed": false
   },
   "outputs": [],
   "source": [
    "class Uber(object):\n",
    "    def __init__(self, list):            \n",
    "        self.uberx_high = [d['uberx']['high'] for d in list]\n",
    "        self.uberx_low = [d['uberx']['low'] for d in list]\n",
    "        self.uberx_surge = [d['uberx']['surge'] for d in list]\n",
    "        self.suv_high = [d['suv']['high'] for d in list]\n",
    "        self.suv_low = [d['suv']['low'] for d in list]\n",
    "        self.suv_surge = [d['suv']['surge'] for d in list]\n",
    "        self.black_high = [d['black']['high'] for d in list]\n",
    "        self.black_low = [d['black']['low'] for d in list]\n",
    "        self.black_surge = [d['black']['surge'] for d in list]\n",
    "        self.sedan_high = [d['sedan']['high'] for d in list]\n",
    "        self.sedan_low = [d['sedan']['low'] for d in list]\n",
    "        self.sedan_surge = [d['sedan']['surge'] for d in list]\n",
    "    "
   ]
  },
  {
   "cell_type": "code",
   "execution_count": 237,
   "metadata": {
    "collapsed": true
   },
   "outputs": [],
   "source": [
    "def uber_web(url):\n",
    "    webpage = urllib2.urlopen(url)\n",
    "    data_json = webpage.read()\n",
    "    data = ast.literal_eval(data_json)\n",
    "    instance=data.values()[0]\n",
    "    return dict([[name(key['display_name']),{'high':key['high_estimate'],'low':key['low_estimate'],\\\n",
    "                                             'dist':key['distance'],'surge':key['surge_multiplier'],\\\n",
    "                                             'time':datetime.now()}] for key in instance])"
   ]
  },
  {
   "cell_type": "code",
   "execution_count": 219,
   "metadata": {
    "collapsed": false
   },
   "outputs": [],
   "source": [
    "###  location latitude and longitude\n",
    "sanamlung=[13.75509, 100.49303]\n",
    "paragon=[13.74448, 100.53309] \n",
    "kasert=[13.84559, 100.56525]\n",
    "seacon=[13.69424, 100.64782]"
   ]
  },
  {
   "cell_type": "code",
   "execution_count": 225,
   "metadata": {
    "collapsed": false
   },
   "outputs": [
    {
     "name": "stdout",
     "output_type": "stream",
     "text": [
      "done:0\n",
      "sleep for 5 mins\n",
      "done:1\n",
      "sleep for 5 mins\n",
      "done:2\n",
      "sleep for 5 mins\n",
      "done:3\n",
      "sleep for 5 mins\n",
      "done:4\n",
      "sleep for 5 mins\n",
      "done:5\n",
      "sleep for 5 mins\n",
      "done:6\n",
      "sleep for 5 mins\n",
      "done:7\n",
      "sleep for 5 mins\n",
      "done:8\n",
      "done:9\n"
     ]
    }
   ],
   "source": [
    "url = 'https://api.uber.com/v1/estimates/price?start_latitude=%s&start_longitude=%s'\\\n",
    "+'&end_latitude=%s&end_longitude=%s&server_token=0xqzfosImWHnzD9MZzcR3x-EMA-n1lLxWORCTuLv'\n",
    "url_1=url % (str(sanamlung[0]), str(sanamlung[1]), str(paragon[0]), str(paragon[1]))\n",
    "url_2=url % (str(sanamlung[0]), str(sanamlung[1]), str(kasert[0]), str(kasert[1]))\n",
    "url_3=url % (str(sanamlung[0]), str(sanamlung[1]), str(seacon[0]), str(seacon[1]))\n",
    "\n",
    "\n",
    "numtime=10\n",
    "l1=[]\n",
    "for i in range(numtime):\n",
    "    if i>0 and i<numtime-1:\n",
    "        print 'sleep for 5 mins'\n",
    "        time.sleep(300)\n",
    "    uber_web(url_1)\n",
    "    uber_web(url_2)\n",
    "    l1.append(u)\n",
    "    print 'done:'+str(i)\n",
    "    "
   ]
  },
  {
   "cell_type": "code",
   "execution_count": 236,
   "metadata": {
    "collapsed": false
   },
   "outputs": [
    {
     "data": {
      "text/plain": [
       "<matplotlib.text.Text at 0x10c92e650>"
      ]
     },
     "execution_count": 236,
     "metadata": {},
     "output_type": "execute_result"
    },
    {
     "data": {
      "image/png": "[encoded data removed]",
      "text/plain": [
       "<matplotlib.figure.Figure at 0x10b7ea290>"
      ]
     },
     "metadata": {},
     "output_type": "display_data"
    }
   ],
   "source": [
    "#dates = matplotlib.dates.date2num([x['uberx']['time'] for x in l1])\n",
    "plt.plot([x['uberx']['time'] for x in l1], [x['uberx']['high'] for x in l1], marker='o')\n",
    "plt.plot([x['black']['time'] for x in l1], [x['black']['high'] for x in l1], marker='o')\n",
    "plt.gcf().autofmt_xdate()\n",
    "plt.xlabel('time')\n",
    "plt.ylabel('Uber Price Estimate')"
   ]
  },
  {
   "cell_type": "code",
   "execution_count": 95,
   "metadata": {
    "collapsed": false,
    "scrolled": true
   },
   "outputs": [
    {
     "data": {
      "text/plain": [
       "[{'currency_code': 'THB',\n",
       "  'display_name': 'uberX',\n",
       "  'distance': 3.53,\n",
       "  'duration': 780,\n",
       "  'estimate': '\\\\u0e3f59-71',\n",
       "  'high_estimate': 71,\n",
       "  'localized_display_name': 'uberX',\n",
       "  'low_estimate': 59,\n",
       "  'minimum': 25,\n",
       "  'product_id': '2541f77c-920a-45c4-8bf3-603ecd625195',\n",
       "  'surge_multiplier': 1.0},\n",
       " {'currency_code': 'THB',\n",
       "  'display_name': 'Nearest UberBlack',\n",
       "  'distance': 3.53,\n",
       "  'duration': 780,\n",
       "  'estimate': '\\\\u0e3f150-184',\n",
       "  'high_estimate': 184,\n",
       "  'localized_display_name': 'Nearest UberBlack',\n",
       "  'low_estimate': 150,\n",
       "  'minimum': 50,\n",
       "  'product_id': '179935d5-d763-461e-8818-1367cb9b61f2',\n",
       "  'surge_multiplier': 1.0},\n",
       " {'currency_code': 'THB',\n",
       "  'display_name': 'Sedan',\n",
       "  'distance': 3.53,\n",
       "  'duration': 780,\n",
       "  'estimate': '\\\\u0e3f150-184',\n",
       "  'high_estimate': 184,\n",
       "  'localized_display_name': 'Sedan',\n",
       "  'low_estimate': 150,\n",
       "  'minimum': 50,\n",
       "  'product_id': 'e7dda7a6-6d45-4025-94b2-07739243c7a8',\n",
       "  'surge_multiplier': 1.0},\n",
       " {'currency_code': 'THB',\n",
       "  'display_name': 'SUV\\\\/MPV',\n",
       "  'distance': 3.53,\n",
       "  'duration': 780,\n",
       "  'estimate': '\\\\u0e3f150-184',\n",
       "  'high_estimate': 184,\n",
       "  'localized_display_name': 'SUV\\\\/MPV',\n",
       "  'low_estimate': 150,\n",
       "  'minimum': 50,\n",
       "  'product_id': '56bab18e-81dc-4cfe-b10d-7ff1934d2730',\n",
       "  'surge_multiplier': 1.0}]"
      ]
     },
     "execution_count": 95,
     "metadata": {},
     "output_type": "execute_result"
    }
   ],
   "source": [
    "instance"
   ]
  },
  {
   "cell_type": "code",
   "execution_count": 100,
   "metadata": {
    "collapsed": false
   },
   "outputs": [],
   "source": [
    "list=[[x['display_name'], x['high_estimate'], x['low_estimate'], x['distance'], x['surge_multiplier']] for x in instance] "
   ]
  },
  {
   "cell_type": "code",
   "execution_count": 106,
   "metadata": {
    "collapsed": false
   },
   "outputs": [
    {
     "data": {
      "text/plain": [
       "[['uberX', 71, 59, 3.53, 1.0],\n",
       " ['Nearest UberBlack', 184, 150, 3.53, 1.0],\n",
       " ['Sedan', 184, 150, 3.53, 1.0],\n",
       " ['SUV\\\\/MPV', 184, 150, 3.53, 1.0]]"
      ]
     },
     "execution_count": 106,
     "metadata": {},
     "output_type": "execute_result"
    }
   ],
   "source": [
    "list"
   ]
  },
  {
   "cell_type": "code",
   "execution_count": 104,
   "metadata": {
    "collapsed": false
   },
   "outputs": [
    {
     "data": {
      "text/plain": [
       "'uberX'"
      ]
     },
     "execution_count": 104,
     "metadata": {},
     "output_type": "execute_result"
    }
   ],
   "source": [
    "list[0][0]"
   ]
  },
  {
   "cell_type": "code",
   "execution_count": 120,
   "metadata": {
    "collapsed": false
   },
   "outputs": [
    {
     "ename": "TypeError",
     "evalue": "list indices must be integers, not str",
     "output_type": "error",
     "traceback": [
      "\u001b[0;31m---------------------------------------------------------------------------\u001b[0m",
      "\u001b[0;31mTypeError\u001b[0m                                 Traceback (most recent call last)",
      "\u001b[0;32m<ipython-input-120-0a9b81a2f912>\u001b[0m in \u001b[0;36m<module>\u001b[0;34m()\u001b[0m\n\u001b[0;32m----> 1\u001b[0;31m \u001b[0;34m[\u001b[0m\u001b[0;34m[\u001b[0m\u001b[0my\u001b[0m\u001b[0;34m,\u001b[0m\u001b[0minstance\u001b[0m\u001b[0;34m[\u001b[0m\u001b[0;34m'display_name'\u001b[0m\u001b[0;34m]\u001b[0m\u001b[0;34m[\u001b[0m\u001b[0;36m0\u001b[0m\u001b[0;34m]\u001b[0m\u001b[0;34m]\u001b[0m \u001b[0;32mfor\u001b[0m \u001b[0my\u001b[0m \u001b[0;32min\u001b[0m \u001b[0;34m[\u001b[0m\u001b[0mx\u001b[0m\u001b[0;34m[\u001b[0m\u001b[0;34m'display_name'\u001b[0m\u001b[0;34m]\u001b[0m \u001b[0;32mfor\u001b[0m \u001b[0mx\u001b[0m \u001b[0;32min\u001b[0m \u001b[0minstance\u001b[0m\u001b[0;34m]\u001b[0m\u001b[0;34m]\u001b[0m\u001b[0;34m\u001b[0m\u001b[0m\n\u001b[0m",
      "\u001b[0;31mTypeError\u001b[0m: list indices must be integers, not str"
     ]
    }
   ],
   "source": [
    "[[y,instance['display_name'][0]] for y in [x['display_name'] for x in instance]]"
   ]
  },
  {
   "cell_type": "code",
   "execution_count": 174,
   "metadata": {
    "collapsed": false
   },
   "outputs": [
    {
     "data": {
      "text/plain": [
       "[71, 100]"
      ]
     },
     "execution_count": 174,
     "metadata": {},
     "output_type": "execute_result"
    }
   ],
   "source": [
    "\n",
    "    \n",
    "uber=dict([[name(key['display_name']), {'high':key['high_estimate'],'low':key['low_estimate'],'dist':key['distance'],\\\n",
    "                        'surge':key['surge_multiplier'],'time':str(datetime.now())}] for key in instance])\n",
    "\n",
    "uber2=dict([[name(key['display_name']), {'high':100,'low':0,'dist':key['distance'],\\\n",
    "                        'surge':key['surge_multiplier'],'time':str(datetime.now())}] for key in instance])\n",
    "\n",
    "l=[uber,uber2] \n",
    "\n",
    "[d['uberx']['high'] for d in l]"
   ]
  },
  {
   "cell_type": "code",
   "execution_count": 175,
   "metadata": {
    "collapsed": false
   },
   "outputs": [
    {
     "data": {
      "text/plain": [
       "[{'black': {'dist': 3.53,\n",
       "   'high': 184,\n",
       "   'low': 150,\n",
       "   'surge': 1.0,\n",
       "   'time': '2016-01-29 15:37:29.750406'},\n",
       "  'sedan': {'dist': 3.53,\n",
       "   'high': 184,\n",
       "   'low': 150,\n",
       "   'surge': 1.0,\n",
       "   'time': '2016-01-29 15:37:29.750411'},\n",
       "  'suv': {'dist': 3.53,\n",
       "   'high': 184,\n",
       "   'low': 150,\n",
       "   'surge': 1.0,\n",
       "   'time': '2016-01-29 15:37:29.750415'},\n",
       "  'uberx': {'dist': 3.53,\n",
       "   'high': 71,\n",
       "   'low': 59,\n",
       "   'surge': 1.0,\n",
       "   'time': '2016-01-29 15:37:29.750393'}},\n",
       " {'black': {'dist': 3.53,\n",
       "   'high': 100,\n",
       "   'low': 0,\n",
       "   'surge': 1.0,\n",
       "   'time': '2016-01-29 15:37:29.750536'},\n",
       "  'sedan': {'dist': 3.53,\n",
       "   'high': 100,\n",
       "   'low': 0,\n",
       "   'surge': 1.0,\n",
       "   'time': '2016-01-29 15:37:29.750539'},\n",
       "  'suv': {'dist': 3.53,\n",
       "   'high': 100,\n",
       "   'low': 0,\n",
       "   'surge': 1.0,\n",
       "   'time': '2016-01-29 15:37:29.750542'},\n",
       "  'uberx': {'dist': 3.53,\n",
       "   'high': 100,\n",
       "   'low': 0,\n",
       "   'surge': 1.0,\n",
       "   'time': '2016-01-29 15:37:29.750530'}}]"
      ]
     },
     "execution_count": 175,
     "metadata": {},
     "output_type": "execute_result"
    }
   ],
   "source": [
    "l"
   ]
  },
  {
   "cell_type": "code",
   "execution_count": null,
   "metadata": {
    "collapsed": true
   },
   "outputs": [],
   "source": []
  }
 ],
 "metadata": {
  "kernelspec": {
   "display_name": "Python 2",
   "language": "python",
   "name": "python2"
  },
  "language_info": {
   "codemirror_mode": {
    "name": "ipython",
    "version": 2
   },
   "file_extension": ".py",
   "mimetype": "text/x-python",
   "name": "python",
   "nbconvert_exporter": "python",
   "pygments_lexer": "ipython2",
   "version": "2.7.11"
  }
 },
 "nbformat": 4,
 "nbformat_minor": 0
}
