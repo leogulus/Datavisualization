{
 "cells": [
  {
   "cell_type": "code",
   "execution_count": 299,
   "metadata": {
    "collapsed": true
   },
   "outputs": [],
   "source": [
    "import urllib2\n",
    "import ast \n",
    "import matplotlib\n",
    "import matplotlib.pyplot as plt\n",
    "import time\n",
    "from datetime import datetime\n",
    "import pickle\n",
    "%matplotlib inline"
   ]
  },
  {
   "cell_type": "code",
   "execution_count": 217,
   "metadata": {
    "collapsed": true
   },
   "outputs": [],
   "source": [
    "def name(name):\n",
    "    if 'uberX' == name:\n",
    "        return 'uberx'\n",
    "    elif 'SUV' in name:\n",
    "        return 'suv'\n",
    "    elif 'UberBlack' in name:\n",
    "        return 'black'\n",
    "    elif 'Sedan' == name:\n",
    "        return 'sedan'\n",
    "    else: \n",
    "        return name"
   ]
  },
  {
   "cell_type": "code",
   "execution_count": 218,
   "metadata": {
    "collapsed": false
   },
   "outputs": [],
   "source": [
    "class Uber(object):\n",
    "    def __init__(self, list):            \n",
    "        self.uberx_high = [d['uberx']['high'] for d in list]\n",
    "        self.uberx_low = [d['uberx']['low'] for d in list]\n",
    "        self.uberx_surge = [d['uberx']['surge'] for d in list]\n",
    "        self.suv_high = [d['suv']['high'] for d in list]\n",
    "        self.suv_low = [d['suv']['low'] for d in list]\n",
    "        self.suv_surge = [d['suv']['surge'] for d in list]\n",
    "        self.black_high = [d['black']['high'] for d in list]\n",
    "        self.black_low = [d['black']['low'] for d in list]\n",
    "        self.black_surge = [d['black']['surge'] for d in list]\n",
    "        self.sedan_high = [d['sedan']['high'] for d in list]\n",
    "        self.sedan_low = [d['sedan']['low'] for d in list]\n",
    "        self.sedan_surge = [d['sedan']['surge'] for d in list]\n",
    "    "
   ]
  },
  {
   "cell_type": "code",
   "execution_count": 237,
   "metadata": {
    "collapsed": true
   },
   "outputs": [],
   "source": [
    "def uber_web(url):\n",
    "    webpage = urllib2.urlopen(url)\n",
    "    data_json = webpage.read()\n",
    "    data = ast.literal_eval(data_json)\n",
    "    instance=data.values()[0]\n",
    "    return dict([[name(key['display_name']),{'high':key['high_estimate'],'low':key['low_estimate'],\\\n",
    "                                             'dist':key['distance'],'surge':key['surge_multiplier'],\\\n",
    "                                             'time':datetime.now()}] for key in instance])"
   ]
  },
  {
   "cell_type": "code",
   "execution_count": 240,
   "metadata": {
    "collapsed": false
   },
   "outputs": [],
   "source": [
    "###  location latitude and longitude\n",
    "sanamlung=[13.75509, 100.49303]\n",
    "paragon=[13.74448, 100.53309] \n",
    "kasert=[13.84559, 100.56525]\n",
    "seacon=[13.69424, 100.64782]"
   ]
  },
  {
   "cell_type": "code",
   "execution_count": null,
   "metadata": {
    "collapsed": true
   },
   "outputs": [],
   "source": [
    "url = 'https://api.uber.com/v1/estimates/price?start_latitude=%s&start_longitude=%s'\\\n",
    "+'&end_latitude=%s&end_longitude=%s&server_token=0xqzfosImWHnzD9MZzcR3x-EMA-n1lLxWORCTuLv'\n",
    "url_1=url % (str(sanamlung[0]), str(sanamlung[1]), str(paragon[0]), str(paragon[1]))\n",
    "url_2=url % (str(sanamlung[0]), str(sanamlung[1]), str(kasert[0]), str(kasert[1]))\n",
    "url_3=url % (str(sanamlung[0]), str(sanamlung[1]), str(seacon[0]), str(seacon[1]))\n",
    "\n",
    "l1=[]\n",
    "l2=[]\n",
    "l3=[]"
   ]
  },
  {
   "cell_type": "code",
   "execution_count": 297,
   "metadata": {
    "collapsed": false
   },
   "outputs": [
    {
     "name": "stdout",
     "output_type": "stream",
     "text": [
      "done:0\n",
      "sleep for 5 mins\n",
      "done:1\n",
      "sleep for 5 mins\n",
      "done:2\n",
      "sleep for 5 mins\n",
      "done:3\n",
      "sleep for 5 mins\n",
      "done:4\n",
      "sleep for 5 mins\n",
      "done:5\n",
      "sleep for 5 mins\n",
      "done:6\n",
      "sleep for 5 mins\n",
      "done:7\n",
      "sleep for 5 mins\n",
      "done:8\n",
      "sleep for 5 mins\n",
      "done:9\n",
      "sleep for 5 mins\n",
      "done:10\n",
      "sleep for 5 mins\n",
      "done:11\n",
      "sleep for 5 mins\n",
      "done:12\n",
      "sleep for 5 mins\n",
      "done:13\n",
      "sleep for 5 mins\n",
      "done:14\n",
      "sleep for 5 mins\n",
      "done:15\n",
      "sleep for 5 mins\n",
      "done:16\n",
      "sleep for 5 mins\n",
      "done:17\n",
      "sleep for 5 mins\n",
      "done:18\n",
      "sleep for 5 mins\n",
      "done:19\n",
      "sleep for 5 mins\n",
      "done:20\n",
      "sleep for 5 mins\n",
      "done:21\n",
      "sleep for 5 mins\n",
      "done:22\n",
      "sleep for 5 mins\n",
      "done:23\n",
      "sleep for 5 mins\n",
      "done:24\n",
      "sleep for 5 mins\n",
      "done:25\n",
      "sleep for 5 mins\n",
      "done:26\n",
      "sleep for 5 mins\n",
      "done:27\n",
      "sleep for 5 mins\n",
      "done:28\n",
      "sleep for 5 mins\n",
      "done:29\n",
      "sleep for 5 mins\n",
      "done:30\n",
      "sleep for 5 mins\n",
      "done:31\n",
      "sleep for 5 mins\n",
      "done:32\n",
      "sleep for 5 mins\n",
      "done:33\n",
      "sleep for 5 mins\n",
      "done:34\n",
      "sleep for 5 mins\n",
      "done:35\n",
      "sleep for 5 mins\n",
      "done:36\n",
      "sleep for 5 mins\n",
      "done:37\n",
      "sleep for 5 mins\n",
      "done:38\n",
      "done:39\n"
     ]
    }
   ],
   "source": [
    "#only run this one - l1, l2, l3 is continously collected\n",
    "numtime=40\n",
    "for i in range(numtime):\n",
    "    if i>0 and i<numtime-1:\n",
    "        print 'sleep for 5 mins'\n",
    "        time.sleep(300)\n",
    "    u1=uber_web(url_1)\n",
    "    u2=uber_web(url_2)\n",
    "    u3=uber_web(url_3)\n",
    "    l1.append(u1)\n",
    "    l2.append(u2)\n",
    "    l3.append(u3)\n",
    "    print 'done:'+str(i)\n",
    "    "
   ]
  },
  {
   "cell_type": "code",
   "execution_count": 290,
   "metadata": {
    "collapsed": false
   },
   "outputs": [
    {
     "data": {
      "text/plain": [
       "[datetime.datetime(2016, 1, 29, 21, 25, 36, 703924),\n",
       " datetime.datetime(2016, 1, 29, 21, 30, 39, 806937),\n",
       " datetime.datetime(2016, 1, 29, 21, 35, 42, 625683),\n",
       " datetime.datetime(2016, 1, 30, 0, 46, 34, 379438),\n",
       " datetime.datetime(2016, 1, 30, 1, 24, 38, 528425),\n",
       " datetime.datetime(2016, 1, 30, 1, 29, 41, 61844),\n",
       " datetime.datetime(2016, 1, 30, 1, 34, 44, 118494),\n",
       " datetime.datetime(2016, 1, 30, 1, 34, 46, 730163),\n",
       " datetime.datetime(2016, 1, 30, 1, 47, 24, 606610),\n",
       " datetime.datetime(2016, 1, 30, 1, 47, 27, 322061),\n",
       " datetime.datetime(2016, 1, 30, 1, 47, 47, 271773),\n",
       " datetime.datetime(2016, 1, 30, 1, 47, 49, 770698),\n",
       " datetime.datetime(2016, 1, 30, 1, 49, 31, 362962),\n",
       " datetime.datetime(2016, 1, 30, 1, 54, 34, 304069),\n",
       " datetime.datetime(2016, 1, 30, 1, 54, 36, 810162),\n",
       " datetime.datetime(2016, 1, 30, 2, 20, 57, 319665),\n",
       " datetime.datetime(2016, 1, 30, 2, 26, 0, 636109),\n",
       " datetime.datetime(2016, 1, 30, 2, 26, 3, 318461),\n",
       " datetime.datetime(2016, 1, 30, 10, 4, 33, 180407),\n",
       " datetime.datetime(2016, 1, 30, 10, 9, 36, 36549),\n",
       " datetime.datetime(2016, 1, 30, 10, 9, 38, 865505),\n",
       " datetime.datetime(2016, 1, 30, 10, 15, 49, 631895),\n",
       " datetime.datetime(2016, 1, 30, 10, 20, 52, 244037),\n",
       " datetime.datetime(2016, 1, 30, 10, 25, 54, 908446),\n",
       " datetime.datetime(2016, 1, 30, 10, 30, 57, 902798),\n",
       " datetime.datetime(2016, 1, 30, 10, 36, 0, 431001),\n",
       " datetime.datetime(2016, 1, 30, 10, 41, 3, 199332),\n",
       " datetime.datetime(2016, 1, 30, 10, 46, 6, 433102),\n",
       " datetime.datetime(2016, 1, 30, 10, 51, 9, 475867),\n",
       " datetime.datetime(2016, 1, 30, 10, 56, 11, 959888),\n",
       " datetime.datetime(2016, 1, 30, 11, 1, 14, 697431),\n",
       " datetime.datetime(2016, 1, 30, 11, 6, 17, 75226),\n",
       " datetime.datetime(2016, 1, 30, 11, 11, 19, 870803),\n",
       " datetime.datetime(2016, 1, 30, 11, 16, 22, 217576),\n",
       " datetime.datetime(2016, 1, 30, 11, 21, 25, 1379),\n",
       " datetime.datetime(2016, 1, 30, 11, 21, 27, 363786),\n",
       " datetime.datetime(2016, 1, 30, 11, 52, 12, 116267),\n",
       " datetime.datetime(2016, 1, 30, 11, 52, 14, 454927),\n",
       " datetime.datetime(2016, 1, 30, 11, 52, 23, 164856),\n",
       " datetime.datetime(2016, 1, 30, 11, 57, 26, 92861),\n",
       " datetime.datetime(2016, 1, 30, 11, 57, 28, 603225),\n",
       " datetime.datetime(2016, 1, 30, 15, 40, 0, 324067),\n",
       " datetime.datetime(2016, 1, 30, 15, 45, 3, 536690),\n",
       " datetime.datetime(2016, 1, 30, 15, 50, 6, 710829),\n",
       " datetime.datetime(2016, 1, 30, 15, 50, 9, 638613)]"
      ]
     },
     "execution_count": 290,
     "metadata": {},
     "output_type": "execute_result"
    }
   ],
   "source": [
    "[x['uberx']['time'] for x in l1]"
   ]
  },
  {
   "cell_type": "code",
   "execution_count": 298,
   "metadata": {
    "collapsed": false
   },
   "outputs": [
    {
     "data": {
      "text/plain": [
       "<matplotlib.text.Text at 0x11783d290>"
      ]
     },
     "execution_count": 298,
     "metadata": {},
     "output_type": "execute_result"
    },
    {
     "data": {
      "image/png": "[encoded data removed]",
      "text/plain": [
       "<matplotlib.figure.Figure at 0x11686d3d0>"
      ]
     },
     "metadata": {},
     "output_type": "display_data"
    }
   ],
   "source": [
    "import numpy as np\n",
    "\n",
    "lu1=Uber(l1)\n",
    "lu2=Uber(l2)\n",
    "lu3=Uber(l3)\n",
    "\n",
    "#dates = matplotlib.dates.date2num([x['uberx']['time'] for x in l1])\n",
    "fig, ax = plt.subplots(1, 3, figsize=(15,6))\n",
    "fig.autofmt_xdate()\n",
    "\n",
    "ax[0].plot([x['uberx']['time'] for x in l1], (np.array(lu1.uberx_high)+np.array(lu1.uberx_low))/2./np.array(lu1.uberx_surge), marker='o')\n",
    "#ax[0].plot([x['black']['time'] for x in l1], [x['black']['high'] for x in l1], marker='o')\n",
    "ax[0].set_xlabel('time')\n",
    "ax[0].set_ylabel('Uber Price Estimate Paragon')\n",
    "\n",
    "ax[1].plot([x['uberx']['time'] for x in l2], (np.array(lu2.uberx_high)+np.array(lu2.uberx_low))/2./np.array(lu2.uberx_surge), marker='o')\n",
    "#ax[1].plot([x['black']['time'] for x in l2], [x['black']['high'] for x in l2], marker='o')\n",
    "ax[1].set_xlabel('time')\n",
    "ax[1].set_ylabel('Uber Price Estimate Kasert')\n",
    "\n",
    "ax[2].plot([x['uberx']['time'] for x in l3], (np.array(lu3.uberx_high)+np.array(lu3.uberx_low))/2./np.array(lu3.uberx_surge), marker='o')\n",
    "#ax[2].plot([x['black']['time'] for x in l3], [x['black']['high'] for x in l3], marker='o')\n",
    "ax[2].set_xlabel('time')\n",
    "ax[2].set_ylabel('Uber Price Estimate Seacon')"
   ]
  },
  {
   "cell_type": "code",
   "execution_count": 294,
   "metadata": {
    "collapsed": false
   },
   "outputs": [
    {
     "data": {
      "text/plain": [
       "[<matplotlib.lines.Line2D at 0x11693e210>]"
      ]
     },
     "execution_count": 294,
     "metadata": {},
     "output_type": "execute_result"
    },
    {
     "data": {
      "image/png": "[encoded data removed]",
      "text/plain": [
       "<matplotlib.figure.Figure at 0x11561ae50>"
      ]
     },
     "metadata": {},
     "output_type": "display_data"
    }
   ],
   "source": [
    "plt.plot(lu1.uberx_surge)"
   ]
  },
  {
   "cell_type": "code",
   "execution_count": null,
   "metadata": {
    "collapsed": true
   },
   "outputs": [],
   "source": [
    "\n",
    "\n",
    "with open('uber.pickle', 'wb') as handle:\n",
    "  pickle.dump(a, handle)"
   ]
  },
  {
   "cell_type": "code",
   "execution_count": 95,
   "metadata": {
    "collapsed": false,
    "scrolled": true
   },
   "outputs": [
    {
     "data": {
      "text/plain": [
       "[{'currency_code': 'THB',\n",
       "  'display_name': 'uberX',\n",
       "  'distance': 3.53,\n",
       "  'duration': 780,\n",
       "  'estimate': '\\\\u0e3f59-71',\n",
       "  'high_estimate': 71,\n",
       "  'localized_display_name': 'uberX',\n",
       "  'low_estimate': 59,\n",
       "  'minimum': 25,\n",
       "  'product_id': '2541f77c-920a-45c4-8bf3-603ecd625195',\n",
       "  'surge_multiplier': 1.0},\n",
       " {'currency_code': 'THB',\n",
       "  'display_name': 'Nearest UberBlack',\n",
       "  'distance': 3.53,\n",
       "  'duration': 780,\n",
       "  'estimate': '\\\\u0e3f150-184',\n",
       "  'high_estimate': 184,\n",
       "  'localized_display_name': 'Nearest UberBlack',\n",
       "  'low_estimate': 150,\n",
       "  'minimum': 50,\n",
       "  'product_id': '179935d5-d763-461e-8818-1367cb9b61f2',\n",
       "  'surge_multiplier': 1.0},\n",
       " {'currency_code': 'THB',\n",
       "  'display_name': 'Sedan',\n",
       "  'distance': 3.53,\n",
       "  'duration': 780,\n",
       "  'estimate': '\\\\u0e3f150-184',\n",
       "  'high_estimate': 184,\n",
       "  'localized_display_name': 'Sedan',\n",
       "  'low_estimate': 150,\n",
       "  'minimum': 50,\n",
       "  'product_id': 'e7dda7a6-6d45-4025-94b2-07739243c7a8',\n",
       "  'surge_multiplier': 1.0},\n",
       " {'currency_code': 'THB',\n",
       "  'display_name': 'SUV\\\\/MPV',\n",
       "  'distance': 3.53,\n",
       "  'duration': 780,\n",
       "  'estimate': '\\\\u0e3f150-184',\n",
       "  'high_estimate': 184,\n",
       "  'localized_display_name': 'SUV\\\\/MPV',\n",
       "  'low_estimate': 150,\n",
       "  'minimum': 50,\n",
       "  'product_id': '56bab18e-81dc-4cfe-b10d-7ff1934d2730',\n",
       "  'surge_multiplier': 1.0}]"
      ]
     },
     "execution_count": 95,
     "metadata": {},
     "output_type": "execute_result"
    }
   ],
   "source": [
    "instance"
   ]
  },
  {
   "cell_type": "code",
   "execution_count": 100,
   "metadata": {
    "collapsed": false
   },
   "outputs": [],
   "source": [
    "list=[[x['display_name'], x['high_estimate'], x['low_estimate'], x['distance'], x['surge_multiplier']] for x in instance] "
   ]
  },
  {
   "cell_type": "code",
   "execution_count": 106,
   "metadata": {
    "collapsed": false
   },
   "outputs": [
    {
     "data": {
      "text/plain": [
       "[['uberX', 71, 59, 3.53, 1.0],\n",
       " ['Nearest UberBlack', 184, 150, 3.53, 1.0],\n",
       " ['Sedan', 184, 150, 3.53, 1.0],\n",
       " ['SUV\\\\/MPV', 184, 150, 3.53, 1.0]]"
      ]
     },
     "execution_count": 106,
     "metadata": {},
     "output_type": "execute_result"
    }
   ],
   "source": [
    "list"
   ]
  },
  {
   "cell_type": "code",
   "execution_count": 104,
   "metadata": {
    "collapsed": false
   },
   "outputs": [
    {
     "data": {
      "text/plain": [
       "'uberX'"
      ]
     },
     "execution_count": 104,
     "metadata": {},
     "output_type": "execute_result"
    }
   ],
   "source": [
    "list[0][0]"
   ]
  },
  {
   "cell_type": "code",
   "execution_count": 120,
   "metadata": {
    "collapsed": false
   },
   "outputs": [
    {
     "ename": "TypeError",
     "evalue": "list indices must be integers, not str",
     "output_type": "error",
     "traceback": [
      "\u001b[0;31m---------------------------------------------------------------------------\u001b[0m",
      "\u001b[0;31mTypeError\u001b[0m                                 Traceback (most recent call last)",
      "\u001b[0;32m<ipython-input-120-0a9b81a2f912>\u001b[0m in \u001b[0;36m<module>\u001b[0;34m()\u001b[0m\n\u001b[0;32m----> 1\u001b[0;31m \u001b[0;34m[\u001b[0m\u001b[0;34m[\u001b[0m\u001b[0my\u001b[0m\u001b[0;34m,\u001b[0m\u001b[0minstance\u001b[0m\u001b[0;34m[\u001b[0m\u001b[0;34m'display_name'\u001b[0m\u001b[0;34m]\u001b[0m\u001b[0;34m[\u001b[0m\u001b[0;36m0\u001b[0m\u001b[0;34m]\u001b[0m\u001b[0;34m]\u001b[0m \u001b[0;32mfor\u001b[0m \u001b[0my\u001b[0m \u001b[0;32min\u001b[0m \u001b[0;34m[\u001b[0m\u001b[0mx\u001b[0m\u001b[0;34m[\u001b[0m\u001b[0;34m'display_name'\u001b[0m\u001b[0;34m]\u001b[0m \u001b[0;32mfor\u001b[0m \u001b[0mx\u001b[0m \u001b[0;32min\u001b[0m \u001b[0minstance\u001b[0m\u001b[0;34m]\u001b[0m\u001b[0;34m]\u001b[0m\u001b[0;34m\u001b[0m\u001b[0m\n\u001b[0m",
      "\u001b[0;31mTypeError\u001b[0m: list indices must be integers, not str"
     ]
    }
   ],
   "source": [
    "[[y,instance['display_name'][0]] for y in [x['display_name'] for x in instance]]"
   ]
  },
  {
   "cell_type": "code",
   "execution_count": 174,
   "metadata": {
    "collapsed": false
   },
   "outputs": [
    {
     "data": {
      "text/plain": [
       "[71, 100]"
      ]
     },
     "execution_count": 174,
     "metadata": {},
     "output_type": "execute_result"
    }
   ],
   "source": [
    "\n",
    "    \n",
    "uber=dict([[name(key['display_name']), {'high':key['high_estimate'],'low':key['low_estimate'],'dist':key['distance'],\\\n",
    "                        'surge':key['surge_multiplier'],'time':str(datetime.now())}] for key in instance])\n",
    "\n",
    "uber2=dict([[name(key['display_name']), {'high':100,'low':0,'dist':key['distance'],\\\n",
    "                        'surge':key['surge_multiplier'],'time':str(datetime.now())}] for key in instance])\n",
    "\n",
    "l=[uber,uber2] \n",
    "\n",
    "[d['uberx']['high'] for d in l]"
   ]
  },
  {
   "cell_type": "code",
   "execution_count": 175,
   "metadata": {
    "collapsed": false
   },
   "outputs": [
    {
     "data": {
      "text/plain": [
       "[{'black': {'dist': 3.53,\n",
       "   'high': 184,\n",
       "   'low': 150,\n",
       "   'surge': 1.0,\n",
       "   'time': '2016-01-29 15:37:29.750406'},\n",
       "  'sedan': {'dist': 3.53,\n",
       "   'high': 184,\n",
       "   'low': 150,\n",
       "   'surge': 1.0,\n",
       "   'time': '2016-01-29 15:37:29.750411'},\n",
       "  'suv': {'dist': 3.53,\n",
       "   'high': 184,\n",
       "   'low': 150,\n",
       "   'surge': 1.0,\n",
       "   'time': '2016-01-29 15:37:29.750415'},\n",
       "  'uberx': {'dist': 3.53,\n",
       "   'high': 71,\n",
       "   'low': 59,\n",
       "   'surge': 1.0,\n",
       "   'time': '2016-01-29 15:37:29.750393'}},\n",
       " {'black': {'dist': 3.53,\n",
       "   'high': 100,\n",
       "   'low': 0,\n",
       "   'surge': 1.0,\n",
       "   'time': '2016-01-29 15:37:29.750536'},\n",
       "  'sedan': {'dist': 3.53,\n",
       "   'high': 100,\n",
       "   'low': 0,\n",
       "   'surge': 1.0,\n",
       "   'time': '2016-01-29 15:37:29.750539'},\n",
       "  'suv': {'dist': 3.53,\n",
       "   'high': 100,\n",
       "   'low': 0,\n",
       "   'surge': 1.0,\n",
       "   'time': '2016-01-29 15:37:29.750542'},\n",
       "  'uberx': {'dist': 3.53,\n",
       "   'high': 100,\n",
       "   'low': 0,\n",
       "   'surge': 1.0,\n",
       "   'time': '2016-01-29 15:37:29.750530'}}]"
      ]
     },
     "execution_count": 175,
     "metadata": {},
     "output_type": "execute_result"
    }
   ],
   "source": [
    "l"
   ]
  },
  {
   "cell_type": "code",
   "execution_count": null,
   "metadata": {
    "collapsed": true
   },
   "outputs": [],
   "source": []
  }
 ],
 "metadata": {
  "kernelspec": {
   "display_name": "Python 2",
   "language": "python",
   "name": "python2"
  },
  "language_info": {
   "codemirror_mode": {
    "name": "ipython",
    "version": 2
   },
   "file_extension": ".py",
   "mimetype": "text/x-python",
   "name": "python",
   "nbconvert_exporter": "python",
   "pygments_lexer": "ipython2",
   "version": "2.7.11"
  }
 },
 "nbformat": 4,
 "nbformat_minor": 0
}
