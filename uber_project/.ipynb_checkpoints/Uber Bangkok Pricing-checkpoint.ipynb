{
 "cells": [
  {
   "cell_type": "code",
   "execution_count": 299,
   "metadata": {
    "collapsed": true
   },
   "outputs": [],
   "source": [
    "import urllib2\n",
    "import ast \n",
    "import matplotlib\n",
    "import matplotlib.pyplot as plt\n",
    "import time\n",
    "from datetime import datetime\n",
    "import pickle\n",
    "%matplotlib inline"
   ]
  },
  {
   "cell_type": "code",
   "execution_count": 217,
   "metadata": {
    "collapsed": true
   },
   "outputs": [],
   "source": [
    "def name(name):\n",
    "    if 'uberX' == name:\n",
    "        return 'uberx'\n",
    "    elif 'SUV' in name:\n",
    "        return 'suv'\n",
    "    elif 'UberBlack' in name:\n",
    "        return 'black'\n",
    "    elif 'Sedan' == name:\n",
    "        return 'sedan'\n",
    "    else: \n",
    "        return name"
   ]
  },
  {
   "cell_type": "code",
   "execution_count": 218,
   "metadata": {
    "collapsed": false
   },
   "outputs": [],
   "source": [
    "class Uber(object):\n",
    "    def __init__(self, list):            \n",
    "        self.uberx_high = [d['uberx']['high'] for d in list]\n",
    "        self.uberx_low = [d['uberx']['low'] for d in list]\n",
    "        self.uberx_surge = [d['uberx']['surge'] for d in list]\n",
    "        self.suv_high = [d['suv']['high'] for d in list]\n",
    "        self.suv_low = [d['suv']['low'] for d in list]\n",
    "        self.suv_surge = [d['suv']['surge'] for d in list]\n",
    "        self.black_high = [d['black']['high'] for d in list]\n",
    "        self.black_low = [d['black']['low'] for d in list]\n",
    "        self.black_surge = [d['black']['surge'] for d in list]\n",
    "        self.sedan_high = [d['sedan']['high'] for d in list]\n",
    "        self.sedan_low = [d['sedan']['low'] for d in list]\n",
    "        self.sedan_surge = [d['sedan']['surge'] for d in list]\n",
    "    "
   ]
  },
  {
   "cell_type": "code",
   "execution_count": 237,
   "metadata": {
    "collapsed": true
   },
   "outputs": [],
   "source": [
    "def uber_web(url):\n",
    "    webpage = urllib2.urlopen(url)\n",
    "    data_json = webpage.read()\n",
    "    data = ast.literal_eval(data_json)\n",
    "    instance=data.values()[0]\n",
    "    return dict([[name(key['display_name']),{'high':key['high_estimate'],'low':key['low_estimate'],\\\n",
    "                                             'dist':key['distance'],'surge':key['surge_multiplier'],\\\n",
    "                                             'time':datetime.now()}] for key in instance])"
   ]
  },
  {
   "cell_type": "code",
   "execution_count": 240,
   "metadata": {
    "collapsed": false
   },
   "outputs": [],
   "source": [
    "###  location latitude and longitude\n",
    "sanamlung=[13.75509, 100.49303]\n",
    "paragon=[13.74448, 100.53309] \n",
    "kasert=[13.84559, 100.56525]\n",
    "seacon=[13.69424, 100.64782]"
   ]
  },
  {
   "cell_type": "raw",
   "metadata": {},
   "source": [
    "##Only run this to set up for once\n",
    "\n",
    "url = 'https://api.uber.com/v1/estimates/price?start_latitude=%s&start_longitude=%s'\\\n",
    "+'&end_latitude=%s&end_longitude=%s&server_token=0xqzfosImWHnzD9MZzcR3x-EMA-n1lLxWORCTuLv'\n",
    "url_1=url % (str(sanamlung[0]), str(sanamlung[1]), str(paragon[0]), str(paragon[1]))\n",
    "url_2=url % (str(sanamlung[0]), str(sanamlung[1]), str(kasert[0]), str(kasert[1]))\n",
    "url_3=url % (str(sanamlung[0]), str(sanamlung[1]), str(seacon[0]), str(seacon[1]))\n",
    "\n",
    "l1=[]\n",
    "l2=[]\n",
    "l3=[]"
   ]
  },
  {
   "cell_type": "code",
   "execution_count": 349,
   "metadata": {
    "collapsed": false,
    "scrolled": true
   },
   "outputs": [
    {
     "name": "stdout",
     "output_type": "stream",
     "text": [
      "done:0\n",
      "sleep for 5 mins\n",
      "done:1\n",
      "done:2\n"
     ]
    }
   ],
   "source": [
    "#only run this one - l1, l2, l3 is continously collected\n",
    "numtime=3\n",
    "for i in range(numtime):\n",
    "    if i>0 and i<numtime-1:\n",
    "        print 'sleep for 5 mins'\n",
    "        time.sleep(300)\n",
    "    u1=uber_web(url_1)\n",
    "    u2=uber_web(url_2)\n",
    "    u3=uber_web(url_3)\n",
    "    l1.append(u1)\n",
    "    l2.append(u2)\n",
    "    l3.append(u3)\n",
    "    print 'done:'+str(i)\n",
    "    "
   ]
  },
  {
   "cell_type": "code",
   "execution_count": 290,
   "metadata": {
    "collapsed": false,
    "scrolled": true
   },
   "outputs": [
    {
     "data": {
      "text/plain": [
       "[datetime.datetime(2016, 1, 29, 21, 25, 36, 703924),\n",
       " datetime.datetime(2016, 1, 29, 21, 30, 39, 806937),\n",
       " datetime.datetime(2016, 1, 29, 21, 35, 42, 625683),\n",
       " datetime.datetime(2016, 1, 30, 0, 46, 34, 379438),\n",
       " datetime.datetime(2016, 1, 30, 1, 24, 38, 528425),\n",
       " datetime.datetime(2016, 1, 30, 1, 29, 41, 61844),\n",
       " datetime.datetime(2016, 1, 30, 1, 34, 44, 118494),\n",
       " datetime.datetime(2016, 1, 30, 1, 34, 46, 730163),\n",
       " datetime.datetime(2016, 1, 30, 1, 47, 24, 606610),\n",
       " datetime.datetime(2016, 1, 30, 1, 47, 27, 322061),\n",
       " datetime.datetime(2016, 1, 30, 1, 47, 47, 271773),\n",
       " datetime.datetime(2016, 1, 30, 1, 47, 49, 770698),\n",
       " datetime.datetime(2016, 1, 30, 1, 49, 31, 362962),\n",
       " datetime.datetime(2016, 1, 30, 1, 54, 34, 304069),\n",
       " datetime.datetime(2016, 1, 30, 1, 54, 36, 810162),\n",
       " datetime.datetime(2016, 1, 30, 2, 20, 57, 319665),\n",
       " datetime.datetime(2016, 1, 30, 2, 26, 0, 636109),\n",
       " datetime.datetime(2016, 1, 30, 2, 26, 3, 318461),\n",
       " datetime.datetime(2016, 1, 30, 10, 4, 33, 180407),\n",
       " datetime.datetime(2016, 1, 30, 10, 9, 36, 36549),\n",
       " datetime.datetime(2016, 1, 30, 10, 9, 38, 865505),\n",
       " datetime.datetime(2016, 1, 30, 10, 15, 49, 631895),\n",
       " datetime.datetime(2016, 1, 30, 10, 20, 52, 244037),\n",
       " datetime.datetime(2016, 1, 30, 10, 25, 54, 908446),\n",
       " datetime.datetime(2016, 1, 30, 10, 30, 57, 902798),\n",
       " datetime.datetime(2016, 1, 30, 10, 36, 0, 431001),\n",
       " datetime.datetime(2016, 1, 30, 10, 41, 3, 199332),\n",
       " datetime.datetime(2016, 1, 30, 10, 46, 6, 433102),\n",
       " datetime.datetime(2016, 1, 30, 10, 51, 9, 475867),\n",
       " datetime.datetime(2016, 1, 30, 10, 56, 11, 959888),\n",
       " datetime.datetime(2016, 1, 30, 11, 1, 14, 697431),\n",
       " datetime.datetime(2016, 1, 30, 11, 6, 17, 75226),\n",
       " datetime.datetime(2016, 1, 30, 11, 11, 19, 870803),\n",
       " datetime.datetime(2016, 1, 30, 11, 16, 22, 217576),\n",
       " datetime.datetime(2016, 1, 30, 11, 21, 25, 1379),\n",
       " datetime.datetime(2016, 1, 30, 11, 21, 27, 363786),\n",
       " datetime.datetime(2016, 1, 30, 11, 52, 12, 116267),\n",
       " datetime.datetime(2016, 1, 30, 11, 52, 14, 454927),\n",
       " datetime.datetime(2016, 1, 30, 11, 52, 23, 164856),\n",
       " datetime.datetime(2016, 1, 30, 11, 57, 26, 92861),\n",
       " datetime.datetime(2016, 1, 30, 11, 57, 28, 603225),\n",
       " datetime.datetime(2016, 1, 30, 15, 40, 0, 324067),\n",
       " datetime.datetime(2016, 1, 30, 15, 45, 3, 536690),\n",
       " datetime.datetime(2016, 1, 30, 15, 50, 6, 710829),\n",
       " datetime.datetime(2016, 1, 30, 15, 50, 9, 638613)]"
      ]
     },
     "execution_count": 290,
     "metadata": {},
     "output_type": "execute_result"
    }
   ],
   "source": [
    "[x['uberx']['time'] for x in l1]"
   ]
  },
  {
   "cell_type": "code",
   "execution_count": 391,
   "metadata": {
    "collapsed": false
   },
   "outputs": [
    {
     "data": {
      "text/plain": [
       "<matplotlib.text.Text at 0x1239c6610>"
      ]
     },
     "execution_count": 391,
     "metadata": {},
     "output_type": "execute_result"
    },
    {
     "data": {
      "image/png": "[encoded data removed]",
      "text/plain": [
       "<matplotlib.figure.Figure at 0x1209cfdd0>"
      ]
     },
     "metadata": {},
     "output_type": "display_data"
    }
   ],
   "source": [
    "import numpy as np\n",
    "\n",
    "lu1=Uber(l1)\n",
    "lu2=Uber(l2)\n",
    "lu3=Uber(l3)\n",
    "\n",
    "#dates = matplotlib.dates.date2num([x['uberx']['time'] for x in l1])\n",
    "fig, ax = plt.subplots(1, 3, figsize=(15,6))\n",
    "fig.autofmt_xdate()\n",
    "\n",
    "ax[0].plot([x['uberx']['time'] for x in l1], (np.array(lu1.uberx_high)+np.array(lu1.uberx_low))/2./np.array(lu1.uberx_surge), marker='o')\n",
    "#ax[0].plot([x['black']['time'] for x in l1], [x['black']['high'] for x in l1], marker='o')\n",
    "ax[0].set_xlabel('time')\n",
    "ax[0].set_ylabel('Uber Price Estimate Paragon')\n",
    "\n",
    "ax[1].plot([x['uberx']['time'] for x in l2], (np.array(lu2.uberx_high)+np.array(lu2.uberx_low))/2./np.array(lu2.uberx_surge), marker='o')\n",
    "#ax[1].plot([x['black']['time'] for x in l2], [x['black']['high'] for x in l2], marker='o')\n",
    "ax[1].set_xlabel('time')\n",
    "ax[1].set_ylabel('Uber Price Estimate Kasert')\n",
    "\n",
    "ax[2].plot([x['uberx']['time'] for x in l3], (np.array(lu3.uberx_high)+np.array(lu3.uberx_low))/2./np.array(lu3.uberx_surge), marker='o')\n",
    "#ax[2].plot([x['black']['time'] for x in l3], [x['black']['high'] for x in l3], marker='o')\n",
    "ax[2].set_xlabel('time')\n",
    "ax[2].set_ylabel('Uber Price Estimate Seacon')"
   ]
  },
  {
   "cell_type": "code",
   "execution_count": 427,
   "metadata": {
    "collapsed": false
   },
   "outputs": [
    {
     "data": {
      "text/plain": [
       "<matplotlib.text.Text at 0x128361f50>"
      ]
     },
     "execution_count": 427,
     "metadata": {},
     "output_type": "execute_result"
    },
    {
     "data": {
      "image/png": "[encoded data removed]",
      "text/plain": [
       "<matplotlib.figure.Figure at 0x128346410>"
      ]
     },
     "metadata": {},
     "output_type": "display_data"
    }
   ],
   "source": [
    "fig, ax = plt.subplots(1, 1, figsize=(12,5))\n",
    "fig.autofmt_xdate()\n",
    "x_num=[0,1,2,3,4,5,6,7]\n",
    "x_label=[\"Mon\",\"Tue\",\"Wed\",\"Thu\",\"Fri\",\"Sat\",\"Sun\"]\n",
    "\n",
    "ax.scatter([x['uberx']['time'].weekday() for x in l1]\\\n",
    "        , lu1.uberx_surge, marker='o', alpha=0.05)\n",
    "ax.set_xticks(x_num)\n",
    "ax.set_xticklabels(x_label)\n",
    "ax.set_ylabel('Surge multiplier')\n",
    "ax.set_xlabel('Day of the week')"
   ]
  },
  {
   "cell_type": "code",
   "execution_count": 428,
   "metadata": {
    "collapsed": false
   },
   "outputs": [
    {
     "data": {
      "text/plain": [
       "<matplotlib.text.Text at 0x128da4650>"
      ]
     },
     "execution_count": 428,
     "metadata": {},
     "output_type": "execute_result"
    },
    {
     "data": {
      "image/png": "[encoded data removed]",
      "text/plain": [
       "<matplotlib.figure.Figure at 0x128175fd0>"
      ]
     },
     "metadata": {},
     "output_type": "display_data"
    }
   ],
   "source": [
    "fig, ax = plt.subplots(2, 1, figsize=(12,8))\n",
    "fig.autofmt_xdate()\n",
    "x_num=[0,3,6,9,12,15,18,21]\n",
    "x_label=[\"12:00\",\"15:00\",\"18:00\",\"21:00\",\"00:00\",\"03:00\",\"06:00\",\"09:00\"]\n",
    "\n",
    "ax[0].scatter([x['uberx']['time'].time().hour+x['uberx']['time'].time().minute/60.+x['uberx']['time'].time().second/3600. for x in l1]\\\n",
    "        ,(np.array(lu1.uberx_high)+np.array(lu1.uberx_low))/2./np.array(lu1.uberx_surge), marker='o',alpha=0.3)\n",
    "ax[0].scatter([x['uberx']['time'].time().hour+x['uberx']['time'].time().minute/60.+x['uberx']['time'].time().second/3600. for x in l1]\\\n",
    "        ,(np.array(lu2.uberx_high)+np.array(lu2.uberx_low))/2./np.array(lu2.uberx_surge), marker='o',color='red',alpha=0.3)\n",
    "ax[0].axis([-0.5,24.5,50,600])\n",
    "ax[0].set_xticks(x_num)\n",
    "ax[0].set_xticklabels(x_label)\n",
    "ax[0].set_ylabel('Average Price (no surge) (THB)')\n",
    "\n",
    "ax[1].scatter([x['uberx']['time'].time().hour+x['uberx']['time'].time().minute/60.+x['uberx']['time'].time().second/3600. for x in l1]\\\n",
    "        ,(np.array(lu1.uberx_high)+np.array(lu1.uberx_low))/2., marker='o',alpha=0.3)\n",
    "ax[1].scatter([x['uberx']['time'].time().hour+x['uberx']['time'].time().minute/60.+x['uberx']['time'].time().second/3600. for x in l1]\\\n",
    "        ,(np.array(lu2.uberx_high)+np.array(lu2.uberx_low))/2., marker='o',color='red',alpha=0.3)\n",
    "ax[1].axis([-0.5,24.5,50,600])\n",
    "ax[1].set_xticks(x_num)\n",
    "ax[1].set_xticklabels(x_label)\n",
    "ax[1].set_ylabel('Average Price (THB)')\n",
    "ax[1].set_xlabel('Time Bangkok')"
   ]
  },
  {
   "cell_type": "code",
   "execution_count": 352,
   "metadata": {
    "collapsed": true
   },
   "outputs": [],
   "source": [
    "#save all interested variables into pickle\n",
    "with open('uber.pickle', 'wb') as f:\n",
    "    pickle.dump([lu1, lu2, lu3], f)"
   ]
  },
  {
   "cell_type": "code",
   "execution_count": 348,
   "metadata": {
    "collapsed": false
   },
   "outputs": [
    {
     "data": {
      "text/plain": [
       "[<matplotlib.lines.Line2D at 0x11f8e4fd0>]"
      ]
     },
     "execution_count": 348,
     "metadata": {},
     "output_type": "execute_result"
    },
    {
     "data": {
      "image/png": "[encoded data removed]",
      "text/plain": [
       "<matplotlib.figure.Figure at 0x11a57ca50>"
      ]
     },
     "metadata": {},
     "output_type": "display_data"
    }
   ],
   "source": [
    "with open('uber.pickle') as f:\n",
    "    a1, a2, a3 = pickle.load(f)\n",
    "    \n",
    "plt.plot(a1.uberx_surge)"
   ]
  },
  {
   "cell_type": "code",
   "execution_count": 100,
   "metadata": {
    "collapsed": false
   },
   "outputs": [],
   "source": [
    "list=[[x['display_name'], x['high_estimate'], x['low_estimate'], x['distance'], x['surge_multiplier']] for x in instance] "
   ]
  },
  {
   "cell_type": "code",
   "execution_count": 106,
   "metadata": {
    "collapsed": false
   },
   "outputs": [
    {
     "data": {
      "text/plain": [
       "[['uberX', 71, 59, 3.53, 1.0],\n",
       " ['Nearest UberBlack', 184, 150, 3.53, 1.0],\n",
       " ['Sedan', 184, 150, 3.53, 1.0],\n",
       " ['SUV\\\\/MPV', 184, 150, 3.53, 1.0]]"
      ]
     },
     "execution_count": 106,
     "metadata": {},
     "output_type": "execute_result"
    }
   ],
   "source": [
    "list"
   ]
  },
  {
   "cell_type": "code",
   "execution_count": 104,
   "metadata": {
    "collapsed": false
   },
   "outputs": [
    {
     "data": {
      "text/plain": [
       "'uberX'"
      ]
     },
     "execution_count": 104,
     "metadata": {},
     "output_type": "execute_result"
    }
   ],
   "source": [
    "list[0][0]"
   ]
  },
  {
   "cell_type": "code",
   "execution_count": 174,
   "metadata": {
    "collapsed": false
   },
   "outputs": [
    {
     "data": {
      "text/plain": [
       "[71, 100]"
      ]
     },
     "execution_count": 174,
     "metadata": {},
     "output_type": "execute_result"
    }
   ],
   "source": [
    "\n",
    "    \n",
    "uber=dict([[name(key['display_name']), {'high':key['high_estimate'],'low':key['low_estimate'],'dist':key['distance'],\\\n",
    "                        'surge':key['surge_multiplier'],'time':str(datetime.now())}] for key in instance])\n",
    "\n",
    "uber2=dict([[name(key['display_name']), {'high':100,'low':0,'dist':key['distance'],\\\n",
    "                        'surge':key['surge_multiplier'],'time':str(datetime.now())}] for key in instance])\n",
    "\n",
    "l=[uber,uber2] \n",
    "\n",
    "[d['uberx']['high'] for d in l]"
   ]
  },
  {
   "cell_type": "code",
   "execution_count": 421,
   "metadata": {
    "collapsed": false
   },
   "outputs": [
    {
     "data": {
      "text/plain": [
       "[4,\n",
       " 4,\n",
       " 4,\n",
       " 5,\n",
       " 5,\n",
       " 5,\n",
       " 5,\n",
       " 5,\n",
       " 5,\n",
       " 5,\n",
       " 5,\n",
       " 5,\n",
       " 5,\n",
       " 5,\n",
       " 5,\n",
       " 5,\n",
       " 5,\n",
       " 5,\n",
       " 5,\n",
       " 5,\n",
       " 5,\n",
       " 5,\n",
       " 5,\n",
       " 5,\n",
       " 5,\n",
       " 5,\n",
       " 5,\n",
       " 5,\n",
       " 5,\n",
       " 5,\n",
       " 5,\n",
       " 5,\n",
       " 5,\n",
       " 5,\n",
       " 5,\n",
       " 5,\n",
       " 5,\n",
       " 5,\n",
       " 5,\n",
       " 5,\n",
       " 5,\n",
       " 5,\n",
       " 5,\n",
       " 5,\n",
       " 5,\n",
       " 5,\n",
       " 5,\n",
       " 5,\n",
       " 5,\n",
       " 5,\n",
       " 5,\n",
       " 5,\n",
       " 5,\n",
       " 5,\n",
       " 5,\n",
       " 5,\n",
       " 5,\n",
       " 5,\n",
       " 5,\n",
       " 5,\n",
       " 5,\n",
       " 5,\n",
       " 5,\n",
       " 5,\n",
       " 5,\n",
       " 5,\n",
       " 5,\n",
       " 5,\n",
       " 5,\n",
       " 5,\n",
       " 5,\n",
       " 5,\n",
       " 5,\n",
       " 5,\n",
       " 5,\n",
       " 5,\n",
       " 5,\n",
       " 5,\n",
       " 5,\n",
       " 5,\n",
       " 5,\n",
       " 5,\n",
       " 5,\n",
       " 5,\n",
       " 5,\n",
       " 5,\n",
       " 5,\n",
       " 5,\n",
       " 5,\n",
       " 5,\n",
       " 5,\n",
       " 5,\n",
       " 5,\n",
       " 5,\n",
       " 5,\n",
       " 5,\n",
       " 5,\n",
       " 5,\n",
       " 5,\n",
       " 5,\n",
       " 5,\n",
       " 5,\n",
       " 5,\n",
       " 5,\n",
       " 5,\n",
       " 5,\n",
       " 5,\n",
       " 5,\n",
       " 5,\n",
       " 5,\n",
       " 5,\n",
       " 5,\n",
       " 5,\n",
       " 5,\n",
       " 5,\n",
       " 5,\n",
       " 5,\n",
       " 5,\n",
       " 5,\n",
       " 5,\n",
       " 5,\n",
       " 5,\n",
       " 5,\n",
       " 5,\n",
       " 5,\n",
       " 6,\n",
       " 6,\n",
       " 6,\n",
       " 6,\n",
       " 6,\n",
       " 6,\n",
       " 6,\n",
       " 6,\n",
       " 6,\n",
       " 6,\n",
       " 6,\n",
       " 6,\n",
       " 6,\n",
       " 6,\n",
       " 6,\n",
       " 6,\n",
       " 6,\n",
       " 6,\n",
       " 6,\n",
       " 6,\n",
       " 6,\n",
       " 6,\n",
       " 6,\n",
       " 6,\n",
       " 6,\n",
       " 6,\n",
       " 6,\n",
       " 6,\n",
       " 6,\n",
       " 6,\n",
       " 6,\n",
       " 6,\n",
       " 6,\n",
       " 6,\n",
       " 6,\n",
       " 6,\n",
       " 6,\n",
       " 6,\n",
       " 6,\n",
       " 6,\n",
       " 6,\n",
       " 6,\n",
       " 6,\n",
       " 6,\n",
       " 6,\n",
       " 6,\n",
       " 6,\n",
       " 6,\n",
       " 6,\n",
       " 0,\n",
       " 0,\n",
       " 0,\n",
       " 0,\n",
       " 0,\n",
       " 0,\n",
       " 0,\n",
       " 0,\n",
       " 0,\n",
       " 0,\n",
       " 0,\n",
       " 0,\n",
       " 0,\n",
       " 0,\n",
       " 0,\n",
       " 0,\n",
       " 0,\n",
       " 0,\n",
       " 0,\n",
       " 0,\n",
       " 0,\n",
       " 0,\n",
       " 0,\n",
       " 0,\n",
       " 0,\n",
       " 0,\n",
       " 0,\n",
       " 0,\n",
       " 0,\n",
       " 0,\n",
       " 0,\n",
       " 0,\n",
       " 0,\n",
       " 0,\n",
       " 0,\n",
       " 0,\n",
       " 0,\n",
       " 0,\n",
       " 0,\n",
       " 0,\n",
       " 0,\n",
       " 0,\n",
       " 0,\n",
       " 0,\n",
       " 0,\n",
       " 0,\n",
       " 0,\n",
       " 0,\n",
       " 0,\n",
       " 0,\n",
       " 0,\n",
       " 0,\n",
       " 0,\n",
       " 0,\n",
       " 0,\n",
       " 0,\n",
       " 0]"
      ]
     },
     "execution_count": 421,
     "metadata": {},
     "output_type": "execute_result"
    }
   ],
   "source": [
    "[x['uberx']['time'].weekday() for x in l1]"
   ]
  },
  {
   "cell_type": "code",
   "execution_count": 387,
   "metadata": {
    "collapsed": false
   },
   "outputs": [
    {
     "data": {
      "text/plain": [
       "[21.42666666666667,\n",
       " 21.510833333333334,\n",
       " 21.595,\n",
       " 0.7761111111111112,\n",
       " 1.4105555555555556,\n",
       " 1.4947222222222223,\n",
       " 1.5788888888888888,\n",
       " 1.5794444444444444,\n",
       " 1.7899999999999998,\n",
       " 1.7908333333333333,\n",
       " 1.7963888888888888,\n",
       " 1.7969444444444442,\n",
       " 1.8252777777777778,\n",
       " 1.9094444444444443,\n",
       " 1.91,\n",
       " 2.3491666666666666,\n",
       " 2.4333333333333336,\n",
       " 2.434166666666667,\n",
       " 10.075833333333334,\n",
       " 10.16,\n",
       " 10.160555555555556,\n",
       " 10.26361111111111,\n",
       " 10.347777777777779,\n",
       " 10.431666666666667,\n",
       " 10.515833333333333,\n",
       " 10.6,\n",
       " 10.684166666666666,\n",
       " 10.768333333333334,\n",
       " 10.8525,\n",
       " 10.936388888888889,\n",
       " 11.020555555555557,\n",
       " 11.104722222222222,\n",
       " 11.188611111111111,\n",
       " 11.272777777777778,\n",
       " 11.356944444444444,\n",
       " 11.3575,\n",
       " 11.870000000000001,\n",
       " 11.870555555555557,\n",
       " 11.873055555555556,\n",
       " 11.95722222222222,\n",
       " 11.957777777777777,\n",
       " 15.666666666666666,\n",
       " 15.750833333333333,\n",
       " 15.835,\n",
       " 15.835833333333333,\n",
       " 16.057222222222222,\n",
       " 16.141666666666666,\n",
       " 16.22583333333333,\n",
       " 16.310000000000002,\n",
       " 16.394166666666667,\n",
       " 16.47833333333333,\n",
       " 16.5625,\n",
       " 16.646666666666665,\n",
       " 16.730833333333333,\n",
       " 16.814722222222223,\n",
       " 16.899166666666666,\n",
       " 16.983055555555556,\n",
       " 17.06722222222222,\n",
       " 17.15111111111111,\n",
       " 17.235277777777778,\n",
       " 17.319444444444443,\n",
       " 17.40361111111111,\n",
       " 17.488055555555558,\n",
       " 17.571944444444444,\n",
       " 17.65611111111111,\n",
       " 17.740277777777777,\n",
       " 17.824444444444445,\n",
       " 17.90861111111111,\n",
       " 17.99277777777778,\n",
       " 18.077222222222222,\n",
       " 18.161388888888887,\n",
       " 18.24527777777778,\n",
       " 18.329444444444444,\n",
       " 18.41361111111111,\n",
       " 18.497777777777777,\n",
       " 18.581666666666667,\n",
       " 18.66583333333333,\n",
       " 18.75,\n",
       " 18.834166666666665,\n",
       " 18.918333333333333,\n",
       " 19.0025,\n",
       " 19.086388888888887,\n",
       " 19.170555555555556,\n",
       " 19.255,\n",
       " 19.25583333333333,\n",
       " 19.393333333333334,\n",
       " 19.47722222222222,\n",
       " 19.56138888888889,\n",
       " 19.645555555555553,\n",
       " 19.72972222222222,\n",
       " 19.81388888888889,\n",
       " 19.897777777777776,\n",
       " 19.981944444444444,\n",
       " 20.06638888888889,\n",
       " 20.150555555555552,\n",
       " 20.234722222222224,\n",
       " 20.31861111111111,\n",
       " 20.402777777777775,\n",
       " 20.486666666666668,\n",
       " 20.570833333333333,\n",
       " 20.655277777777776,\n",
       " 20.739444444444445,\n",
       " 20.823333333333334,\n",
       " 20.9075,\n",
       " 20.991666666666667,\n",
       " 21.075555555555557,\n",
       " 21.159444444444443,\n",
       " 21.24361111111111,\n",
       " 21.32777777777778,\n",
       " 21.411944444444444,\n",
       " 21.495833333333334,\n",
       " 21.58,\n",
       " 21.664166666666667,\n",
       " 21.748333333333335,\n",
       " 21.83222222222222,\n",
       " 21.91638888888889,\n",
       " 22.000555555555554,\n",
       " 22.084722222222222,\n",
       " 22.16888888888889,\n",
       " 22.252777777777776,\n",
       " 22.336944444444445,\n",
       " 22.421111111111113,\n",
       " 22.505277777777778,\n",
       " 22.589166666666664,\n",
       " 22.59,\n",
       " 1.5080555555555555,\n",
       " 1.5922222222222224,\n",
       " 1.5930555555555557,\n",
       " 13.811666666666667,\n",
       " 13.895833333333332,\n",
       " 13.98,\n",
       " 14.06388888888889,\n",
       " 14.148055555555555,\n",
       " 14.232222222222223,\n",
       " 14.31638888888889,\n",
       " 14.316944444444443,\n",
       " 16.352500000000003,\n",
       " 16.436666666666667,\n",
       " 16.43722222222222,\n",
       " 16.84722222222222,\n",
       " 16.93111111111111,\n",
       " 17.01527777777778,\n",
       " 17.099166666666665,\n",
       " 17.183611111111112,\n",
       " 17.267777777777777,\n",
       " 17.351944444444445,\n",
       " 17.43611111111111,\n",
       " 17.52,\n",
       " 17.604444444444447,\n",
       " 17.68861111111111,\n",
       " 17.772777777777776,\n",
       " 17.856944444444444,\n",
       " 17.941111111111113,\n",
       " 18.025277777777777,\n",
       " 18.109166666666667,\n",
       " 18.19361111111111,\n",
       " 18.194444444444446,\n",
       " 18.8625,\n",
       " 18.94638888888889,\n",
       " 18.947222222222223,\n",
       " 19.12527777777778,\n",
       " 19.209444444444443,\n",
       " 19.29361111111111,\n",
       " 23.072222222222223,\n",
       " 23.156388888888888,\n",
       " 23.240555555555556,\n",
       " 23.32472222222222,\n",
       " 23.40888888888889,\n",
       " 23.49277777777778,\n",
       " 23.576944444444443,\n",
       " 23.66111111111111,\n",
       " 23.74527777777778,\n",
       " 23.745833333333334,\n",
       " 23.933888888888887,\n",
       " 0.018055555555555554,\n",
       " 0.10250000000000001,\n",
       " 0.18638888888888888,\n",
       " 0.1872222222222222,\n",
       " 11.14111111111111,\n",
       " 11.225277777777778,\n",
       " 11.309444444444445,\n",
       " 11.393888888888888,\n",
       " 11.477777777777778,\n",
       " 11.561944444444444,\n",
       " 11.64611111111111,\n",
       " 11.730277777777777,\n",
       " 11.814166666666667,\n",
       " 11.815000000000001,\n",
       " 13.375,\n",
       " 13.459444444444443,\n",
       " 13.543611111111112,\n",
       " 13.627777777777778,\n",
       " 13.713333333333333,\n",
       " 13.797777777777778,\n",
       " 13.8825,\n",
       " 13.966944444444444,\n",
       " 14.051111111111112,\n",
       " 14.135277777777777,\n",
       " 14.219444444444445,\n",
       " 14.303611111111111,\n",
       " 14.387777777777778,\n",
       " 14.471944444444444,\n",
       " 14.55638888888889,\n",
       " 14.640555555555554,\n",
       " 14.724444444444444,\n",
       " 14.808611111111112,\n",
       " 14.892777777777777,\n",
       " 14.976944444444445,\n",
       " 15.061111111111112,\n",
       " 15.145277777777777,\n",
       " 15.229444444444445,\n",
       " 15.313611111111111,\n",
       " 15.397777777777778,\n",
       " 15.482222222222223,\n",
       " 15.56638888888889,\n",
       " 15.650277777777777,\n",
       " 15.734444444444444,\n",
       " 15.81861111111111,\n",
       " 15.9025,\n",
       " 15.986944444444443,\n",
       " 16.070833333333333,\n",
       " 16.154999999999998,\n",
       " 16.239166666666666,\n",
       " 16.323333333333334,\n",
       " 16.40888888888889,\n",
       " 16.493333333333336,\n",
       " 16.577222222222222,\n",
       " 16.578055555555554,\n",
       " 17.374444444444446,\n",
       " 17.45861111111111,\n",
       " 17.459444444444443]"
      ]
     },
     "execution_count": 387,
     "metadata": {},
     "output_type": "execute_result"
    }
   ],
   "source": [
    "[x['uberx']['time'].time().hour+x['uberx']['time'].time().minute/60.+x['uberx']['time'].time().second/3600. for x in l1]\n",
    "#plt.plot([x['uberx']['time'].time() for x in l1], lu1.uberx_high)\n",
    "#t.time()"
   ]
  },
  {
   "cell_type": "code",
   "execution_count": null,
   "metadata": {
    "collapsed": true
   },
   "outputs": [],
   "source": []
  }
 ],
 "metadata": {
  "kernelspec": {
   "display_name": "Python 2",
   "language": "python",
   "name": "python2"
  },
  "language_info": {
   "codemirror_mode": {
    "name": "ipython",
    "version": 2
   },
   "file_extension": ".py",
   "mimetype": "text/x-python",
   "name": "python",
   "nbconvert_exporter": "python",
   "pygments_lexer": "ipython2",
   "version": "2.7.11"
  }
 },
 "nbformat": 4,
 "nbformat_minor": 0
}
