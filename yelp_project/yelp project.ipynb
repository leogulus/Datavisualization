{
 "cells": [
  {
   "cell_type": "markdown",
   "metadata": {},
   "source": [
    "## Yelp Project\n",
    "- Yelp API documentation: https://www.yelp.com/developers/documentation/v2/search_api\n",
    "- note: http://letstalkdata.com/2014/02/how-to-use-the-yelp-api-in-python/"
   ]
  },
  {
   "cell_type": "code",
   "execution_count": 141,
   "metadata": {
    "collapsed": true
   },
   "outputs": [],
   "source": [
    "import rauth\n",
    "import time\n",
    "import pandas as pd\n",
    "import matplotlib.pyplot as plt\n",
    "from mpl_toolkits.basemap import Basemap\n",
    "\n",
    "%matplotlib inline"
   ]
  },
  {
   "cell_type": "code",
   "execution_count": 105,
   "metadata": {
    "collapsed": true
   },
   "outputs": [],
   "source": [
    "def get_search_parameters(lat,long):\n",
    "    #See the Yelp API for more details\n",
    "    params = {}\n",
    "    params[\"term\"] = \"thai\"\n",
    "    params[\"ll\"] = \"{},{}\".format(str(lat),str(long))\n",
    "    params[\"radius_filter\"] = \"2000\"\n",
    "    params[\"limit\"] = \"20\"\n",
    "\n",
    "    return params"
   ]
  },
  {
   "cell_type": "code",
   "execution_count": 106,
   "metadata": {
    "collapsed": true
   },
   "outputs": [],
   "source": [
    "def get_results(params):\n",
    "    #Obtain these from Yelp's manage access page\n",
    "    consumer_key = \"FY3IHON9216l9ySH7sRUXQ\"\n",
    "    consumer_secret = \"zkFNTQwzZKsShEe4UX2Lvxglud0\"\n",
    "    token = \"dTq6iJc1zKoKHE-5zf7W2C64lqJo5MuO\"\n",
    "    token_secret = \"4b_fHLdJJzMlfg84fMPTRG_cK70\"\n",
    "\n",
    "    session = rauth.OAuth1Session(\n",
    "        consumer_key = consumer_key\n",
    "        ,consumer_secret = consumer_secret\n",
    "        ,access_token = token\n",
    "        ,access_token_secret = token_secret)\n",
    "\n",
    "    request = session.get(\"http://api.yelp.com/v2/search\",params=params)\n",
    "\n",
    "    #Transforms the JSON API response into a Python dictionary\n",
    "    data = request.json()\n",
    "    session.close()\n",
    "    return data"
   ]
  },
  {
   "cell_type": "code",
   "execution_count": 107,
   "metadata": {
    "collapsed": true
   },
   "outputs": [],
   "source": [
    "def get_business(business_id):\n",
    "    #Obtain these from Yelp's manage access page\n",
    "    consumer_key = \"FY3IHON9216l9ySH7sRUXQ\"\n",
    "    consumer_secret = \"zkFNTQwzZKsShEe4UX2Lvxglud0\"\n",
    "    token = \"dTq6iJc1zKoKHE-5zf7W2C64lqJo5MuO\"\n",
    "    token_secret = \"4b_fHLdJJzMlfg84fMPTRG_cK70\"\n",
    "\n",
    "    session = rauth.OAuth1Session(\n",
    "        consumer_key = consumer_key\n",
    "        ,consumer_secret = consumer_secret\n",
    "        ,access_token = token\n",
    "        ,access_token_secret = token_secret)\n",
    "\n",
    "    request = session.get(\"http://api.yelp.com/v2/business/\"+business_id)\n",
    "\n",
    "    #Transforms the JSON API response into a Python dictionary\n",
    "    data = request.json()\n",
    "    session.close()\n",
    "    return data"
   ]
  },
  {
   "cell_type": "code",
   "execution_count": 108,
   "metadata": {
    "collapsed": true
   },
   "outputs": [],
   "source": [
    "def get_business_id(lat, long):\n",
    "    params = get_search_parameters(lat,long)\n",
    "    call=get_results(params)\n",
    "    \n",
    "    return call['businesses'][0]['id']"
   ]
  },
  {
   "cell_type": "markdown",
   "metadata": {},
   "source": [
    "### Main program"
   ]
  },
  {
   "cell_type": "code",
   "execution_count": 109,
   "metadata": {
    "collapsed": true
   },
   "outputs": [],
   "source": [
    "#def main():\n",
    "#location: Ashdown = 42.35870,-71.10121\n",
    "\n",
    "locations = [(42.35870,-71.10121)]\n",
    "api_calls = []\n",
    "for lat,long in locations:\n",
    "    params = get_search_parameters(lat,long)\n",
    "    api_calls.append(get_results(params))\n",
    "    #Be a good internet citizen and rate-limit yourself\n",
    "    time.sleep(1.0)"
   ]
  },
  {
   "cell_type": "code",
   "execution_count": 110,
   "metadata": {
    "collapsed": true
   },
   "outputs": [],
   "source": [
    "params = get_search_parameters(42.35870,-71.10121)\n",
    "data=get_results(params)"
   ]
  },
  {
   "cell_type": "code",
   "execution_count": 203,
   "metadata": {
    "collapsed": false,
    "scrolled": false
   },
   "outputs": [],
   "source": [
    "columns = ['name','rate','count','loc_lat']\n",
    "index=range(0,len(data['businesses']))\n",
    "df= pd.DataFrame(index=index, columns=columns)\n",
    "\n",
    "df['name']=[x['id'] for x in data['businesses']]\n",
    "df['rate']=[x['rating'] for x in data['businesses']]\n",
    "df['count']=[x['review_count'] for x in data['businesses']]\n",
    "df['loc_lat']=[x['location']['coordinate']['latitude'] for x in data['businesses']]\n",
    "df['loc_long']=[x['location']['coordinate']['longitude'] for x in data['businesses']]\n",
    "\n",
    "df[['name','rate','count','loc_lat','loc_long']].to_csv('loc.csv', index=False)"
   ]
  },
  {
   "cell_type": "code",
   "execution_count": 138,
   "metadata": {
    "collapsed": false
   },
   "outputs": [
    {
     "data": {
      "text/plain": [
       "<matplotlib.collections.PathCollection at 0x10e0af150>"
      ]
     },
     "execution_count": 138,
     "metadata": {},
     "output_type": "execute_result"
    },
    {
     "data": {
      "image/png": "[encoded data removed]",
      "text/plain": [
       "<matplotlib.figure.Figure at 0x10e047990>"
      ]
     },
     "metadata": {},
     "output_type": "display_data"
    }
   ],
   "source": [
    "plt.scatter(df['loc_lat'], df['loc_long'])"
   ]
  },
  {
   "cell_type": "raw",
   "metadata": {},
   "source": [
    "##Trying to plot location on python (not really working)\n",
    "fig = plt.figure(figsize=(12,12))\n",
    "\n",
    "lat=42.35870\n",
    "long=-71.10121\n",
    "\n",
    "map = Basemap(llcrnrlon=long-0.008,llcrnrlat=lat-0.008,urcrnrlon=long+0.008,urcrnrlat=lat+0.008, epsg=4269)\n",
    "    #http://server.arcgisonline.com/arcgis/rest/services\n",
    "    #EPSG Number of America is 4269\n",
    "\n",
    "#df['loc_lat'], df['loc_long']\n",
    "map.arcgisimage(service='ESRI_Imagery_World_2D', xpixels = 2000, ypixels = 2000, verbose= True)\n",
    "x, y = map(lat,long)\n",
    "map.scatter(x, y,marker='o',color='red')"
   ]
  },
  {
   "cell_type": "markdown",
   "metadata": {},
   "source": [
    "## Google Map resutl for the Yelp project\n",
    "https://www.google.com/maps/d/edit?mid=zzbVdtK68qFo.kh35g6a58mDE&usp=sharing"
   ]
  },
  {
   "cell_type": "code",
   "execution_count": null,
   "metadata": {
    "collapsed": true
   },
   "outputs": [],
   "source": []
  }
 ],
 "metadata": {
  "kernelspec": {
   "display_name": "Python 2",
   "language": "python",
   "name": "python2"
  },
  "language_info": {
   "codemirror_mode": {
    "name": "ipython",
    "version": 2
   },
   "file_extension": ".py",
   "mimetype": "text/x-python",
   "name": "python",
   "nbconvert_exporter": "python",
   "pygments_lexer": "ipython2",
   "version": "2.7.11"
  }
 },
 "nbformat": 4,
 "nbformat_minor": 0
}
