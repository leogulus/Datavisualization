{
 "cells": [
  {
   "cell_type": "code",
   "execution_count": 150,
   "metadata": {},
   "outputs": [],
   "source": [
    "import altair as alt\n",
    "from vega_datasets import data\n",
    "import pandas as pd\n",
    "import re\n",
    "\n",
    "import numpy as np\n",
    "import matplotlib.pyplot as plt\n",
    "\n",
    "%matplotlib inline"
   ]
  },
  {
   "cell_type": "code",
   "execution_count": 22,
   "metadata": {},
   "outputs": [],
   "source": [
    "with open('/Users/taweewat/Documents/data_visualization/gre_score/p2.txt') as f:\n",
    "    c1 = f.readlines()\n",
    "with open('/Users/taweewat/Documents/data_visualization/gre_score/p3.txt') as f:\n",
    "    c2 = f.readlines()\n",
    "with open('/Users/taweewat/Documents/data_visualization/gre_score/p4.txt') as f:\n",
    "    c3 = f.readlines()\n",
    "content=c1+c2+c3\n"
   ]
  },
  {
   "cell_type": "code",
   "execution_count": 347,
   "metadata": {},
   "outputs": [],
   "source": [
    "with open('/Users/taweewat/Documents/data_visualization/gre_score/q2.txt') as f:\n",
    "    c1 = f.readlines()\n",
    "with open('/Users/taweewat/Documents/data_visualization/gre_score/q3.txt') as f:\n",
    "    c2 = f.readlines()\n",
    "with open('/Users/taweewat/Documents/data_visualization/gre_score/q4.txt') as f:\n",
    "    c3 = f.readlines()\n",
    "content14=c1+c2+c3\n",
    "\n",
    "columns = ['PGRE','QGRE','VGRE','WGRE','a_GPA','major_GPA']\n",
    "j=0\n",
    "df14= pd.DataFrame(columns=columns)\n",
    "\n",
    "myReg=re.compile(r'([QVWP](?:</span>)?:(?:</span>)?.\\d*\\.?\\d*\\%?)|(GPA in Major(?:</span>)?:(?:</span>)?..\\d*\\.?\\d*)|(Overall GPA(?:</span>)?:(?:</span>)?..\\d*\\.?\\d*)')\n",
    "regnum=re.compile(r'\\d\\.?\\d*')\n",
    "\n",
    "for text in content14:\n",
    "    if myReg.search(text) != None:\n",
    "        if len(myReg.findall(text))<=6: \n",
    "#             print(myReg.findall(text))\n",
    "            for tt in myReg.findall(text):\n",
    "                if tt[0]!='':\n",
    "                    try:\n",
    "                        df14.loc[j,'%sGRE'%tt[0][0]]=float(regnum.search(tt[0]).group())\n",
    "                    except:\n",
    "                        pass\n",
    "                elif tt[1]!='':\n",
    "                    try:\n",
    "                        df14.loc[j,'major_GPA']=float(regnum.search(tt[1]).group())\n",
    "                    except:\n",
    "                        pass\n",
    "                elif tt[2]!='':\n",
    "                    try:\n",
    "                        df14.loc[j,'a_GPA']=float(regnum.search(tt[2]).group())       \n",
    "                    except:\n",
    "                        pass\n",
    "        j=j+1"
   ]
  },
  {
   "cell_type": "code",
   "execution_count": 348,
   "metadata": {},
   "outputs": [],
   "source": [
    "columns = ['PGRE','QGRE','VGRE','WGRE','a_GPA','major_GPA']\n",
    "j=0\n",
    "df= pd.DataFrame(columns=columns)\n",
    "\n",
    "myReg=re.compile(r'([QVWP](?:</span>)?:(?:</span>)?.\\d*\\.?\\d*\\%?)|(GPA in Major(?:</span>)?:(?:</span>)?..\\d*\\.?\\d*)|(Overall GPA(?:</span>)?:(?:</span>)?..\\d*\\.?\\d*)')\n",
    "regnum=re.compile(r'\\d\\.?\\d*')\n",
    "\n",
    "for text in content:\n",
    "    if myReg.search(text) != None:\n",
    "        if len(myReg.findall(text))<=6: \n",
    "#             print(myReg.findall(text))\n",
    "            for tt in myReg.findall(text):\n",
    "                if tt[0]!='':\n",
    "                    try:\n",
    "                        df.loc[j,'%sGRE'%tt[0][0]]=float(regnum.search(tt[0]).group())\n",
    "                    except:\n",
    "                        pass\n",
    "                elif tt[1]!='':\n",
    "                    try:\n",
    "                        df.loc[j,'major_GPA']=float(regnum.search(tt[1]).group())\n",
    "                    except:\n",
    "                        pass\n",
    "                elif tt[2]!='':\n",
    "                    try:\n",
    "                        df.loc[j,'a_GPA']=float(regnum.search(tt[2]).group())       \n",
    "                    except:\n",
    "                        pass\n",
    "        j=j+1"
   ]
  },
  {
   "cell_type": "code",
   "execution_count": 349,
   "metadata": {},
   "outputs": [],
   "source": [
    "df[df.a_GPA>4.0]=np.nan\n",
    "df[df.major_GPA>4.0]=np.nan\n",
    "df[df.QGRE>300]=np.nan\n",
    "df[df.QGRE<100]=np.nan\n",
    "df=df.dropna(how='all')"
   ]
  },
  {
   "cell_type": "code",
   "execution_count": 350,
   "metadata": {},
   "outputs": [],
   "source": [
    "df14[df14.a_GPA>4.0]=np.nan\n",
    "df14[df14.major_GPA>4.0]=np.nan\n",
    "df14[df14.QGRE>300]=np.nan\n",
    "df14[df14.QGRE<100]=np.nan\n",
    "df14=df14.dropna(how='all')"
   ]
  },
  {
   "cell_type": "code",
   "execution_count": 351,
   "metadata": {},
   "outputs": [
    {
     "data": {
      "application/vnd.vegalite.v2+json": {
       "$schema": "https://vega.github.io/schema/vega-lite/v2.json",
       "config": {
        "view": {
         "height": 300,
         "width": 400
        }
       },
       "data": {
        "values": [
         {
          "PGRE": 910,
          "QGRE": 167,
          "VGRE": 162,
          "WGRE": 4,
          "a_GPA": 3.67,
          "major_GPA": 3.84
         },
         {
          "PGRE": 980,
          "QGRE": 170,
          "VGRE": 165,
          "WGRE": 4,
          "a_GPA": null,
          "major_GPA": null
         },
         {
          "PGRE": 910,
          "QGRE": 167,
          "VGRE": 166,
          "WGRE": 4,
          "a_GPA": 3.94,
          "major_GPA": 3.93
         },
         {
          "PGRE": null,
          "QGRE": null,
          "VGRE": null,
          "WGRE": null,
          "a_GPA": 3.8,
          "major_GPA": 3.8
         },
         {
          "PGRE": 750,
          "QGRE": 162,
          "VGRE": 160,
          "WGRE": 4.5,
          "a_GPA": 3.4,
          "major_GPA": 3.3
         },
         {
          "PGRE": 990,
          "QGRE": 170,
          "VGRE": 166,
          "WGRE": 5,
          "a_GPA": 4,
          "major_GPA": 4
         },
         {
          "PGRE": 870,
          "QGRE": 170,
          "VGRE": 168,
          "WGRE": 4,
          "a_GPA": 3.3,
          "major_GPA": 3.3
         },
         {
          "PGRE": null,
          "QGRE": 170,
          "VGRE": 160,
          "WGRE": 4,
          "a_GPA": 3.98,
          "major_GPA": 3.98
         },
         {
          "PGRE": 640,
          "QGRE": 164,
          "VGRE": 159,
          "WGRE": 4.5,
          "a_GPA": 3.6,
          "major_GPA": 3.3
         },
         {
          "PGRE": 960,
          "QGRE": 165,
          "VGRE": 167,
          "WGRE": 4,
          "a_GPA": 3.8,
          "major_GPA": 3.9
         },
         {
          "PGRE": 910,
          "QGRE": 164,
          "VGRE": 160,
          "WGRE": 4.5,
          "a_GPA": 3.62,
          "major_GPA": 3.56
         },
         {
          "PGRE": 910,
          "QGRE": 166,
          "VGRE": 152,
          "WGRE": null,
          "a_GPA": 3.93,
          "major_GPA": 3.91
         },
         {
          "PGRE": 990,
          "QGRE": 168,
          "VGRE": 166,
          "WGRE": 4,
          "a_GPA": 4,
          "major_GPA": 4
         },
         {
          "PGRE": 990,
          "QGRE": 170,
          "VGRE": 161,
          "WGRE": 4.5,
          "a_GPA": 3.95,
          "major_GPA": 3.89
         },
         {
          "PGRE": 660,
          "QGRE": 167,
          "VGRE": 168,
          "WGRE": 5,
          "a_GPA": 3.85,
          "major_GPA": 3.77
         },
         {
          "PGRE": 830,
          "QGRE": 167,
          "VGRE": 162,
          "WGRE": 4.5,
          "a_GPA": 3.83,
          "major_GPA": 3.93
         },
         {
          "PGRE": 740,
          "QGRE": 162,
          "VGRE": 162,
          "WGRE": 5,
          "a_GPA": 3.5,
          "major_GPA": 3.65
         },
         {
          "PGRE": 800,
          "QGRE": 159,
          "VGRE": 159,
          "WGRE": 4,
          "a_GPA": 3.6,
          "major_GPA": 4
         },
         {
          "PGRE": 750,
          "QGRE": 166,
          "VGRE": 156,
          "WGRE": 5,
          "a_GPA": 3.625,
          "major_GPA": null
         },
         {
          "PGRE": 750,
          "QGRE": 166,
          "VGRE": 170,
          "WGRE": 4.5,
          "a_GPA": 3.1,
          "major_GPA": 3.2
         },
         {
          "PGRE": null,
          "QGRE": null,
          "VGRE": null,
          "WGRE": null,
          "a_GPA": 2.86,
          "major_GPA": 2.84
         },
         {
          "PGRE": 990,
          "QGRE": 167,
          "VGRE": 164,
          "WGRE": 4.5,
          "a_GPA": 3.7,
          "major_GPA": 3.8
         },
         {
          "PGRE": 580,
          "QGRE": 169,
          "VGRE": 158,
          "WGRE": null,
          "a_GPA": 3.33,
          "major_GPA": 3.33
         },
         {
          "PGRE": null,
          "QGRE": 162,
          "VGRE": 165,
          "WGRE": 4.5,
          "a_GPA": 3.91,
          "major_GPA": 3.93
         },
         {
          "PGRE": 890,
          "QGRE": 166,
          "VGRE": 165,
          "WGRE": 4.5,
          "a_GPA": 3.65,
          "major_GPA": 3.55
         },
         {
          "PGRE": 700,
          "QGRE": 167,
          "VGRE": 165,
          "WGRE": 3.5,
          "a_GPA": 3.7,
          "major_GPA": 3.7
         },
         {
          "PGRE": 970,
          "QGRE": 170,
          "VGRE": 169,
          "WGRE": 5.5,
          "a_GPA": 3.6,
          "major_GPA": 3.52
         },
         {
          "PGRE": 620,
          "QGRE": 160,
          "VGRE": 163,
          "WGRE": 4.5,
          "a_GPA": 3.78,
          "major_GPA": 3.9
         },
         {
          "PGRE": 920,
          "QGRE": 168,
          "VGRE": 165,
          "WGRE": 4.5,
          "a_GPA": 3.81,
          "major_GPA": 3.79
         },
         {
          "PGRE": 880,
          "QGRE": 169,
          "VGRE": 163,
          "WGRE": 4.5,
          "a_GPA": 3.93,
          "major_GPA": 3.97
         },
         {
          "PGRE": null,
          "QGRE": null,
          "VGRE": null,
          "WGRE": null,
          "a_GPA": 3.11,
          "major_GPA": 3.22
         },
         {
          "PGRE": 840,
          "QGRE": 165,
          "VGRE": 167,
          "WGRE": 5.5,
          "a_GPA": 4,
          "major_GPA": 4
         },
         {
          "PGRE": 920,
          "QGRE": 170,
          "VGRE": 162,
          "WGRE": 5,
          "a_GPA": 3.98,
          "major_GPA": 4
         },
         {
          "PGRE": 900,
          "QGRE": 169,
          "VGRE": 164,
          "WGRE": 5.5,
          "a_GPA": 4,
          "major_GPA": 4
         },
         {
          "PGRE": 580,
          "QGRE": 170,
          "VGRE": 158,
          "WGRE": 4.5,
          "a_GPA": 3.4,
          "major_GPA": 3.44
         },
         {
          "PGRE": 630,
          "QGRE": 164,
          "VGRE": 159,
          "WGRE": 4,
          "a_GPA": 4,
          "major_GPA": 4
         },
         {
          "PGRE": 990,
          "QGRE": 170,
          "VGRE": 162,
          "WGRE": 5,
          "a_GPA": 3.66,
          "major_GPA": 3.66
         },
         {
          "PGRE": 900,
          "QGRE": 162,
          "VGRE": 159,
          "WGRE": 4,
          "a_GPA": 4,
          "major_GPA": 4
         },
         {
          "PGRE": 860,
          "QGRE": 154,
          "VGRE": 165,
          "WGRE": 4,
          "a_GPA": 3.83,
          "major_GPA": 3.83
         },
         {
          "PGRE": 770,
          "QGRE": 170,
          "VGRE": 169,
          "WGRE": 3.5,
          "a_GPA": 3.8,
          "major_GPA": null
         },
         {
          "PGRE": null,
          "QGRE": 166,
          "VGRE": 160,
          "WGRE": null,
          "a_GPA": 3.1,
          "major_GPA": 3.3
         },
         {
          "PGRE": 600,
          "QGRE": 163,
          "VGRE": 160,
          "WGRE": 4.5,
          "a_GPA": 3.7,
          "major_GPA": 3.79
         },
         {
          "PGRE": 820,
          "QGRE": 168,
          "VGRE": 167,
          "WGRE": 4.5,
          "a_GPA": 3.78,
          "major_GPA": 3.94
         },
         {
          "PGRE": 880,
          "QGRE": 167,
          "VGRE": 157,
          "WGRE": 3.5,
          "a_GPA": 3.93,
          "major_GPA": 4
         },
         {
          "PGRE": 650,
          "QGRE": 170,
          "VGRE": 160,
          "WGRE": 4,
          "a_GPA": 3.6,
          "major_GPA": 4
         },
         {
          "PGRE": 980,
          "QGRE": 170,
          "VGRE": 169,
          "WGRE": 3.5,
          "a_GPA": 4,
          "major_GPA": 4
         },
         {
          "PGRE": 600,
          "QGRE": 163,
          "VGRE": 162,
          "WGRE": 4.5,
          "a_GPA": 3.6,
          "major_GPA": null
         },
         {
          "PGRE": null,
          "QGRE": null,
          "VGRE": null,
          "WGRE": null,
          "a_GPA": 2.35,
          "major_GPA": 2.9
         },
         {
          "PGRE": 770,
          "QGRE": 167,
          "VGRE": 165,
          "WGRE": 5.5,
          "a_GPA": 3.8,
          "major_GPA": 3.8
         },
         {
          "PGRE": 720,
          "QGRE": 170,
          "VGRE": 168,
          "WGRE": 3.5,
          "a_GPA": null,
          "major_GPA": null
         },
         {
          "PGRE": 900,
          "QGRE": 162,
          "VGRE": 163,
          "WGRE": 5,
          "a_GPA": 3.8,
          "major_GPA": 3.8
         },
         {
          "PGRE": null,
          "QGRE": null,
          "VGRE": null,
          "WGRE": null,
          "a_GPA": 3.5,
          "major_GPA": 3.6
         },
         {
          "PGRE": 800,
          "QGRE": 170,
          "VGRE": 156,
          "WGRE": 5,
          "a_GPA": 3.57,
          "major_GPA": 3.42
         },
         {
          "PGRE": 980,
          "QGRE": 168,
          "VGRE": 158,
          "WGRE": 4,
          "a_GPA": 3.7,
          "major_GPA": 3.7
         },
         {
          "PGRE": 990,
          "QGRE": 166,
          "VGRE": 167,
          "WGRE": 3.5,
          "a_GPA": 3.8,
          "major_GPA": 3.8
         },
         {
          "PGRE": 680,
          "QGRE": 170,
          "VGRE": 163,
          "WGRE": 4.5,
          "a_GPA": 3.9,
          "major_GPA": null
         },
         {
          "PGRE": 780,
          "QGRE": 169,
          "VGRE": 155,
          "WGRE": 4.5,
          "a_GPA": 3.7,
          "major_GPA": 3.71
         },
         {
          "PGRE": null,
          "QGRE": null,
          "VGRE": null,
          "WGRE": null,
          "a_GPA": null,
          "major_GPA": 3.7
         },
         {
          "PGRE": 590,
          "QGRE": 166,
          "VGRE": 160,
          "WGRE": 5,
          "a_GPA": 3.55,
          "major_GPA": 3.36
         },
         {
          "PGRE": 640,
          "QGRE": 157,
          "VGRE": 164,
          "WGRE": 4.5,
          "a_GPA": 3.66,
          "major_GPA": 3.55
         },
         {
          "PGRE": 990,
          "QGRE": 168,
          "VGRE": 166,
          "WGRE": 4.5,
          "a_GPA": 3.9,
          "major_GPA": null
         },
         {
          "PGRE": 890,
          "QGRE": 170,
          "VGRE": 166,
          "WGRE": 5,
          "a_GPA": 3.84,
          "major_GPA": 3.89
         },
         {
          "PGRE": 790,
          "QGRE": 165,
          "VGRE": 166,
          "WGRE": 4,
          "a_GPA": 3.45,
          "major_GPA": 3.55
         },
         {
          "PGRE": 950,
          "QGRE": 170,
          "VGRE": 168,
          "WGRE": 4.5,
          "a_GPA": 3.68,
          "major_GPA": 3.87
         },
         {
          "PGRE": 990,
          "QGRE": 163,
          "VGRE": 143,
          "WGRE": 2.5,
          "a_GPA": 3.6,
          "major_GPA": 3.6
         },
         {
          "PGRE": 940,
          "QGRE": 167,
          "VGRE": 156,
          "WGRE": 3,
          "a_GPA": 3.86,
          "major_GPA": 3.93
         },
         {
          "PGRE": 640,
          "QGRE": 159,
          "VGRE": 159,
          "WGRE": 3,
          "a_GPA": 3.87,
          "major_GPA": 3.88
         },
         {
          "PGRE": null,
          "QGRE": 156,
          "VGRE": 150,
          "WGRE": null,
          "a_GPA": 3.5,
          "major_GPA": 3.95
         },
         {
          "PGRE": null,
          "QGRE": 170,
          "VGRE": 166,
          "WGRE": 5,
          "a_GPA": 3.8,
          "major_GPA": 3.9
         },
         {
          "PGRE": 990,
          "QGRE": 170,
          "VGRE": 163,
          "WGRE": 5,
          "a_GPA": 4,
          "major_GPA": 4
         },
         {
          "PGRE": 580,
          "QGRE": 153,
          "VGRE": 153,
          "WGRE": 4.5,
          "a_GPA": 3.81,
          "major_GPA": 3.77
         },
         {
          "PGRE": 680,
          "QGRE": 157,
          "VGRE": 159,
          "WGRE": 5,
          "a_GPA": 3.85,
          "major_GPA": 3.93
         },
         {
          "PGRE": null,
          "QGRE": null,
          "VGRE": null,
          "WGRE": 4,
          "a_GPA": null,
          "major_GPA": null
         },
         {
          "PGRE": 810,
          "QGRE": 168,
          "VGRE": 164,
          "WGRE": 5,
          "a_GPA": 3.34,
          "major_GPA": 3.44
         },
         {
          "PGRE": null,
          "QGRE": 169,
          "VGRE": 160,
          "WGRE": 4.5,
          "a_GPA": 3.85,
          "major_GPA": 3.9
         },
         {
          "PGRE": 710,
          "QGRE": 170,
          "VGRE": 163,
          "WGRE": 4.5,
          "a_GPA": 3.73,
          "major_GPA": 3.8
         },
         {
          "PGRE": 840,
          "QGRE": 166,
          "VGRE": 155,
          "WGRE": 4,
          "a_GPA": 3.96,
          "major_GPA": 3.92
         },
         {
          "PGRE": 990,
          "QGRE": 170,
          "VGRE": 163,
          "WGRE": 4,
          "a_GPA": 4,
          "major_GPA": 4
         },
         {
          "PGRE": 910,
          "QGRE": 168,
          "VGRE": 168,
          "WGRE": 5,
          "a_GPA": 3.9,
          "major_GPA": 3.86
         },
         {
          "PGRE": 960,
          "QGRE": null,
          "VGRE": null,
          "WGRE": 4.5,
          "a_GPA": null,
          "major_GPA": null
         },
         {
          "PGRE": 990,
          "QGRE": 170,
          "VGRE": 164,
          "WGRE": 5,
          "a_GPA": 3.99,
          "major_GPA": 4
         },
         {
          "PGRE": 700,
          "QGRE": 166,
          "VGRE": 149,
          "WGRE": 4,
          "a_GPA": 3.4,
          "major_GPA": 3.55
         },
         {
          "PGRE": null,
          "QGRE": null,
          "VGRE": null,
          "WGRE": null,
          "a_GPA": 4,
          "major_GPA": 4
         },
         {
          "PGRE": 850,
          "QGRE": 161,
          "VGRE": 160,
          "WGRE": 4.5,
          "a_GPA": 3.5,
          "major_GPA": 3.75
         },
         {
          "PGRE": 990,
          "QGRE": 168,
          "VGRE": 170,
          "WGRE": 4,
          "a_GPA": 3.96,
          "major_GPA": 3.95
         },
         {
          "PGRE": 810,
          "QGRE": 156,
          "VGRE": 155,
          "WGRE": 4,
          "a_GPA": 3.6,
          "major_GPA": 3.75
         },
         {
          "PGRE": 690,
          "QGRE": 164,
          "VGRE": 166,
          "WGRE": 4,
          "a_GPA": 3.76,
          "major_GPA": 3.7
         },
         {
          "PGRE": 820,
          "QGRE": 170,
          "VGRE": 167,
          "WGRE": 4,
          "a_GPA": 3.63,
          "major_GPA": 3.81
         },
         {
          "PGRE": 850,
          "QGRE": 163,
          "VGRE": 167,
          "WGRE": 4.5,
          "a_GPA": 3.3,
          "major_GPA": 3.3
         },
         {
          "PGRE": 960,
          "QGRE": 168,
          "VGRE": 162,
          "WGRE": 3.5,
          "a_GPA": 3.99,
          "major_GPA": 3.98
         },
         {
          "PGRE": 750,
          "QGRE": 158,
          "VGRE": 151,
          "WGRE": 4.5,
          "a_GPA": 3.7,
          "major_GPA": 3.66
         },
         {
          "PGRE": 620,
          "QGRE": 160,
          "VGRE": 164,
          "WGRE": 4,
          "a_GPA": 3.9,
          "major_GPA": 3.9
         },
         {
          "PGRE": 670,
          "QGRE": 164,
          "VGRE": 155,
          "WGRE": 3.5,
          "a_GPA": 3.89,
          "major_GPA": 3.94
         },
         {
          "PGRE": 680,
          "QGRE": 163,
          "VGRE": 163,
          "WGRE": 4,
          "a_GPA": 3.45,
          "major_GPA": 3.25
         },
         {
          "PGRE": 990,
          "QGRE": 165,
          "VGRE": 155,
          "WGRE": 3,
          "a_GPA": 4,
          "major_GPA": null
         },
         {
          "PGRE": 580,
          "QGRE": 163,
          "VGRE": 161,
          "WGRE": 5,
          "a_GPA": 3.4,
          "major_GPA": 3.5
         },
         {
          "PGRE": 900,
          "QGRE": 162,
          "VGRE": 162,
          "WGRE": 4.5,
          "a_GPA": 3.85,
          "major_GPA": 3.95
         },
         {
          "PGRE": 680,
          "QGRE": 163,
          "VGRE": 156,
          "WGRE": 5.5,
          "a_GPA": 3.39,
          "major_GPA": 3.55
         },
         {
          "PGRE": 600,
          "QGRE": 152,
          "VGRE": 157,
          "WGRE": 4.5,
          "a_GPA": 3.6,
          "major_GPA": 3.5
         }
        ]
       },
       "vconcat": [
        {
         "encoding": {
          "color": {
           "condition": {
            "field": "WGRE",
            "selection": "selector093",
            "type": "quantitative"
           },
           "value": "lightgray"
          },
          "x": {
           "axis": {
            "title": "Physics GRE"
           },
           "field": "PGRE",
           "scale": {
            "domain": [
             500,
             1000
            ]
           },
           "type": "quantitative"
          },
          "y": {
           "axis": {
            "title": "Overall GPA"
           },
           "field": "a_GPA",
           "scale": {
            "domain": [
             2.8,
             4.1
            ]
           },
           "type": "quantitative"
          }
         },
         "mark": {
          "size": 100,
          "type": "circle"
         },
         "selection": {
          "selector093": {
           "encodings": [
            "x",
            "y"
           ],
           "mark": {
            "fill": "#333",
            "fillOpacity": 0.125,
            "stroke": "white"
           },
           "on": "[mousedown, window:mouseup] > window:mousemove!",
           "resolve": "global",
           "translate": "[mousedown, window:mouseup] > window:mousemove!",
           "type": "interval",
           "zoom": "wheel!"
          }
         },
         "width": 500
        },
        {
         "encoding": {
          "color": {
           "field": "WGRE",
           "type": "quantitative"
          },
          "x": {
           "aggregate": "count",
           "field": "WGRE",
           "scale": {
            "domain": [
             0,
             30
            ]
           },
           "type": "quantitative"
          },
          "y": {
           "field": "WGRE",
           "scale": {
            "domain": [
             2.5,
             5.5
            ]
           },
           "type": "quantitative"
          }
         },
         "height": 100,
         "mark": "bar",
         "transform": [
          {
           "filter": {
            "selection": "selector093"
           }
          }
         ],
         "width": 500
        }
       ]
      },
      "text/plain": [
       "<VegaLite 2 object>"
      ]
     },
     "execution_count": 351,
     "metadata": {},
     "output_type": "execute_result"
    }
   ],
   "source": [
    "#2015 data\n",
    "brush = alt.selection(type='interval')\n",
    "\n",
    "points = alt.Chart().mark_circle(size=100).encode(\n",
    "    alt.X('PGRE', scale=alt.Scale(domain=(500,1000)), axis=alt.Axis(title='Physics GRE')),\n",
    "    alt.Y('a_GPA', scale=alt.Scale(domain=(2.8,4.1)), axis=alt.Axis(title='Overall GPA')),\n",
    "    color=alt.condition(brush, 'WGRE', alt.value('lightgray'))\n",
    ").properties(\n",
    "    selection=brush,\n",
    "    width=500\n",
    ")\n",
    "\n",
    "bars = alt.Chart().mark_bar().encode(\n",
    "    alt.X('count(WGRE):Q', scale=alt.Scale(domain=(0,30))),\n",
    "    alt.Y('WGRE:Q', scale=alt.Scale(domain=(2.5,5.5))),\n",
    "    color='WGRE'\n",
    ").transform_filter(\n",
    "    brush.ref() \n",
    ").properties(\n",
    "    width=500,\n",
    "    height=100\n",
    ")\n",
    "\n",
    "chart = alt.vconcat(points, bars, data=df)\n",
    "chart\n",
    "# chart.savechart('pgre.html')"
   ]
  },
  {
   "cell_type": "code",
   "execution_count": 361,
   "metadata": {},
   "outputs": [
    {
     "data": {
      "application/vnd.vegalite.v2+json": {
       "$schema": "https://vega.github.io/schema/vega-lite/v2.json",
       "config": {
        "view": {
         "height": 300,
         "width": 400
        }
       },
       "data": {
        "values": [
         {
          "PGRE": 740,
          "QGRE": 163,
          "VGRE": 161,
          "WGRE": 3.5,
          "a_GPA": 3.9,
          "major_GPA": 4
         },
         {
          "PGRE": 810,
          "QGRE": 168,
          "VGRE": 153,
          "WGRE": 3,
          "a_GPA": null,
          "major_GPA": 3.2
         },
         {
          "PGRE": 700,
          "QGRE": 164,
          "VGRE": 168,
          "WGRE": 5,
          "a_GPA": 3.8,
          "major_GPA": 3.9
         },
         {
          "PGRE": 980,
          "QGRE": 168,
          "VGRE": 166,
          "WGRE": 4,
          "a_GPA": null,
          "major_GPA": null
         },
         {
          "PGRE": 830,
          "QGRE": 167,
          "VGRE": 156,
          "WGRE": 5,
          "a_GPA": 3.92,
          "major_GPA": 3.95
         },
         {
          "PGRE": 800,
          "QGRE": null,
          "VGRE": null,
          "WGRE": null,
          "a_GPA": 3,
          "major_GPA": 3.08
         },
         {
          "PGRE": 580,
          "QGRE": 155,
          "VGRE": 156,
          "WGRE": 4,
          "a_GPA": 3.9,
          "major_GPA": 3.9
         },
         {
          "PGRE": 970,
          "QGRE": 170,
          "VGRE": null,
          "WGRE": null,
          "a_GPA": 4,
          "major_GPA": 4
         },
         {
          "PGRE": 800,
          "QGRE": 170,
          "VGRE": 157,
          "WGRE": 5,
          "a_GPA": 3.9,
          "major_GPA": 4
         },
         {
          "PGRE": 620,
          "QGRE": 157,
          "VGRE": 140,
          "WGRE": 3,
          "a_GPA": 2.75,
          "major_GPA": 3
         },
         {
          "PGRE": 940,
          "QGRE": 164,
          "VGRE": 170,
          "WGRE": 4.5,
          "a_GPA": 3.96,
          "major_GPA": 4
         },
         {
          "PGRE": 990,
          "QGRE": 170,
          "VGRE": 165,
          "WGRE": 4,
          "a_GPA": 3.87,
          "major_GPA": 3.85
         },
         {
          "PGRE": null,
          "QGRE": 161,
          "VGRE": null,
          "WGRE": null,
          "a_GPA": 3.3,
          "major_GPA": 3.2
         },
         {
          "PGRE": 980,
          "QGRE": 170,
          "VGRE": 165,
          "WGRE": 4,
          "a_GPA": null,
          "major_GPA": null
         },
         {
          "PGRE": 680,
          "QGRE": 169,
          "VGRE": 166,
          "WGRE": 4,
          "a_GPA": 3.5,
          "major_GPA": 3.5
         },
         {
          "PGRE": 550,
          "QGRE": 155,
          "VGRE": 158,
          "WGRE": 4.5,
          "a_GPA": 3.63,
          "major_GPA": 3.5
         },
         {
          "PGRE": 780,
          "QGRE": 159,
          "VGRE": 158,
          "WGRE": 4,
          "a_GPA": 3.66,
          "major_GPA": null
         },
         {
          "PGRE": null,
          "QGRE": 164,
          "VGRE": 168,
          "WGRE": 5,
          "a_GPA": 3.98,
          "major_GPA": 3.98
         },
         {
          "PGRE": 990,
          "QGRE": 168,
          "VGRE": 162,
          "WGRE": 4.5,
          "a_GPA": 4,
          "major_GPA": 4
         },
         {
          "PGRE": 990,
          "QGRE": 167,
          "VGRE": 158,
          "WGRE": 3.5,
          "a_GPA": 3.68,
          "major_GPA": 3.7
         },
         {
          "PGRE": 630,
          "QGRE": 161,
          "VGRE": 156,
          "WGRE": 4,
          "a_GPA": null,
          "major_GPA": 3.54
         },
         {
          "PGRE": 670,
          "QGRE": 168,
          "VGRE": 167,
          "WGRE": 4.5,
          "a_GPA": null,
          "major_GPA": null
         },
         {
          "PGRE": 690,
          "QGRE": 163,
          "VGRE": 160,
          "WGRE": 4,
          "a_GPA": 3.95,
          "major_GPA": 3.98
         },
         {
          "PGRE": 700,
          "QGRE": 166,
          "VGRE": 165,
          "WGRE": 4.5,
          "a_GPA": 3.65,
          "major_GPA": 3.6
         },
         {
          "PGRE": 920,
          "QGRE": 170,
          "VGRE": 169,
          "WGRE": 5,
          "a_GPA": 3.9,
          "major_GPA": 3.9
         },
         {
          "PGRE": null,
          "QGRE": null,
          "VGRE": null,
          "WGRE": 4,
          "a_GPA": 3.5,
          "major_GPA": 3.3
         },
         {
          "PGRE": 870,
          "QGRE": 170,
          "VGRE": 161,
          "WGRE": 5.5,
          "a_GPA": 3.99,
          "major_GPA": 4
         },
         {
          "PGRE": 770,
          "QGRE": 162,
          "VGRE": 159,
          "WGRE": 5,
          "a_GPA": 3.55,
          "major_GPA": 3.8
         },
         {
          "PGRE": 990,
          "QGRE": 163,
          "VGRE": 155,
          "WGRE": 4,
          "a_GPA": 3.6,
          "major_GPA": 3.7
         },
         {
          "PGRE": 760,
          "QGRE": 164,
          "VGRE": 162,
          "WGRE": 5,
          "a_GPA": 3.8,
          "major_GPA": 3.92
         },
         {
          "PGRE": 970,
          "QGRE": 157,
          "VGRE": 162,
          "WGRE": 4,
          "a_GPA": 3.6,
          "major_GPA": 3.8
         },
         {
          "PGRE": 800,
          "QGRE": 162,
          "VGRE": 161,
          "WGRE": 4.5,
          "a_GPA": 3.6,
          "major_GPA": 3.6
         },
         {
          "PGRE": 800,
          "QGRE": 161,
          "VGRE": 159,
          "WGRE": 5.5,
          "a_GPA": 3.95,
          "major_GPA": 3.95
         },
         {
          "PGRE": 850,
          "QGRE": 164,
          "VGRE": 165,
          "WGRE": 5.5,
          "a_GPA": 3.7,
          "major_GPA": 3.5
         },
         {
          "PGRE": 690,
          "QGRE": 166,
          "VGRE": 163,
          "WGRE": 5,
          "a_GPA": 3.72,
          "major_GPA": 3.8
         },
         {
          "PGRE": 800,
          "QGRE": 161,
          "VGRE": 161,
          "WGRE": 4,
          "a_GPA": 3.93,
          "major_GPA": 3.96
         },
         {
          "PGRE": 900,
          "QGRE": 169,
          "VGRE": 168,
          "WGRE": 4.5,
          "a_GPA": 3.85,
          "major_GPA": 3.85
         },
         {
          "PGRE": 990,
          "QGRE": 168,
          "VGRE": 163,
          "WGRE": 4,
          "a_GPA": 3.6,
          "major_GPA": null
         },
         {
          "PGRE": 970,
          "QGRE": 170,
          "VGRE": 166,
          "WGRE": 6,
          "a_GPA": 3.63,
          "major_GPA": 3.75
         },
         {
          "PGRE": 760,
          "QGRE": 168,
          "VGRE": 162,
          "WGRE": 5,
          "a_GPA": 3.6,
          "major_GPA": 3.6
         },
         {
          "PGRE": 860,
          "QGRE": 169,
          "VGRE": 168,
          "WGRE": 5,
          "a_GPA": 3.9,
          "major_GPA": 3.9
         },
         {
          "PGRE": null,
          "QGRE": null,
          "VGRE": null,
          "WGRE": 4,
          "a_GPA": 3.8,
          "major_GPA": 3.8
         },
         {
          "PGRE": 950,
          "QGRE": 168,
          "VGRE": 164,
          "WGRE": 4.5,
          "a_GPA": 3.75,
          "major_GPA": 3.85
         },
         {
          "PGRE": 910,
          "QGRE": 164,
          "VGRE": 155,
          "WGRE": 3,
          "a_GPA": 4,
          "major_GPA": 4
         },
         {
          "PGRE": 840,
          "QGRE": 168,
          "VGRE": 160,
          "WGRE": 5,
          "a_GPA": 4,
          "major_GPA": 4
         },
         {
          "PGRE": 800,
          "QGRE": 170,
          "VGRE": 163,
          "WGRE": 4.5,
          "a_GPA": 3.92,
          "major_GPA": 3.98
         },
         {
          "PGRE": null,
          "QGRE": 169,
          "VGRE": 159,
          "WGRE": 4,
          "a_GPA": 3.98,
          "major_GPA": 3.98
         },
         {
          "PGRE": 890,
          "QGRE": 162,
          "VGRE": 160,
          "WGRE": 3,
          "a_GPA": 3.8,
          "major_GPA": 3.8
         },
         {
          "PGRE": 750,
          "QGRE": 162,
          "VGRE": 155,
          "WGRE": 3.5,
          "a_GPA": 3.61,
          "major_GPA": 3.75
         },
         {
          "PGRE": 700,
          "QGRE": 164,
          "VGRE": 162,
          "WGRE": 4.5,
          "a_GPA": 3.68,
          "major_GPA": null
         },
         {
          "PGRE": 780,
          "QGRE": 163,
          "VGRE": 165,
          "WGRE": 5.5,
          "a_GPA": 3.85,
          "major_GPA": 3.8
         },
         {
          "PGRE": 680,
          "QGRE": 163,
          "VGRE": 151,
          "WGRE": 4.5,
          "a_GPA": 3.44,
          "major_GPA": null
         },
         {
          "PGRE": 920,
          "QGRE": 170,
          "VGRE": 157,
          "WGRE": 4,
          "a_GPA": null,
          "major_GPA": null
         },
         {
          "PGRE": 870,
          "QGRE": 169,
          "VGRE": 159,
          "WGRE": 3.5,
          "a_GPA": 3.83,
          "major_GPA": 3.84
         },
         {
          "PGRE": 690,
          "QGRE": 170,
          "VGRE": 169,
          "WGRE": 5,
          "a_GPA": 3.1,
          "major_GPA": 3.4
         },
         {
          "PGRE": 990,
          "QGRE": 168,
          "VGRE": 168,
          "WGRE": 5.5,
          "a_GPA": 4,
          "major_GPA": 3.98
         },
         {
          "PGRE": 770,
          "QGRE": 165,
          "VGRE": 167,
          "WGRE": 3.5,
          "a_GPA": 3.78,
          "major_GPA": 3.78
         },
         {
          "PGRE": 760,
          "QGRE": 166,
          "VGRE": 166,
          "WGRE": 4,
          "a_GPA": 3.4,
          "major_GPA": null
         },
         {
          "PGRE": 770,
          "QGRE": 166,
          "VGRE": 168,
          "WGRE": 4.5,
          "a_GPA": 3.64,
          "major_GPA": 3.66
         },
         {
          "PGRE": 990,
          "QGRE": 167,
          "VGRE": 153,
          "WGRE": 3,
          "a_GPA": 3.67,
          "major_GPA": 3.48
         },
         {
          "PGRE": 910,
          "QGRE": 169,
          "VGRE": 169,
          "WGRE": 5,
          "a_GPA": 3.6,
          "major_GPA": 3.9
         },
         {
          "PGRE": 680,
          "QGRE": 166,
          "VGRE": 157,
          "WGRE": 4.5,
          "a_GPA": 3.1,
          "major_GPA": null
         },
         {
          "PGRE": 840,
          "QGRE": 163,
          "VGRE": 165,
          "WGRE": 5,
          "a_GPA": null,
          "major_GPA": null
         },
         {
          "PGRE": 980,
          "QGRE": 164,
          "VGRE": 167,
          "WGRE": 4.5,
          "a_GPA": 3.93,
          "major_GPA": 4
         },
         {
          "PGRE": 660,
          "QGRE": 161,
          "VGRE": 165,
          "WGRE": 4.5,
          "a_GPA": 3.27,
          "major_GPA": null
         },
         {
          "PGRE": null,
          "QGRE": null,
          "VGRE": 169,
          "WGRE": 5,
          "a_GPA": 4,
          "major_GPA": null
         },
         {
          "PGRE": 890,
          "QGRE": 169,
          "VGRE": 168,
          "WGRE": 4,
          "a_GPA": 4,
          "major_GPA": 4
         },
         {
          "PGRE": 820,
          "QGRE": 170,
          "VGRE": 167,
          "WGRE": 4,
          "a_GPA": 3.85,
          "major_GPA": 3.8
         },
         {
          "PGRE": 600,
          "QGRE": 156,
          "VGRE": 151,
          "WGRE": 3,
          "a_GPA": 3.2,
          "major_GPA": null
         },
         {
          "PGRE": null,
          "QGRE": 168,
          "VGRE": 152,
          "WGRE": 3.5,
          "a_GPA": 3.92,
          "major_GPA": 3.91
         },
         {
          "PGRE": 780,
          "QGRE": 165,
          "VGRE": 163,
          "WGRE": 4,
          "a_GPA": 3.4,
          "major_GPA": 3.4
         },
         {
          "PGRE": 730,
          "QGRE": 164,
          "VGRE": 162,
          "WGRE": 4.5,
          "a_GPA": 3.84,
          "major_GPA": null
         },
         {
          "PGRE": 540,
          "QGRE": 153,
          "VGRE": 154,
          "WGRE": 4,
          "a_GPA": 3.62,
          "major_GPA": 3.6
         },
         {
          "PGRE": 990,
          "QGRE": 170,
          "VGRE": 154,
          "WGRE": 4,
          "a_GPA": 3.99,
          "major_GPA": null
         },
         {
          "PGRE": 800,
          "QGRE": 167,
          "VGRE": 159,
          "WGRE": 4,
          "a_GPA": 3.98,
          "major_GPA": 4
         },
         {
          "PGRE": 800,
          "QGRE": 165,
          "VGRE": 161,
          "WGRE": 3,
          "a_GPA": 3.1,
          "major_GPA": 3.7
         },
         {
          "PGRE": 870,
          "QGRE": 168,
          "VGRE": 157,
          "WGRE": 4.5,
          "a_GPA": 3,
          "major_GPA": 4
         },
         {
          "PGRE": 970,
          "QGRE": 170,
          "VGRE": 169,
          "WGRE": 5.5,
          "a_GPA": 4,
          "major_GPA": 4
         },
         {
          "PGRE": 910,
          "QGRE": 164,
          "VGRE": 155,
          "WGRE": 3,
          "a_GPA": 4,
          "major_GPA": 4
         },
         {
          "PGRE": 870,
          "QGRE": 168,
          "VGRE": 162,
          "WGRE": 4.5,
          "a_GPA": null,
          "major_GPA": null
         }
        ]
       },
       "vconcat": [
        {
         "encoding": {
          "color": {
           "condition": {
            "field": "WGRE",
            "selection": "selector103",
            "type": "quantitative"
           },
           "value": "lightgray"
          },
          "x": {
           "axis": {
            "title": "Physics GRE"
           },
           "field": "PGRE",
           "scale": {
            "domain": [
             500,
             1000
            ]
           },
           "type": "quantitative"
          },
          "y": {
           "axis": {
            "title": "Overall GPA"
           },
           "field": "a_GPA",
           "scale": {
            "domain": [
             2.8,
             4.1
            ]
           },
           "type": "quantitative"
          }
         },
         "mark": {
          "size": 100,
          "type": "circle"
         },
         "selection": {
          "selector103": {
           "encodings": [
            "x",
            "y"
           ],
           "mark": {
            "fill": "#333",
            "fillOpacity": 0.125,
            "stroke": "white"
           },
           "on": "[mousedown, window:mouseup] > window:mousemove!",
           "resolve": "global",
           "translate": "[mousedown, window:mouseup] > window:mousemove!",
           "type": "interval",
           "zoom": "wheel!"
          }
         },
         "width": 500
        },
        {
         "encoding": {
          "color": {
           "field": "WGRE",
           "type": "quantitative"
          },
          "x": {
           "aggregate": "count",
           "field": "WGRE",
           "scale": {
            "domain": [
             0,
             30
            ]
           },
           "type": "quantitative"
          },
          "y": {
           "field": "WGRE",
           "scale": {
            "domain": [
             2.5,
             5.5
            ]
           },
           "type": "quantitative"
          }
         },
         "height": 100,
         "mark": "bar",
         "transform": [
          {
           "filter": {
            "selection": "selector103"
           }
          }
         ],
         "width": 500
        }
       ]
      },
      "text/plain": [
       "<VegaLite 2 object>"
      ]
     },
     "execution_count": 361,
     "metadata": {},
     "output_type": "execute_result"
    }
   ],
   "source": [
    "#2014 data\n",
    "brush = alt.selection(type='interval')\n",
    "\n",
    "points = alt.Chart().mark_circle(size=100).encode(\n",
    "    alt.X('PGRE', scale=alt.Scale(domain=(500,1000)), axis=alt.Axis(title='Physics GRE')),\n",
    "    alt.Y('a_GPA', scale=alt.Scale(domain=(2.8,4.1)), axis=alt.Axis(title='Overall GPA')),\n",
    "    color=alt.condition(brush, 'WGRE', alt.value('lightgray'))\n",
    ").properties(\n",
    "    selection=brush,\n",
    "    width=500\n",
    ")\n",
    "\n",
    "bars = alt.Chart().mark_bar().encode(\n",
    "    alt.X('count(WGRE):Q', scale=alt.Scale(domain=(0,30))),\n",
    "    alt.Y('WGRE:Q', scale=alt.Scale(domain=(2.5,5.5))),\n",
    "    color='WGRE'\n",
    ").transform_filter(\n",
    "    brush.ref() \n",
    ").properties(\n",
    "    width=500,\n",
    "    height=100\n",
    ")\n",
    "\n",
    "chart = alt.vconcat(points, bars, data=df14)\n",
    "chart\n",
    "# chart.savechart('pgre.html')"
   ]
  },
  {
   "cell_type": "code",
   "execution_count": 289,
   "metadata": {},
   "outputs": [
    {
     "data": {
      "application/vnd.vegalite.v2+json": {
       "$schema": "https://vega.github.io/schema/vega-lite/v2.json",
       "config": {
        "view": {
         "height": 300,
         "width": 400
        }
       },
       "data": {
        "values": [
         {
          "PGRE": 910,
          "QGRE": 167,
          "VGRE": 162,
          "WGRE": 4,
          "a_GPA": 3.67,
          "major_GPA": 3.84
         },
         {
          "PGRE": 980,
          "QGRE": 170,
          "VGRE": 165,
          "WGRE": 4,
          "a_GPA": null,
          "major_GPA": null
         },
         {
          "PGRE": 910,
          "QGRE": 167,
          "VGRE": 166,
          "WGRE": 4,
          "a_GPA": 3.94,
          "major_GPA": 3.93
         },
         {
          "PGRE": null,
          "QGRE": null,
          "VGRE": null,
          "WGRE": null,
          "a_GPA": 3.8,
          "major_GPA": 3.8
         },
         {
          "PGRE": 750,
          "QGRE": 162,
          "VGRE": 160,
          "WGRE": 4.5,
          "a_GPA": 3.4,
          "major_GPA": 3.3
         },
         {
          "PGRE": 990,
          "QGRE": 170,
          "VGRE": 166,
          "WGRE": 5,
          "a_GPA": 4,
          "major_GPA": 4
         },
         {
          "PGRE": 870,
          "QGRE": 170,
          "VGRE": 168,
          "WGRE": 4,
          "a_GPA": 3.3,
          "major_GPA": 3.3
         },
         {
          "PGRE": null,
          "QGRE": 170,
          "VGRE": 160,
          "WGRE": 4,
          "a_GPA": 3.98,
          "major_GPA": 3.98
         },
         {
          "PGRE": 640,
          "QGRE": 164,
          "VGRE": 159,
          "WGRE": 4.5,
          "a_GPA": 3.6,
          "major_GPA": 3.3
         },
         {
          "PGRE": 960,
          "QGRE": 165,
          "VGRE": 167,
          "WGRE": 4,
          "a_GPA": 3.8,
          "major_GPA": 3.9
         },
         {
          "PGRE": 910,
          "QGRE": 164,
          "VGRE": 160,
          "WGRE": 4.5,
          "a_GPA": 3.62,
          "major_GPA": 3.56
         },
         {
          "PGRE": 910,
          "QGRE": 166,
          "VGRE": 152,
          "WGRE": null,
          "a_GPA": 3.93,
          "major_GPA": 3.91
         },
         {
          "PGRE": 990,
          "QGRE": 168,
          "VGRE": 166,
          "WGRE": 4,
          "a_GPA": 4,
          "major_GPA": 4
         },
         {
          "PGRE": 990,
          "QGRE": 170,
          "VGRE": 161,
          "WGRE": 4.5,
          "a_GPA": 3.95,
          "major_GPA": 3.89
         },
         {
          "PGRE": 660,
          "QGRE": 167,
          "VGRE": 168,
          "WGRE": 5,
          "a_GPA": 3.85,
          "major_GPA": 3.77
         },
         {
          "PGRE": 830,
          "QGRE": 167,
          "VGRE": 162,
          "WGRE": 4.5,
          "a_GPA": 3.83,
          "major_GPA": 3.93
         },
         {
          "PGRE": 740,
          "QGRE": 162,
          "VGRE": 162,
          "WGRE": 5,
          "a_GPA": 3.5,
          "major_GPA": 3.65
         },
         {
          "PGRE": 800,
          "QGRE": 159,
          "VGRE": 159,
          "WGRE": 4,
          "a_GPA": 3.6,
          "major_GPA": 4
         },
         {
          "PGRE": 750,
          "QGRE": 166,
          "VGRE": 156,
          "WGRE": 5,
          "a_GPA": 3.625,
          "major_GPA": null
         },
         {
          "PGRE": 750,
          "QGRE": 166,
          "VGRE": 170,
          "WGRE": 4.5,
          "a_GPA": 3.1,
          "major_GPA": 3.2
         },
         {
          "PGRE": null,
          "QGRE": null,
          "VGRE": null,
          "WGRE": null,
          "a_GPA": 2.86,
          "major_GPA": 2.84
         },
         {
          "PGRE": 990,
          "QGRE": 167,
          "VGRE": 164,
          "WGRE": 4.5,
          "a_GPA": 3.7,
          "major_GPA": 3.8
         },
         {
          "PGRE": 580,
          "QGRE": 169,
          "VGRE": 158,
          "WGRE": null,
          "a_GPA": 3.33,
          "major_GPA": 3.33
         },
         {
          "PGRE": null,
          "QGRE": 162,
          "VGRE": 165,
          "WGRE": 4.5,
          "a_GPA": 3.91,
          "major_GPA": 3.93
         },
         {
          "PGRE": 890,
          "QGRE": 166,
          "VGRE": 165,
          "WGRE": 4.5,
          "a_GPA": 3.65,
          "major_GPA": 3.55
         },
         {
          "PGRE": 700,
          "QGRE": 167,
          "VGRE": 165,
          "WGRE": 3.5,
          "a_GPA": 3.7,
          "major_GPA": 3.7
         },
         {
          "PGRE": 970,
          "QGRE": 170,
          "VGRE": 169,
          "WGRE": 5.5,
          "a_GPA": 3.6,
          "major_GPA": 3.52
         },
         {
          "PGRE": 620,
          "QGRE": 160,
          "VGRE": 163,
          "WGRE": 4.5,
          "a_GPA": 3.78,
          "major_GPA": 3.9
         },
         {
          "PGRE": 920,
          "QGRE": 168,
          "VGRE": 165,
          "WGRE": 4.5,
          "a_GPA": 3.81,
          "major_GPA": 3.79
         },
         {
          "PGRE": 880,
          "QGRE": 169,
          "VGRE": 163,
          "WGRE": 4.5,
          "a_GPA": 3.93,
          "major_GPA": 3.97
         },
         {
          "PGRE": null,
          "QGRE": null,
          "VGRE": null,
          "WGRE": null,
          "a_GPA": 3.11,
          "major_GPA": 3.22
         },
         {
          "PGRE": 840,
          "QGRE": 165,
          "VGRE": 167,
          "WGRE": 5.5,
          "a_GPA": 4,
          "major_GPA": 4
         },
         {
          "PGRE": 920,
          "QGRE": 170,
          "VGRE": 162,
          "WGRE": 5,
          "a_GPA": 3.98,
          "major_GPA": 4
         },
         {
          "PGRE": 900,
          "QGRE": 169,
          "VGRE": 164,
          "WGRE": 5.5,
          "a_GPA": 4,
          "major_GPA": 4
         },
         {
          "PGRE": 580,
          "QGRE": 170,
          "VGRE": 158,
          "WGRE": 4.5,
          "a_GPA": 3.4,
          "major_GPA": 3.44
         },
         {
          "PGRE": 630,
          "QGRE": 164,
          "VGRE": 159,
          "WGRE": 4,
          "a_GPA": 4,
          "major_GPA": 4
         },
         {
          "PGRE": 990,
          "QGRE": 170,
          "VGRE": 162,
          "WGRE": 5,
          "a_GPA": 3.66,
          "major_GPA": 3.66
         },
         {
          "PGRE": 900,
          "QGRE": 162,
          "VGRE": 159,
          "WGRE": 4,
          "a_GPA": 4,
          "major_GPA": 4
         },
         {
          "PGRE": 860,
          "QGRE": 154,
          "VGRE": 165,
          "WGRE": 4,
          "a_GPA": 3.83,
          "major_GPA": 3.83
         },
         {
          "PGRE": 770,
          "QGRE": 170,
          "VGRE": 169,
          "WGRE": 3.5,
          "a_GPA": 3.8,
          "major_GPA": null
         },
         {
          "PGRE": null,
          "QGRE": 166,
          "VGRE": 160,
          "WGRE": null,
          "a_GPA": 3.1,
          "major_GPA": 3.3
         },
         {
          "PGRE": 600,
          "QGRE": 163,
          "VGRE": 160,
          "WGRE": 4.5,
          "a_GPA": 3.7,
          "major_GPA": 3.79
         },
         {
          "PGRE": 820,
          "QGRE": 168,
          "VGRE": 167,
          "WGRE": 4.5,
          "a_GPA": 3.78,
          "major_GPA": 3.94
         },
         {
          "PGRE": 880,
          "QGRE": 167,
          "VGRE": 157,
          "WGRE": 3.5,
          "a_GPA": 3.93,
          "major_GPA": 4
         },
         {
          "PGRE": 650,
          "QGRE": 170,
          "VGRE": 160,
          "WGRE": 4,
          "a_GPA": 3.6,
          "major_GPA": 4
         },
         {
          "PGRE": 980,
          "QGRE": 170,
          "VGRE": 169,
          "WGRE": 3.5,
          "a_GPA": 4,
          "major_GPA": 4
         },
         {
          "PGRE": 600,
          "QGRE": 163,
          "VGRE": 162,
          "WGRE": 4.5,
          "a_GPA": 3.6,
          "major_GPA": null
         },
         {
          "PGRE": null,
          "QGRE": null,
          "VGRE": null,
          "WGRE": null,
          "a_GPA": 2.35,
          "major_GPA": 2.9
         },
         {
          "PGRE": 770,
          "QGRE": 167,
          "VGRE": 165,
          "WGRE": 5.5,
          "a_GPA": 3.8,
          "major_GPA": 3.8
         },
         {
          "PGRE": 720,
          "QGRE": 170,
          "VGRE": 168,
          "WGRE": 3.5,
          "a_GPA": null,
          "major_GPA": null
         },
         {
          "PGRE": 900,
          "QGRE": 162,
          "VGRE": 163,
          "WGRE": 5,
          "a_GPA": 3.8,
          "major_GPA": 3.8
         },
         {
          "PGRE": null,
          "QGRE": null,
          "VGRE": null,
          "WGRE": null,
          "a_GPA": 3.5,
          "major_GPA": 3.6
         },
         {
          "PGRE": 800,
          "QGRE": 170,
          "VGRE": 156,
          "WGRE": 5,
          "a_GPA": 3.57,
          "major_GPA": 3.42
         },
         {
          "PGRE": 980,
          "QGRE": 168,
          "VGRE": 158,
          "WGRE": 4,
          "a_GPA": 3.7,
          "major_GPA": 3.7
         },
         {
          "PGRE": 990,
          "QGRE": 166,
          "VGRE": 167,
          "WGRE": 3.5,
          "a_GPA": 3.8,
          "major_GPA": 3.8
         },
         {
          "PGRE": 680,
          "QGRE": 170,
          "VGRE": 163,
          "WGRE": 4.5,
          "a_GPA": 3.9,
          "major_GPA": null
         },
         {
          "PGRE": 780,
          "QGRE": 169,
          "VGRE": 155,
          "WGRE": 4.5,
          "a_GPA": 3.7,
          "major_GPA": 3.71
         },
         {
          "PGRE": null,
          "QGRE": null,
          "VGRE": null,
          "WGRE": null,
          "a_GPA": null,
          "major_GPA": 3.7
         },
         {
          "PGRE": 590,
          "QGRE": 166,
          "VGRE": 160,
          "WGRE": 5,
          "a_GPA": 3.55,
          "major_GPA": 3.36
         },
         {
          "PGRE": 640,
          "QGRE": 157,
          "VGRE": 164,
          "WGRE": 4.5,
          "a_GPA": 3.66,
          "major_GPA": 3.55
         },
         {
          "PGRE": 990,
          "QGRE": 168,
          "VGRE": 166,
          "WGRE": 4.5,
          "a_GPA": 3.9,
          "major_GPA": null
         },
         {
          "PGRE": 890,
          "QGRE": 170,
          "VGRE": 166,
          "WGRE": 5,
          "a_GPA": 3.84,
          "major_GPA": 3.89
         },
         {
          "PGRE": 790,
          "QGRE": 165,
          "VGRE": 166,
          "WGRE": 4,
          "a_GPA": 3.45,
          "major_GPA": 3.55
         },
         {
          "PGRE": 950,
          "QGRE": 170,
          "VGRE": 168,
          "WGRE": 4.5,
          "a_GPA": 3.68,
          "major_GPA": 3.87
         },
         {
          "PGRE": 740,
          "QGRE": 165,
          "VGRE": 153,
          "WGRE": 5,
          "a_GPA": null,
          "major_GPA": 62
         },
         {
          "PGRE": 990,
          "QGRE": 163,
          "VGRE": 143,
          "WGRE": 2.5,
          "a_GPA": 3.6,
          "major_GPA": 3.6
         },
         {
          "PGRE": 940,
          "QGRE": 167,
          "VGRE": 156,
          "WGRE": 3,
          "a_GPA": 3.86,
          "major_GPA": 3.93
         },
         {
          "PGRE": 640,
          "QGRE": 159,
          "VGRE": 159,
          "WGRE": 3,
          "a_GPA": 3.87,
          "major_GPA": 3.88
         },
         {
          "PGRE": null,
          "QGRE": 156,
          "VGRE": 150,
          "WGRE": null,
          "a_GPA": 3.5,
          "major_GPA": 3.95
         },
         {
          "PGRE": null,
          "QGRE": 170,
          "VGRE": 166,
          "WGRE": 5,
          "a_GPA": 3.8,
          "major_GPA": 3.9
         },
         {
          "PGRE": 990,
          "QGRE": 170,
          "VGRE": 163,
          "WGRE": 5,
          "a_GPA": 4,
          "major_GPA": 4
         },
         {
          "PGRE": 580,
          "QGRE": 153,
          "VGRE": 153,
          "WGRE": 4.5,
          "a_GPA": 3.81,
          "major_GPA": 3.77
         },
         {
          "PGRE": 680,
          "QGRE": 157,
          "VGRE": 159,
          "WGRE": 5,
          "a_GPA": 3.85,
          "major_GPA": 3.93
         },
         {
          "PGRE": null,
          "QGRE": null,
          "VGRE": null,
          "WGRE": 4,
          "a_GPA": null,
          "major_GPA": null
         },
         {
          "PGRE": 810,
          "QGRE": 168,
          "VGRE": 164,
          "WGRE": 5,
          "a_GPA": 3.34,
          "major_GPA": 3.44
         },
         {
          "PGRE": null,
          "QGRE": 169,
          "VGRE": 160,
          "WGRE": 4.5,
          "a_GPA": 3.85,
          "major_GPA": 3.9
         },
         {
          "PGRE": 710,
          "QGRE": 170,
          "VGRE": 163,
          "WGRE": 4.5,
          "a_GPA": 3.73,
          "major_GPA": 3.8
         },
         {
          "PGRE": 840,
          "QGRE": 166,
          "VGRE": 155,
          "WGRE": 4,
          "a_GPA": 3.96,
          "major_GPA": 3.92
         },
         {
          "PGRE": 990,
          "QGRE": 170,
          "VGRE": 163,
          "WGRE": 4,
          "a_GPA": 4,
          "major_GPA": 4
         },
         {
          "PGRE": 910,
          "QGRE": 168,
          "VGRE": 168,
          "WGRE": 5,
          "a_GPA": 3.9,
          "major_GPA": 3.86
         },
         {
          "PGRE": 960,
          "QGRE": null,
          "VGRE": null,
          "WGRE": 4.5,
          "a_GPA": null,
          "major_GPA": null
         },
         {
          "PGRE": 990,
          "QGRE": 170,
          "VGRE": 164,
          "WGRE": 5,
          "a_GPA": 3.99,
          "major_GPA": 4
         },
         {
          "PGRE": 700,
          "QGRE": 166,
          "VGRE": 149,
          "WGRE": 4,
          "a_GPA": 3.4,
          "major_GPA": 3.55
         },
         {
          "PGRE": null,
          "QGRE": null,
          "VGRE": null,
          "WGRE": null,
          "a_GPA": 4,
          "major_GPA": 4
         },
         {
          "PGRE": 850,
          "QGRE": 161,
          "VGRE": 160,
          "WGRE": 4.5,
          "a_GPA": 3.5,
          "major_GPA": 3.75
         },
         {
          "PGRE": 990,
          "QGRE": 168,
          "VGRE": 170,
          "WGRE": 4,
          "a_GPA": 3.96,
          "major_GPA": 3.95
         },
         {
          "PGRE": 810,
          "QGRE": 156,
          "VGRE": 155,
          "WGRE": 4,
          "a_GPA": 3.6,
          "major_GPA": 3.75
         },
         {
          "PGRE": 690,
          "QGRE": 164,
          "VGRE": 166,
          "WGRE": 4,
          "a_GPA": 3.76,
          "major_GPA": 3.7
         },
         {
          "PGRE": 820,
          "QGRE": 170,
          "VGRE": 167,
          "WGRE": 4,
          "a_GPA": 3.63,
          "major_GPA": 3.81
         },
         {
          "PGRE": 850,
          "QGRE": 163,
          "VGRE": 167,
          "WGRE": 4.5,
          "a_GPA": 3.3,
          "major_GPA": 3.3
         },
         {
          "PGRE": 960,
          "QGRE": 168,
          "VGRE": 162,
          "WGRE": 3.5,
          "a_GPA": 3.99,
          "major_GPA": 3.98
         },
         {
          "PGRE": 750,
          "QGRE": 158,
          "VGRE": 151,
          "WGRE": 4.5,
          "a_GPA": 3.7,
          "major_GPA": 3.66
         },
         {
          "PGRE": 620,
          "QGRE": 160,
          "VGRE": 164,
          "WGRE": 4,
          "a_GPA": 3.9,
          "major_GPA": 3.9
         },
         {
          "PGRE": 670,
          "QGRE": 164,
          "VGRE": 155,
          "WGRE": 3.5,
          "a_GPA": 3.89,
          "major_GPA": 3.94
         },
         {
          "PGRE": 680,
          "QGRE": 163,
          "VGRE": 163,
          "WGRE": 4,
          "a_GPA": 3.45,
          "major_GPA": 3.25
         },
         {
          "PGRE": 990,
          "QGRE": 165,
          "VGRE": 155,
          "WGRE": 3,
          "a_GPA": 4,
          "major_GPA": null
         },
         {
          "PGRE": 580,
          "QGRE": 163,
          "VGRE": 161,
          "WGRE": 5,
          "a_GPA": 3.4,
          "major_GPA": 3.5
         },
         {
          "PGRE": 900,
          "QGRE": 162,
          "VGRE": 162,
          "WGRE": 4.5,
          "a_GPA": 3.85,
          "major_GPA": 3.95
         },
         {
          "PGRE": 680,
          "QGRE": 163,
          "VGRE": 156,
          "WGRE": 5.5,
          "a_GPA": 3.39,
          "major_GPA": 3.55
         },
         {
          "PGRE": 600,
          "QGRE": 152,
          "VGRE": 157,
          "WGRE": 4.5,
          "a_GPA": 3.6,
          "major_GPA": 3.5
         }
        ]
       },
       "encoding": {
        "color": {
         "condition": {
          "field": "PGRE",
          "selection": "selector061",
          "type": "quantitative"
         },
         "value": "lightgray"
        },
        "x": {
         "field": "PGRE",
         "scale": {
          "domain": [
           500,
           1000
          ]
         },
         "type": "quantitative"
        },
        "y": {
         "field": "a_GPA",
         "scale": {
          "domain": [
           2.8,
           4.1
          ]
         },
         "type": "quantitative"
        }
       },
       "mark": "point"
      },
      "text/plain": [
       "<VegaLite 2 object>"
      ]
     },
     "execution_count": 289,
     "metadata": {},
     "output_type": "execute_result"
    }
   ],
   "source": [
    "alt.Chart(df).mark_point().encode(\n",
    "    alt.X('PGRE', scale=alt.Scale(domain=(500,1000))),\n",
    "    alt.Y('a_GPA', scale=alt.Scale(domain=(2.8,4.1))),\n",
    "    color=alt.condition(brush, 'PGRE', alt.value('lightgray')),\n",
    ").properties(\n",
    "    width=500\n",
    ")\n"
   ]
  },
  {
   "cell_type": "code",
   "execution_count": 306,
   "metadata": {},
   "outputs": [
    {
     "data": {
      "application/vnd.vegalite.v2+json": {
       "$schema": "https://vega.github.io/schema/vega-lite/v2.json",
       "config": {
        "view": {
         "height": 300,
         "width": 400
        }
       },
       "data": {
        "values": [
         {
          "PGRE": 910,
          "QGRE": 167,
          "VGRE": 162,
          "WGRE": 4,
          "a_GPA": 3.67,
          "major_GPA": 3.84
         },
         {
          "PGRE": 980,
          "QGRE": 170,
          "VGRE": 165,
          "WGRE": 4,
          "a_GPA": null,
          "major_GPA": null
         },
         {
          "PGRE": 910,
          "QGRE": 167,
          "VGRE": 166,
          "WGRE": 4,
          "a_GPA": 3.94,
          "major_GPA": 3.93
         },
         {
          "PGRE": null,
          "QGRE": null,
          "VGRE": null,
          "WGRE": null,
          "a_GPA": 3.8,
          "major_GPA": 3.8
         },
         {
          "PGRE": 750,
          "QGRE": 162,
          "VGRE": 160,
          "WGRE": 4.5,
          "a_GPA": 3.4,
          "major_GPA": 3.3
         },
         {
          "PGRE": 990,
          "QGRE": 170,
          "VGRE": 166,
          "WGRE": 5,
          "a_GPA": 4,
          "major_GPA": 4
         },
         {
          "PGRE": 870,
          "QGRE": 170,
          "VGRE": 168,
          "WGRE": 4,
          "a_GPA": 3.3,
          "major_GPA": 3.3
         },
         {
          "PGRE": null,
          "QGRE": 170,
          "VGRE": 160,
          "WGRE": 4,
          "a_GPA": 3.98,
          "major_GPA": 3.98
         },
         {
          "PGRE": 640,
          "QGRE": 164,
          "VGRE": 159,
          "WGRE": 4.5,
          "a_GPA": 3.6,
          "major_GPA": 3.3
         },
         {
          "PGRE": 960,
          "QGRE": 165,
          "VGRE": 167,
          "WGRE": 4,
          "a_GPA": 3.8,
          "major_GPA": 3.9
         },
         {
          "PGRE": 910,
          "QGRE": 164,
          "VGRE": 160,
          "WGRE": 4.5,
          "a_GPA": 3.62,
          "major_GPA": 3.56
         },
         {
          "PGRE": 910,
          "QGRE": 166,
          "VGRE": 152,
          "WGRE": null,
          "a_GPA": 3.93,
          "major_GPA": 3.91
         },
         {
          "PGRE": 990,
          "QGRE": 168,
          "VGRE": 166,
          "WGRE": 4,
          "a_GPA": 4,
          "major_GPA": 4
         },
         {
          "PGRE": 990,
          "QGRE": 170,
          "VGRE": 161,
          "WGRE": 4.5,
          "a_GPA": 3.95,
          "major_GPA": 3.89
         },
         {
          "PGRE": 660,
          "QGRE": 167,
          "VGRE": 168,
          "WGRE": 5,
          "a_GPA": 3.85,
          "major_GPA": 3.77
         },
         {
          "PGRE": 830,
          "QGRE": 167,
          "VGRE": 162,
          "WGRE": 4.5,
          "a_GPA": 3.83,
          "major_GPA": 3.93
         },
         {
          "PGRE": 740,
          "QGRE": 162,
          "VGRE": 162,
          "WGRE": 5,
          "a_GPA": 3.5,
          "major_GPA": 3.65
         },
         {
          "PGRE": 800,
          "QGRE": 159,
          "VGRE": 159,
          "WGRE": 4,
          "a_GPA": 3.6,
          "major_GPA": 4
         },
         {
          "PGRE": 750,
          "QGRE": 166,
          "VGRE": 156,
          "WGRE": 5,
          "a_GPA": 3.625,
          "major_GPA": null
         },
         {
          "PGRE": 750,
          "QGRE": 166,
          "VGRE": 170,
          "WGRE": 4.5,
          "a_GPA": 3.1,
          "major_GPA": 3.2
         },
         {
          "PGRE": null,
          "QGRE": null,
          "VGRE": null,
          "WGRE": null,
          "a_GPA": 2.86,
          "major_GPA": 2.84
         },
         {
          "PGRE": 990,
          "QGRE": 167,
          "VGRE": 164,
          "WGRE": 4.5,
          "a_GPA": 3.7,
          "major_GPA": 3.8
         },
         {
          "PGRE": 580,
          "QGRE": 169,
          "VGRE": 158,
          "WGRE": null,
          "a_GPA": 3.33,
          "major_GPA": 3.33
         },
         {
          "PGRE": null,
          "QGRE": 162,
          "VGRE": 165,
          "WGRE": 4.5,
          "a_GPA": 3.91,
          "major_GPA": 3.93
         },
         {
          "PGRE": 890,
          "QGRE": 166,
          "VGRE": 165,
          "WGRE": 4.5,
          "a_GPA": 3.65,
          "major_GPA": 3.55
         },
         {
          "PGRE": 700,
          "QGRE": 167,
          "VGRE": 165,
          "WGRE": 3.5,
          "a_GPA": 3.7,
          "major_GPA": 3.7
         },
         {
          "PGRE": 970,
          "QGRE": 170,
          "VGRE": 169,
          "WGRE": 5.5,
          "a_GPA": 3.6,
          "major_GPA": 3.52
         },
         {
          "PGRE": 620,
          "QGRE": 160,
          "VGRE": 163,
          "WGRE": 4.5,
          "a_GPA": 3.78,
          "major_GPA": 3.9
         },
         {
          "PGRE": 920,
          "QGRE": 168,
          "VGRE": 165,
          "WGRE": 4.5,
          "a_GPA": 3.81,
          "major_GPA": 3.79
         },
         {
          "PGRE": 880,
          "QGRE": 169,
          "VGRE": 163,
          "WGRE": 4.5,
          "a_GPA": 3.93,
          "major_GPA": 3.97
         },
         {
          "PGRE": null,
          "QGRE": null,
          "VGRE": null,
          "WGRE": null,
          "a_GPA": 3.11,
          "major_GPA": 3.22
         },
         {
          "PGRE": 840,
          "QGRE": 165,
          "VGRE": 167,
          "WGRE": 5.5,
          "a_GPA": 4,
          "major_GPA": 4
         },
         {
          "PGRE": 920,
          "QGRE": 170,
          "VGRE": 162,
          "WGRE": 5,
          "a_GPA": 3.98,
          "major_GPA": 4
         },
         {
          "PGRE": 900,
          "QGRE": 169,
          "VGRE": 164,
          "WGRE": 5.5,
          "a_GPA": 4,
          "major_GPA": 4
         },
         {
          "PGRE": 580,
          "QGRE": 170,
          "VGRE": 158,
          "WGRE": 4.5,
          "a_GPA": 3.4,
          "major_GPA": 3.44
         },
         {
          "PGRE": 630,
          "QGRE": 164,
          "VGRE": 159,
          "WGRE": 4,
          "a_GPA": 4,
          "major_GPA": 4
         },
         {
          "PGRE": 990,
          "QGRE": 170,
          "VGRE": 162,
          "WGRE": 5,
          "a_GPA": 3.66,
          "major_GPA": 3.66
         },
         {
          "PGRE": 900,
          "QGRE": 162,
          "VGRE": 159,
          "WGRE": 4,
          "a_GPA": 4,
          "major_GPA": 4
         },
         {
          "PGRE": 860,
          "QGRE": 154,
          "VGRE": 165,
          "WGRE": 4,
          "a_GPA": 3.83,
          "major_GPA": 3.83
         },
         {
          "PGRE": 770,
          "QGRE": 170,
          "VGRE": 169,
          "WGRE": 3.5,
          "a_GPA": 3.8,
          "major_GPA": null
         },
         {
          "PGRE": null,
          "QGRE": 166,
          "VGRE": 160,
          "WGRE": null,
          "a_GPA": 3.1,
          "major_GPA": 3.3
         },
         {
          "PGRE": 600,
          "QGRE": 163,
          "VGRE": 160,
          "WGRE": 4.5,
          "a_GPA": 3.7,
          "major_GPA": 3.79
         },
         {
          "PGRE": 820,
          "QGRE": 168,
          "VGRE": 167,
          "WGRE": 4.5,
          "a_GPA": 3.78,
          "major_GPA": 3.94
         },
         {
          "PGRE": 880,
          "QGRE": 167,
          "VGRE": 157,
          "WGRE": 3.5,
          "a_GPA": 3.93,
          "major_GPA": 4
         },
         {
          "PGRE": 650,
          "QGRE": 170,
          "VGRE": 160,
          "WGRE": 4,
          "a_GPA": 3.6,
          "major_GPA": 4
         },
         {
          "PGRE": 980,
          "QGRE": 170,
          "VGRE": 169,
          "WGRE": 3.5,
          "a_GPA": 4,
          "major_GPA": 4
         },
         {
          "PGRE": 600,
          "QGRE": 163,
          "VGRE": 162,
          "WGRE": 4.5,
          "a_GPA": 3.6,
          "major_GPA": null
         },
         {
          "PGRE": null,
          "QGRE": null,
          "VGRE": null,
          "WGRE": null,
          "a_GPA": 2.35,
          "major_GPA": 2.9
         },
         {
          "PGRE": 770,
          "QGRE": 167,
          "VGRE": 165,
          "WGRE": 5.5,
          "a_GPA": 3.8,
          "major_GPA": 3.8
         },
         {
          "PGRE": 720,
          "QGRE": 170,
          "VGRE": 168,
          "WGRE": 3.5,
          "a_GPA": null,
          "major_GPA": null
         },
         {
          "PGRE": 900,
          "QGRE": 162,
          "VGRE": 163,
          "WGRE": 5,
          "a_GPA": 3.8,
          "major_GPA": 3.8
         },
         {
          "PGRE": null,
          "QGRE": null,
          "VGRE": null,
          "WGRE": null,
          "a_GPA": 3.5,
          "major_GPA": 3.6
         },
         {
          "PGRE": 800,
          "QGRE": 170,
          "VGRE": 156,
          "WGRE": 5,
          "a_GPA": 3.57,
          "major_GPA": 3.42
         },
         {
          "PGRE": 980,
          "QGRE": 168,
          "VGRE": 158,
          "WGRE": 4,
          "a_GPA": 3.7,
          "major_GPA": 3.7
         },
         {
          "PGRE": 990,
          "QGRE": 166,
          "VGRE": 167,
          "WGRE": 3.5,
          "a_GPA": 3.8,
          "major_GPA": 3.8
         },
         {
          "PGRE": 680,
          "QGRE": 170,
          "VGRE": 163,
          "WGRE": 4.5,
          "a_GPA": 3.9,
          "major_GPA": null
         },
         {
          "PGRE": 780,
          "QGRE": 169,
          "VGRE": 155,
          "WGRE": 4.5,
          "a_GPA": 3.7,
          "major_GPA": 3.71
         },
         {
          "PGRE": null,
          "QGRE": null,
          "VGRE": null,
          "WGRE": null,
          "a_GPA": null,
          "major_GPA": 3.7
         },
         {
          "PGRE": 590,
          "QGRE": 166,
          "VGRE": 160,
          "WGRE": 5,
          "a_GPA": 3.55,
          "major_GPA": 3.36
         },
         {
          "PGRE": 640,
          "QGRE": 157,
          "VGRE": 164,
          "WGRE": 4.5,
          "a_GPA": 3.66,
          "major_GPA": 3.55
         },
         {
          "PGRE": 990,
          "QGRE": 168,
          "VGRE": 166,
          "WGRE": 4.5,
          "a_GPA": 3.9,
          "major_GPA": null
         },
         {
          "PGRE": 890,
          "QGRE": 170,
          "VGRE": 166,
          "WGRE": 5,
          "a_GPA": 3.84,
          "major_GPA": 3.89
         },
         {
          "PGRE": 790,
          "QGRE": 165,
          "VGRE": 166,
          "WGRE": 4,
          "a_GPA": 3.45,
          "major_GPA": 3.55
         },
         {
          "PGRE": 950,
          "QGRE": 170,
          "VGRE": 168,
          "WGRE": 4.5,
          "a_GPA": 3.68,
          "major_GPA": 3.87
         },
         {
          "PGRE": 740,
          "QGRE": 165,
          "VGRE": 153,
          "WGRE": 5,
          "a_GPA": null,
          "major_GPA": 62
         },
         {
          "PGRE": 990,
          "QGRE": 163,
          "VGRE": 143,
          "WGRE": 2.5,
          "a_GPA": 3.6,
          "major_GPA": 3.6
         },
         {
          "PGRE": 940,
          "QGRE": 167,
          "VGRE": 156,
          "WGRE": 3,
          "a_GPA": 3.86,
          "major_GPA": 3.93
         },
         {
          "PGRE": 640,
          "QGRE": 159,
          "VGRE": 159,
          "WGRE": 3,
          "a_GPA": 3.87,
          "major_GPA": 3.88
         },
         {
          "PGRE": null,
          "QGRE": 156,
          "VGRE": 150,
          "WGRE": null,
          "a_GPA": 3.5,
          "major_GPA": 3.95
         },
         {
          "PGRE": null,
          "QGRE": 170,
          "VGRE": 166,
          "WGRE": 5,
          "a_GPA": 3.8,
          "major_GPA": 3.9
         },
         {
          "PGRE": 990,
          "QGRE": 170,
          "VGRE": 163,
          "WGRE": 5,
          "a_GPA": 4,
          "major_GPA": 4
         },
         {
          "PGRE": 580,
          "QGRE": 153,
          "VGRE": 153,
          "WGRE": 4.5,
          "a_GPA": 3.81,
          "major_GPA": 3.77
         },
         {
          "PGRE": 680,
          "QGRE": 157,
          "VGRE": 159,
          "WGRE": 5,
          "a_GPA": 3.85,
          "major_GPA": 3.93
         },
         {
          "PGRE": null,
          "QGRE": null,
          "VGRE": null,
          "WGRE": 4,
          "a_GPA": null,
          "major_GPA": null
         },
         {
          "PGRE": 810,
          "QGRE": 168,
          "VGRE": 164,
          "WGRE": 5,
          "a_GPA": 3.34,
          "major_GPA": 3.44
         },
         {
          "PGRE": null,
          "QGRE": 169,
          "VGRE": 160,
          "WGRE": 4.5,
          "a_GPA": 3.85,
          "major_GPA": 3.9
         },
         {
          "PGRE": 710,
          "QGRE": 170,
          "VGRE": 163,
          "WGRE": 4.5,
          "a_GPA": 3.73,
          "major_GPA": 3.8
         },
         {
          "PGRE": 840,
          "QGRE": 166,
          "VGRE": 155,
          "WGRE": 4,
          "a_GPA": 3.96,
          "major_GPA": 3.92
         },
         {
          "PGRE": 990,
          "QGRE": 170,
          "VGRE": 163,
          "WGRE": 4,
          "a_GPA": 4,
          "major_GPA": 4
         },
         {
          "PGRE": 910,
          "QGRE": 168,
          "VGRE": 168,
          "WGRE": 5,
          "a_GPA": 3.9,
          "major_GPA": 3.86
         },
         {
          "PGRE": 960,
          "QGRE": null,
          "VGRE": null,
          "WGRE": 4.5,
          "a_GPA": null,
          "major_GPA": null
         },
         {
          "PGRE": 990,
          "QGRE": 170,
          "VGRE": 164,
          "WGRE": 5,
          "a_GPA": 3.99,
          "major_GPA": 4
         },
         {
          "PGRE": 700,
          "QGRE": 166,
          "VGRE": 149,
          "WGRE": 4,
          "a_GPA": 3.4,
          "major_GPA": 3.55
         },
         {
          "PGRE": null,
          "QGRE": null,
          "VGRE": null,
          "WGRE": null,
          "a_GPA": 4,
          "major_GPA": 4
         },
         {
          "PGRE": 850,
          "QGRE": 161,
          "VGRE": 160,
          "WGRE": 4.5,
          "a_GPA": 3.5,
          "major_GPA": 3.75
         },
         {
          "PGRE": 990,
          "QGRE": 168,
          "VGRE": 170,
          "WGRE": 4,
          "a_GPA": 3.96,
          "major_GPA": 3.95
         },
         {
          "PGRE": 810,
          "QGRE": 156,
          "VGRE": 155,
          "WGRE": 4,
          "a_GPA": 3.6,
          "major_GPA": 3.75
         },
         {
          "PGRE": 690,
          "QGRE": 164,
          "VGRE": 166,
          "WGRE": 4,
          "a_GPA": 3.76,
          "major_GPA": 3.7
         },
         {
          "PGRE": 820,
          "QGRE": 170,
          "VGRE": 167,
          "WGRE": 4,
          "a_GPA": 3.63,
          "major_GPA": 3.81
         },
         {
          "PGRE": 850,
          "QGRE": 163,
          "VGRE": 167,
          "WGRE": 4.5,
          "a_GPA": 3.3,
          "major_GPA": 3.3
         },
         {
          "PGRE": 960,
          "QGRE": 168,
          "VGRE": 162,
          "WGRE": 3.5,
          "a_GPA": 3.99,
          "major_GPA": 3.98
         },
         {
          "PGRE": 750,
          "QGRE": 158,
          "VGRE": 151,
          "WGRE": 4.5,
          "a_GPA": 3.7,
          "major_GPA": 3.66
         },
         {
          "PGRE": 620,
          "QGRE": 160,
          "VGRE": 164,
          "WGRE": 4,
          "a_GPA": 3.9,
          "major_GPA": 3.9
         },
         {
          "PGRE": 670,
          "QGRE": 164,
          "VGRE": 155,
          "WGRE": 3.5,
          "a_GPA": 3.89,
          "major_GPA": 3.94
         },
         {
          "PGRE": 680,
          "QGRE": 163,
          "VGRE": 163,
          "WGRE": 4,
          "a_GPA": 3.45,
          "major_GPA": 3.25
         },
         {
          "PGRE": 990,
          "QGRE": 165,
          "VGRE": 155,
          "WGRE": 3,
          "a_GPA": 4,
          "major_GPA": null
         },
         {
          "PGRE": 580,
          "QGRE": 163,
          "VGRE": 161,
          "WGRE": 5,
          "a_GPA": 3.4,
          "major_GPA": 3.5
         },
         {
          "PGRE": 900,
          "QGRE": 162,
          "VGRE": 162,
          "WGRE": 4.5,
          "a_GPA": 3.85,
          "major_GPA": 3.95
         },
         {
          "PGRE": 680,
          "QGRE": 163,
          "VGRE": 156,
          "WGRE": 5.5,
          "a_GPA": 3.39,
          "major_GPA": 3.55
         },
         {
          "PGRE": 600,
          "QGRE": 152,
          "VGRE": 157,
          "WGRE": 4.5,
          "a_GPA": 3.6,
          "major_GPA": 3.5
         }
        ]
       },
       "encoding": {
        "size": {
         "field": "PGRE",
         "type": "quantitative"
        },
        "x": {
         "field": "PGRE",
         "scale": {
          "domain": [
           500,
           1000
          ]
         },
         "type": "quantitative"
        },
        "y": {
         "field": "a_GPA",
         "scale": {
          "clamp": true,
          "domain": [
           2.8,
           4.1
          ]
         },
         "type": "quantitative"
        }
       },
       "mark": "point",
       "width": 500
      },
      "text/plain": [
       "<VegaLite 2 object>"
      ]
     },
     "execution_count": 306,
     "metadata": {},
     "output_type": "execute_result"
    }
   ],
   "source": [
    "alt.Chart(df).mark_point().encode(\n",
    "    alt.X('PGRE', scale=alt.Scale(domain=(500,1000))),\n",
    "    alt.Y('a_GPA', scale=alt.Scale(domain=(2.8,4.1), clamp=True)),\n",
    "    size='PGRE',\n",
    ").properties(\n",
    "    width=500\n",
    ")\n"
   ]
  },
  {
   "cell_type": "code",
   "execution_count": null,
   "metadata": {},
   "outputs": [],
   "source": []
  }
 ],
 "metadata": {
  "kernelspec": {
   "display_name": "Python 3",
   "language": "python",
   "name": "python3"
  },
  "language_info": {
   "codemirror_mode": {
    "name": "ipython",
    "version": 3
   },
   "file_extension": ".py",
   "mimetype": "text/x-python",
   "name": "python",
   "nbconvert_exporter": "python",
   "pygments_lexer": "ipython3",
   "version": "3.6.4"
  }
 },
 "nbformat": 4,
 "nbformat_minor": 2
}
