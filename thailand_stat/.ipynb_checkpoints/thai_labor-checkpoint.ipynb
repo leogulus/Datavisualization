{
 "cells": [
  {
   "cell_type": "markdown",
   "metadata": {},
   "source": [
    "data: http://web.nso.go.th/en/survey/desire/desire_08.htm\n",
    "http://web.nso.go.th/en/survey/education/edu_2011.htm\n",
    "\n"
   ]
  },
  {
   "cell_type": "code",
   "execution_count": 63,
   "metadata": {
    "collapsed": true
   },
   "outputs": [],
   "source": [
    "import pandas as pd\n",
    "import numpy as np\n",
    "\n",
    "import matplotlib.pyplot as plt\n",
    "\n",
    "%matplotlib inline"
   ]
  },
  {
   "cell_type": "code",
   "execution_count": 56,
   "metadata": {
    "collapsed": true
   },
   "outputs": [],
   "source": [
    "## What do Thai people read on?\n",
    "df21=pd.read_excel(\"thai_data/Reading_of_Population/Table 21.xls\", header=6, names=np.arange(0,9,1))\n",
    "\n",
    "## What do Thai people read? \n",
    "df26=pd.read_excel(\"thai_data/Reading_of_Population/Table 26.xls\", header=6, names=np.arange(0,9,1))"
   ]
  },
  {
   "cell_type": "code",
   "execution_count": 60,
   "metadata": {},
   "outputs": [],
   "source": [
    "readon=df21[[8,1,2,3,4,5,6]]\n",
    "readon=readon.dropna()\n",
    "readon=readon.rename(index=str, columns={8:\"Publication\", 1:\"total\",2:\"6-14\",3:\"15-14\",4:\"25-39\",5:\"40-59\",6:\"60+\"})\n",
    "readon=readon.set_index('Publication')\n",
    "\n",
    "readwhat=df26[[8,1,2,3,4,5,6]]\n",
    "readwhat=readwhat.dropna()\n",
    "readwhat=readwhat.rename(index=str, columns={8:\"Content\", 1:\"total\",2:\"6-14\",3:\"15-14\",4:\"25-39\",5:\"40-59\",6:\"60+\"})"
   ]
  },
  {
   "cell_type": "code",
   "execution_count": 68,
   "metadata": {},
   "outputs": [
    {
     "data": {
      "text/plain": [
       "<matplotlib.legend.Legend at 0x116da8e90>"
      ]
     },
     "execution_count": 68,
     "metadata": {},
     "output_type": "execute_result"
    },
    {
     "data": {
      "image/png": "[encoded data removed]",
      "text/plain": [
       "<matplotlib.figure.Figure at 0x116d18ed0>"
      ]
     },
     "metadata": {},
     "output_type": "display_data"
    }
   ],
   "source": [
    "readon.plot.pie(\"total\")\n",
    "plt.legend(labels=readon.Publication, loc=\"best\")\n"
   ]
  },
  {
   "cell_type": "code",
   "execution_count": 69,
   "metadata": {},
   "outputs": [
    {
     "data": {
      "text/html": [
       "<div>\n",
       "<style>\n",
       "    .dataframe thead tr:only-child th {\n",
       "        text-align: right;\n",
       "    }\n",
       "\n",
       "    .dataframe thead th {\n",
       "        text-align: left;\n",
       "    }\n",
       "\n",
       "    .dataframe tbody tr th {\n",
       "        vertical-align: top;\n",
       "    }\n",
       "</style>\n",
       "<table border=\"1\" class=\"dataframe\">\n",
       "  <thead>\n",
       "    <tr style=\"text-align: right;\">\n",
       "      <th></th>\n",
       "      <th>total</th>\n",
       "      <th>6-14</th>\n",
       "      <th>15-14</th>\n",
       "      <th>25-39</th>\n",
       "      <th>40-59</th>\n",
       "      <th>60+</th>\n",
       "    </tr>\n",
       "    <tr>\n",
       "      <th>Publication</th>\n",
       "      <th></th>\n",
       "      <th></th>\n",
       "      <th></th>\n",
       "      <th></th>\n",
       "      <th></th>\n",
       "      <th></th>\n",
       "    </tr>\n",
       "  </thead>\n",
       "  <tbody>\n",
       "    <tr>\n",
       "      <th>Newspaper</th>\n",
       "      <td>32398187</td>\n",
       "      <td>1326391.0</td>\n",
       "      <td>5810957.0</td>\n",
       "      <td>10099140</td>\n",
       "      <td>11885847.0</td>\n",
       "      <td>3275852.0</td>\n",
       "    </tr>\n",
       "    <tr>\n",
       "      <th>Magazine</th>\n",
       "      <td>19087624</td>\n",
       "      <td>820411.0</td>\n",
       "      <td>4295538.0</td>\n",
       "      <td>6572406</td>\n",
       "      <td>6195272.0</td>\n",
       "      <td>1203996.0</td>\n",
       "    </tr>\n",
       "    <tr>\n",
       "      <th>Journal/regularity publish document</th>\n",
       "      <td>20059737</td>\n",
       "      <td>1247873.0</td>\n",
       "      <td>3978995.0</td>\n",
       "      <td>5818326</td>\n",
       "      <td>7031065.0</td>\n",
       "      <td>1983478.0</td>\n",
       "    </tr>\n",
       "    <tr>\n",
       "      <th>Novel/cartoon/story</th>\n",
       "      <td>17704030</td>\n",
       "      <td>4378050.0</td>\n",
       "      <td>4885668.0</td>\n",
       "      <td>4662675</td>\n",
       "      <td>3223038.0</td>\n",
       "      <td>554598.0</td>\n",
       "    </tr>\n",
       "    <tr>\n",
       "      <th>Textbook</th>\n",
       "      <td>13569557</td>\n",
       "      <td>6458325.0</td>\n",
       "      <td>4840520.0</td>\n",
       "      <td>1227997</td>\n",
       "      <td>903605.0</td>\n",
       "      <td>139111.0</td>\n",
       "    </tr>\n",
       "    <tr>\n",
       "      <th>Book (excluding textbook)</th>\n",
       "      <td>24039671</td>\n",
       "      <td>3886182.0</td>\n",
       "      <td>5502721.0</td>\n",
       "      <td>6002323</td>\n",
       "      <td>6749485.0</td>\n",
       "      <td>1898960.0</td>\n",
       "    </tr>\n",
       "    <tr>\n",
       "      <th>Religious doctrine document</th>\n",
       "      <td>20040398</td>\n",
       "      <td>1707563.0</td>\n",
       "      <td>2531033.0</td>\n",
       "      <td>4006116</td>\n",
       "      <td>7625323.0</td>\n",
       "      <td>4170362.0</td>\n",
       "    </tr>\n",
       "    <tr>\n",
       "      <th>Message in social media/SMS/E-mail</th>\n",
       "      <td>24741399</td>\n",
       "      <td>2044074.0</td>\n",
       "      <td>7052498.0</td>\n",
       "      <td>9060583</td>\n",
       "      <td>5930378.0</td>\n",
       "      <td>653866.0</td>\n",
       "    </tr>\n",
       "  </tbody>\n",
       "</table>\n",
       "</div>"
      ],
      "text/plain": [
       "                                        total       6-14      15-14     25-39  \\\n",
       "Publication                                                                     \n",
       "Newspaper                            32398187  1326391.0  5810957.0  10099140   \n",
       "Magazine                             19087624   820411.0  4295538.0   6572406   \n",
       "Journal/regularity publish document  20059737  1247873.0  3978995.0   5818326   \n",
       "Novel/cartoon/story                  17704030  4378050.0  4885668.0   4662675   \n",
       "Textbook                             13569557  6458325.0  4840520.0   1227997   \n",
       "Book (excluding textbook)            24039671  3886182.0  5502721.0   6002323   \n",
       "Religious doctrine document          20040398  1707563.0  2531033.0   4006116   \n",
       "Message in social media/SMS/E-mail   24741399  2044074.0  7052498.0   9060583   \n",
       "\n",
       "                                          40-59        60+  \n",
       "Publication                                                 \n",
       "Newspaper                            11885847.0  3275852.0  \n",
       "Magazine                              6195272.0  1203996.0  \n",
       "Journal/regularity publish document   7031065.0  1983478.0  \n",
       "Novel/cartoon/story                   3223038.0   554598.0  \n",
       "Textbook                               903605.0   139111.0  \n",
       "Book (excluding textbook)             6749485.0  1898960.0  \n",
       "Religious doctrine document           7625323.0  4170362.0  \n",
       "Message in social media/SMS/E-mail    5930378.0   653866.0  "
      ]
     },
     "execution_count": 69,
     "metadata": {},
     "output_type": "execute_result"
    }
   ],
   "source": [
    "readon.set_index('Publication')"
   ]
  },
  {
   "cell_type": "code",
   "execution_count": null,
   "metadata": {
    "collapsed": true
   },
   "outputs": [],
   "source": []
  }
 ],
 "metadata": {
  "kernelspec": {
   "display_name": "Python [conda root]",
   "language": "python",
   "name": "conda-root-py"
  },
  "language_info": {
   "codemirror_mode": {
    "name": "ipython",
    "version": 2
   },
   "file_extension": ".py",
   "mimetype": "text/x-python",
   "name": "python",
   "nbconvert_exporter": "python",
   "pygments_lexer": "ipython2",
   "version": "2.7.13"
  }
 },
 "nbformat": 4,
 "nbformat_minor": 2
}
